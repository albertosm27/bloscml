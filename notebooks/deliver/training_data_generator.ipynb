{
 "cells": [
  {
   "cell_type": "markdown",
   "metadata": {
    "deletable": true,
    "editable": true
   },
   "source": [
    "# Generador de los datos de entrenamiento"
   ]
  },
  {
   "cell_type": "markdown",
   "metadata": {
    "deletable": true,
    "editable": true
   },
   "source": [
    "## Objetivos del análisis\n",
    "* Extraer el data frame final con los datos preparados para entrenar algoritmos machine learning."
   ]
  },
  {
   "cell_type": "markdown",
   "metadata": {
    "deletable": true,
    "editable": true
   },
   "source": [
    "## Descripción de la muestra\n",
    "\n",
    "El DataFrame en cuestión está formado por las características extraídas de un array de datos al comprimirlo y descomprimirlo mediante blosc. En cada fichero aparecen distintos conjuntos de datos los cuáles dividimos en fragmentos de 16 MegaBytes y sobre los cuales realizamos las pruebas de compresión y decompresión.  \n",
    "Cada fila se corresponde con los datos de realizar los test de compresión sobre un fragmento (*chunk*) de datos específico con un tamaño de bloque, codec, filtro y nivel de compresión determinados.\n",
    "\n",
    "Variable | Descripción\n",
    "-------------  | -------------\n",
    "*Filename* | nombre del fichero del que proviene.\n",
    "*DataSet* | dentro del fichero el conjunto de datos del que proviene.\n",
    "*Table* | 0 si los datos vienen de un array, 1 si vienen de tablas y 2 para tablas columnares.\n",
    "*DType* | indica el tipo de los datos.\n",
    "*Chunk_Number* | número de fragmento dentro del conjunto de datos.\n",
    "*Chunk_Size* | tamaño del fragmento.\n",
    "*Mean* | la media.\n",
    "*Median* | la mediana.\n",
    "*Sd* | la desviación típica.\n",
    "*Skew* | el coeficiente de asimetría.\n",
    "*Kurt* | el coeficiente de apuntamiento.\n",
    "*Min* | el mínimo absoluto.\n",
    "*Max* | el máximo absoluto.\n",
    "*Q1* | el primer cuartil.\n",
    "*Q3* | el tercer cuartil.\n",
    "*N_Streaks* | número de rachas seguidas por encima o debajo de la mediana.\n",
    "*Block_Size* | el tamaño de bloque que utilizará Blosc para comprimir.\n",
    "*Codec* | el codec de blosc utilizado.\n",
    "*Filter* | el filtro de blosc utilizado.\n",
    "*CL* | el nivel de compresión utilizado.\n",
    "*CRate* | el ratio de compresión obtenido.\n",
    "*CSpeed* | la velocidad de compresión obtenida en GB/s.\n",
    "*DSpeed* | la velocidad de decompresión obtenida en GB/s."
   ]
  },
  {
   "cell_type": "code",
   "execution_count": 1,
   "metadata": {
    "collapsed": false,
    "deletable": true,
    "editable": true
   },
   "outputs": [
    {
     "data": {
      "application/json": {
       "Software versions": [
        {
         "module": "Python",
         "version": "3.5.3 64bit [GCC 4.4.7 20120313 (Red Hat 4.4.7-1)]"
        },
        {
         "module": "IPython",
         "version": "5.1.0"
        },
        {
         "module": "OS",
         "version": "Linux 4.9.16 gentoo x86_64 with debian stretch sid"
        },
        {
         "module": "numpy",
         "version": "1.12.1"
        },
        {
         "module": "scipy",
         "version": "0.19.0"
        },
        {
         "module": "matplotlib",
         "version": "2.0.0"
        },
        {
         "module": "pandas",
         "version": "0.19.2"
        }
       ]
      },
      "text/html": [
       "<table><tr><th>Software</th><th>Version</th></tr><tr><td>Python</td><td>3.5.3 64bit [GCC 4.4.7 20120313 (Red Hat 4.4.7-1)]</td></tr><tr><td>IPython</td><td>5.1.0</td></tr><tr><td>OS</td><td>Linux 4.9.16 gentoo x86_64 with debian stretch sid</td></tr><tr><td>numpy</td><td>1.12.1</td></tr><tr><td>scipy</td><td>0.19.0</td></tr><tr><td>matplotlib</td><td>2.0.0</td></tr><tr><td>pandas</td><td>0.19.2</td></tr><tr><td colspan='2'>Tue Apr 04 17:38:05 2017 UTC</td></tr></table>"
      ],
      "text/latex": [
       "\\begin{tabular}{|l|l|}\\hline\n",
       "{\\bf Software} & {\\bf Version} \\\\ \\hline\\hline\n",
       "Python & 3.5.3 64bit [GCC 4.4.7 20120313 (Red Hat 4.4.7-1)] \\\\ \\hline\n",
       "IPython & 5.1.0 \\\\ \\hline\n",
       "OS & Linux 4.9.16 gentoo x86\\_64 with debian stretch sid \\\\ \\hline\n",
       "numpy & 1.12.1 \\\\ \\hline\n",
       "scipy & 0.19.0 \\\\ \\hline\n",
       "matplotlib & 2.0.0 \\\\ \\hline\n",
       "pandas & 0.19.2 \\\\ \\hline\n",
       "\\hline \\multicolumn{2}{|l|}{Tue Apr 04 17:38:05 2017 UTC} \\\\ \\hline\n",
       "\\end{tabular}\n"
      ],
      "text/plain": [
       "Software versions\n",
       "Python 3.5.3 64bit [GCC 4.4.7 20120313 (Red Hat 4.4.7-1)]\n",
       "IPython 5.1.0\n",
       "OS Linux 4.9.16 gentoo x86_64 with debian stretch sid\n",
       "numpy 1.12.1\n",
       "scipy 0.19.0\n",
       "matplotlib 2.0.0\n",
       "pandas 0.19.2\n",
       "Tue Apr 04 17:38:05 2017 UTC"
      ]
     },
     "execution_count": 1,
     "metadata": {},
     "output_type": "execute_result"
    }
   ],
   "source": [
    "%load_ext autoreload\n",
    "%autoreload 2\n",
    "\n",
    "%load_ext version_information\n",
    "%version_information numpy, scipy, matplotlib, pandas"
   ]
  },
  {
   "cell_type": "code",
   "execution_count": 2,
   "metadata": {
    "collapsed": true,
    "deletable": true,
    "editable": true
   },
   "outputs": [],
   "source": [
    "import numpy as np\n",
    "import pandas as pd\n",
    "from IPython.display import display\n",
    "\n",
    "pd.options.display.float_format = '{:,.3f}'.format"
   ]
  },
  {
   "cell_type": "code",
   "execution_count": 3,
   "metadata": {
    "collapsed": true,
    "deletable": true,
    "editable": true
   },
   "outputs": [],
   "source": [
    "CHUNK_ID = [\"Filename\", \"DataSet\", \"Table\", \"Chunk_Number\"]\n",
    "#CHUNK_FEATURES = [\"Table\", \"DType\", \"Chunk_Size\", \"Mean\", \"Median\", \"Sd\", \"Skew\", \"Kurt\", \"Min\", \"Max\", \"Q1\", \"Q3\", \"N_Streaks\"]\n",
    "CHUNK_FEATURES = [\"Table\", \"DType\", \"Chunk_Size\", \"Mean\", \"Median\", \"Sd\", \"Skew\", \"Kurt\", \"Min\", \"Max\", \"Q1\", \"Q3\"]\n",
    "OUT_OPTIONS = [\"Block_Size\", \"Codec\", \"Filter\", \"CL\"]\n",
    "TEST_FEATURES = [\"CRate\", \"CSpeed\", \"DSpeed\"]\n",
    "COLS = [\"Filename\" , \"DataSet\", \"Chunk_Number\"] + CHUNK_FEATURES + OUT_OPTIONS + TEST_FEATURES\n",
    "IN_TESTS = ['BLZ_CRate', 'BLZ_CSpeed', 'BLZ_DSpeed', 'LZ4_CRate', 'LZ4_CSpeed', 'LZ4_DSpeed']\n",
    "IN_USER = ['IN_CR', 'IN_CS', 'IN_DS']"
   ]
  },
  {
   "cell_type": "code",
   "execution_count": 4,
   "metadata": {
    "collapsed": false,
    "deletable": true,
    "editable": true
   },
   "outputs": [],
   "source": [
    "df = pd.read_csv('../data/blosc_test_data.csv.gz', sep='\\t')\n",
    "my_df = df[(df.Filename != 'WRF_India-LSD1.h5') & (df.Filename != 'WRF_India-LSD2.h5') \n",
    "           & (df.Filename != 'WRF_India-LSD3.h5') & (df.CL != 0) & (df.CRate > 1.1)]"
   ]
  },
  {
   "cell_type": "code",
   "execution_count": 5,
   "metadata": {
    "collapsed": false,
    "deletable": true,
    "editable": true
   },
   "outputs": [
    {
     "name": "stdout",
     "output_type": "stream",
     "text": [
      "673 rows\n",
      "CPU times: user 1min 24s, sys: 32 ms, total: 1min 24s\n",
      "Wall time: 1min 24s\n"
     ]
    }
   ],
   "source": [
    "%%time\n",
    "# DATAFRAME WITH DISTINCT CHUNKS\n",
    "chunks_df = my_df.drop_duplicates(subset=CHUNK_ID)\n",
    "print(\"%d rows\" % chunks_df.shape[0])\n",
    "chunk_tests_list = []\n",
    "# FOR EACH CHUNK\n",
    "for index, row in chunks_df.iterrows():\n",
    "    # DATAFRAME WITH CHUNK TESTS\n",
    "    chunk_tests_list.append(my_df[(my_df.Filename == row[\"Filename\"]) & (my_df.DataSet == row[\"DataSet\"]) &\n",
    "                        (my_df.Table == row[\"Table\"]) & (my_df.Chunk_Number == row[\"Chunk_Number\"])])"
   ]
  },
  {
   "cell_type": "code",
   "execution_count": 6,
   "metadata": {
    "collapsed": false,
    "deletable": true,
    "editable": true,
    "scrolled": true
   },
   "outputs": [
    {
     "name": "stdout",
     "output_type": "stream",
     "text": [
      "CPU times: user 2min 42s, sys: 68 ms, total: 2min 42s\n",
      "Wall time: 2min 42s\n"
     ]
    }
   ],
   "source": [
    "%%time\n",
    "training_df = pd.DataFrame()\n",
    "for chunk_test in chunk_tests_list:\n",
    "    # EXTRACT MAX MIN AND SOME AUX MAX INDICES\n",
    "    i_max_crate, i_max_c_speed, i_max_d_speed = chunk_test['CRate'].idxmax(), chunk_test['CSpeed'].idxmax(),\\\n",
    "                                                chunk_test['DSpeed'].idxmax()\n",
    "    max_crate, max_c_speed, max_d_speed = (chunk_test.ix[i_max_crate]['CRate'], chunk_test.ix[i_max_c_speed]['CSpeed'],\n",
    "                                           chunk_test.ix[i_max_d_speed]['DSpeed'])\n",
    "\n",
    "    min_crate, min_c_speed, min_d_speed = (chunk_test['CRate'].min(), chunk_test['CSpeed'].min(),\n",
    "                                           chunk_test['DSpeed'].min())\n",
    "    # NORMALIZED COLUMNS\n",
    "    chunk_test = chunk_test.assign(N_CRate=(chunk_test['CRate'] - min_crate) / (max_crate - min_crate),\n",
    "                                   N_CSpeed=(chunk_test['CSpeed'] - min_c_speed) / (max_c_speed - min_c_speed),\n",
    "                                   N_DSpeed=(chunk_test['DSpeed'] - min_d_speed) / (max_d_speed - min_d_speed))\n",
    "    # DISTANCE FUNC COLUMNS\n",
    "    chunk_test = chunk_test.assign(Distance_1=(chunk_test['N_CRate'] - 1)**2 + (chunk_test['N_CSpeed'] - 1)**2,\n",
    "                                   Distance_2=(chunk_test['N_CRate'] - 1) ** 2 + (chunk_test['N_DSpeed'] - 1) ** 2,\n",
    "                                   Distance_3=(chunk_test['N_CRate'] - 1) ** 2 + (chunk_test['N_DSpeed'] - 1) ** 2 +\n",
    "                                              (chunk_test['N_CSpeed'] - 1) ** 2,\n",
    "                                   Distance_4=(chunk_test['N_CSpeed'] - 1) ** 2 + (chunk_test['N_DSpeed'] - 1) ** 2\n",
    "                                   )\n",
    "    # BALANCED INDICES\n",
    "    i_balanced_c_speed, i_balanced_d_speed, i_balanced, i_balanced_speeds = (chunk_test['Distance_1'].idxmin(),\n",
    "                                                                             chunk_test['Distance_2'].idxmin(),\n",
    "                                                                             chunk_test['Distance_3'].idxmin(),\n",
    "                                                                             chunk_test['Distance_4'].idxmin())\n",
    "    indices = [i_max_d_speed, i_max_c_speed, i_balanced_speeds, i_max_crate, i_balanced_d_speed, i_balanced_c_speed,\n",
    "               i_balanced]\n",
    "    # TYPE FILTER FOR LZ_DATA\n",
    "    d_type = chunk_test.iloc[0]['DType']\n",
    "    filter_name = 'noshuffle'\n",
    "    if 'float' in d_type or 'int' in d_type:\n",
    "        filter_name = 'shuffle'\n",
    "    aux = df[(df.CL == 1) & (df.Block_Size == 0) & (df.Filter == filter_name) &\n",
    "             (df.Filename == chunk_test.iloc[0]['Filename']) & (df.DataSet == chunk_test.iloc[0]['DataSet']) &\n",
    "             (df.Table == chunk_test.iloc[0]['Table']) & (df.Chunk_Number == chunk_test.iloc[0]['Chunk_Number'])]\n",
    "    lz_data = np.append(aux[aux.Codec == 'blosclz'][TEST_FEATURES].values[0],\n",
    "                        aux[aux.Codec == 'lz4'][TEST_FEATURES].values[0])\n",
    "    # APPEND ROWS TO TRAINING DATA FRAME\n",
    "    for i in range(len(indices)):\n",
    "        in_1, r = divmod((i+1), 4)\n",
    "        in_2, in_3 = divmod(r, 2)\n",
    "        training_df = training_df.append(dict(zip(COLS + IN_TESTS + IN_USER,\n",
    "                                                  np.append(np.append(chunk_test.ix[indices[i]][COLS].values,\n",
    "                                                                      lz_data),\n",
    "                                                            [in_1, in_2, in_3]))),\n",
    "                                         ignore_index=True)"
   ]
  },
  {
   "cell_type": "markdown",
   "metadata": {
    "deletable": true,
    "editable": true
   },
   "source": [
    "## Algunas comprobaciones"
   ]
  },
  {
   "cell_type": "code",
   "execution_count": 7,
   "metadata": {
    "collapsed": false,
    "deletable": true,
    "editable": true,
    "scrolled": true
   },
   "outputs": [
    {
     "name": "stdout",
     "output_type": "stream",
     "text": [
      "DISTINCT MAX RATE\n",
      "24 rows\n"
     ]
    },
    {
     "data": {
      "text/html": [
       "<div>\n",
       "<table border=\"1\" class=\"dataframe\">\n",
       "  <thead>\n",
       "    <tr style=\"text-align: right;\">\n",
       "      <th></th>\n",
       "      <th>Block_Size</th>\n",
       "      <th>Codec</th>\n",
       "      <th>Filter</th>\n",
       "      <th>CL</th>\n",
       "      <th>CRate</th>\n",
       "      <th>CSpeed</th>\n",
       "      <th>DSpeed</th>\n",
       "    </tr>\n",
       "  </thead>\n",
       "  <tbody>\n",
       "    <tr>\n",
       "      <th>3</th>\n",
       "      <td>2,048.000</td>\n",
       "      <td>zstd</td>\n",
       "      <td>shuffle</td>\n",
       "      <td>9.000</td>\n",
       "      <td>1.366</td>\n",
       "      <td>0.014</td>\n",
       "      <td>3.320</td>\n",
       "    </tr>\n",
       "    <tr>\n",
       "      <th>654</th>\n",
       "      <td>0.000</td>\n",
       "      <td>zstd</td>\n",
       "      <td>shuffle</td>\n",
       "      <td>9.000</td>\n",
       "      <td>49.115</td>\n",
       "      <td>0.066</td>\n",
       "      <td>4.596</td>\n",
       "    </tr>\n",
       "    <tr>\n",
       "      <th>661</th>\n",
       "      <td>0.000</td>\n",
       "      <td>zstd</td>\n",
       "      <td>shuffle</td>\n",
       "      <td>8.000</td>\n",
       "      <td>1.212</td>\n",
       "      <td>0.011</td>\n",
       "      <td>1.145</td>\n",
       "    </tr>\n",
       "    <tr>\n",
       "      <th>668</th>\n",
       "      <td>0.000</td>\n",
       "      <td>zstd</td>\n",
       "      <td>shuffle</td>\n",
       "      <td>7.000</td>\n",
       "      <td>1.179</td>\n",
       "      <td>0.013</td>\n",
       "      <td>1.050</td>\n",
       "    </tr>\n",
       "    <tr>\n",
       "      <th>696</th>\n",
       "      <td>2,048.000</td>\n",
       "      <td>zstd</td>\n",
       "      <td>bitshuffle</td>\n",
       "      <td>9.000</td>\n",
       "      <td>4.588</td>\n",
       "      <td>0.057</td>\n",
       "      <td>2.761</td>\n",
       "    </tr>\n",
       "  </tbody>\n",
       "</table>\n",
       "</div>"
      ],
      "text/plain": [
       "     Block_Size Codec      Filter    CL  CRate  CSpeed  DSpeed\n",
       "3     2,048.000  zstd     shuffle 9.000  1.366   0.014   3.320\n",
       "654       0.000  zstd     shuffle 9.000 49.115   0.066   4.596\n",
       "661       0.000  zstd     shuffle 8.000  1.212   0.011   1.145\n",
       "668       0.000  zstd     shuffle 7.000  1.179   0.013   1.050\n",
       "696   2,048.000  zstd  bitshuffle 9.000  4.588   0.057   2.761"
      ]
     },
     "metadata": {},
     "output_type": "display_data"
    },
    {
     "name": "stdout",
     "output_type": "stream",
     "text": [
      "DISTINCT MAX C.SPEED\n",
      "121 rows\n"
     ]
    },
    {
     "data": {
      "text/html": [
       "<div>\n",
       "<table border=\"1\" class=\"dataframe\">\n",
       "  <thead>\n",
       "    <tr style=\"text-align: right;\">\n",
       "      <th></th>\n",
       "      <th>Block_Size</th>\n",
       "      <th>Codec</th>\n",
       "      <th>Filter</th>\n",
       "      <th>CL</th>\n",
       "      <th>CRate</th>\n",
       "      <th>CSpeed</th>\n",
       "      <th>DSpeed</th>\n",
       "    </tr>\n",
       "  </thead>\n",
       "  <tbody>\n",
       "    <tr>\n",
       "      <th>1</th>\n",
       "      <td>64.000</td>\n",
       "      <td>lz4</td>\n",
       "      <td>shuffle</td>\n",
       "      <td>3.000</td>\n",
       "      <td>1.244</td>\n",
       "      <td>6.440</td>\n",
       "      <td>8.259</td>\n",
       "    </tr>\n",
       "    <tr>\n",
       "      <th>8</th>\n",
       "      <td>16.000</td>\n",
       "      <td>lz4</td>\n",
       "      <td>shuffle</td>\n",
       "      <td>1.000</td>\n",
       "      <td>1.233</td>\n",
       "      <td>6.758</td>\n",
       "      <td>8.311</td>\n",
       "    </tr>\n",
       "    <tr>\n",
       "      <th>22</th>\n",
       "      <td>0.000</td>\n",
       "      <td>lz4</td>\n",
       "      <td>shuffle</td>\n",
       "      <td>1.000</td>\n",
       "      <td>1.217</td>\n",
       "      <td>6.533</td>\n",
       "      <td>8.251</td>\n",
       "    </tr>\n",
       "    <tr>\n",
       "      <th>29</th>\n",
       "      <td>64.000</td>\n",
       "      <td>lz4</td>\n",
       "      <td>shuffle</td>\n",
       "      <td>1.000</td>\n",
       "      <td>1.225</td>\n",
       "      <td>6.336</td>\n",
       "      <td>8.421</td>\n",
       "    </tr>\n",
       "    <tr>\n",
       "      <th>50</th>\n",
       "      <td>64.000</td>\n",
       "      <td>lz4</td>\n",
       "      <td>shuffle</td>\n",
       "      <td>4.000</td>\n",
       "      <td>1.226</td>\n",
       "      <td>6.166</td>\n",
       "      <td>8.820</td>\n",
       "    </tr>\n",
       "  </tbody>\n",
       "</table>\n",
       "</div>"
      ],
      "text/plain": [
       "    Block_Size Codec   Filter    CL  CRate  CSpeed  DSpeed\n",
       "1       64.000   lz4  shuffle 3.000  1.244   6.440   8.259\n",
       "8       16.000   lz4  shuffle 1.000  1.233   6.758   8.311\n",
       "22       0.000   lz4  shuffle 1.000  1.217   6.533   8.251\n",
       "29      64.000   lz4  shuffle 1.000  1.225   6.336   8.421\n",
       "50      64.000   lz4  shuffle 4.000  1.226   6.166   8.820"
      ]
     },
     "metadata": {},
     "output_type": "display_data"
    },
    {
     "name": "stdout",
     "output_type": "stream",
     "text": [
      "DISTINCT MAX D.SPEED\n",
      "168 rows\n"
     ]
    },
    {
     "data": {
      "text/html": [
       "<div>\n",
       "<table border=\"1\" class=\"dataframe\">\n",
       "  <thead>\n",
       "    <tr style=\"text-align: right;\">\n",
       "      <th></th>\n",
       "      <th>Block_Size</th>\n",
       "      <th>Codec</th>\n",
       "      <th>Filter</th>\n",
       "      <th>CL</th>\n",
       "      <th>CRate</th>\n",
       "      <th>CSpeed</th>\n",
       "      <th>DSpeed</th>\n",
       "    </tr>\n",
       "  </thead>\n",
       "  <tbody>\n",
       "    <tr>\n",
       "      <th>0</th>\n",
       "      <td>32.000</td>\n",
       "      <td>blosclz</td>\n",
       "      <td>shuffle</td>\n",
       "      <td>1.000</td>\n",
       "      <td>1.108</td>\n",
       "      <td>4.402</td>\n",
       "      <td>9.849</td>\n",
       "    </tr>\n",
       "    <tr>\n",
       "      <th>7</th>\n",
       "      <td>32.000</td>\n",
       "      <td>blosclz</td>\n",
       "      <td>bitshuffle</td>\n",
       "      <td>2.000</td>\n",
       "      <td>1.110</td>\n",
       "      <td>3.669</td>\n",
       "      <td>9.728</td>\n",
       "    </tr>\n",
       "    <tr>\n",
       "      <th>14</th>\n",
       "      <td>16.000</td>\n",
       "      <td>blosclz</td>\n",
       "      <td>shuffle</td>\n",
       "      <td>4.000</td>\n",
       "      <td>1.170</td>\n",
       "      <td>2.678</td>\n",
       "      <td>9.861</td>\n",
       "    </tr>\n",
       "    <tr>\n",
       "      <th>21</th>\n",
       "      <td>8.000</td>\n",
       "      <td>blosclz</td>\n",
       "      <td>shuffle</td>\n",
       "      <td>2.000</td>\n",
       "      <td>1.119</td>\n",
       "      <td>4.288</td>\n",
       "      <td>9.845</td>\n",
       "    </tr>\n",
       "    <tr>\n",
       "      <th>28</th>\n",
       "      <td>64.000</td>\n",
       "      <td>blosclz</td>\n",
       "      <td>shuffle</td>\n",
       "      <td>3.000</td>\n",
       "      <td>1.129</td>\n",
       "      <td>3.476</td>\n",
       "      <td>9.781</td>\n",
       "    </tr>\n",
       "  </tbody>\n",
       "</table>\n",
       "</div>"
      ],
      "text/plain": [
       "    Block_Size    Codec      Filter    CL  CRate  CSpeed  DSpeed\n",
       "0       32.000  blosclz     shuffle 1.000  1.108   4.402   9.849\n",
       "7       32.000  blosclz  bitshuffle 2.000  1.110   3.669   9.728\n",
       "14      16.000  blosclz     shuffle 4.000  1.170   2.678   9.861\n",
       "21       8.000  blosclz     shuffle 2.000  1.119   4.288   9.845\n",
       "28      64.000  blosclz     shuffle 3.000  1.129   3.476   9.781"
      ]
     },
     "metadata": {},
     "output_type": "display_data"
    },
    {
     "name": "stdout",
     "output_type": "stream",
     "text": [
      "DISTINCT BALANCED CSPEED\n",
      "86 rows\n"
     ]
    },
    {
     "data": {
      "text/html": [
       "<div>\n",
       "<table border=\"1\" class=\"dataframe\">\n",
       "  <thead>\n",
       "    <tr style=\"text-align: right;\">\n",
       "      <th></th>\n",
       "      <th>Block_Size</th>\n",
       "      <th>Codec</th>\n",
       "      <th>Filter</th>\n",
       "      <th>CL</th>\n",
       "      <th>CRate</th>\n",
       "      <th>CSpeed</th>\n",
       "      <th>DSpeed</th>\n",
       "    </tr>\n",
       "  </thead>\n",
       "  <tbody>\n",
       "    <tr>\n",
       "      <th>5</th>\n",
       "      <td>256.000</td>\n",
       "      <td>lz4</td>\n",
       "      <td>shuffle</td>\n",
       "      <td>4.000</td>\n",
       "      <td>1.252</td>\n",
       "      <td>5.825</td>\n",
       "      <td>8.554</td>\n",
       "    </tr>\n",
       "    <tr>\n",
       "      <th>12</th>\n",
       "      <td>256.000</td>\n",
       "      <td>lz4</td>\n",
       "      <td>shuffle</td>\n",
       "      <td>8.000</td>\n",
       "      <td>1.255</td>\n",
       "      <td>6.033</td>\n",
       "      <td>8.148</td>\n",
       "    </tr>\n",
       "    <tr>\n",
       "      <th>19</th>\n",
       "      <td>128.000</td>\n",
       "      <td>lz4</td>\n",
       "      <td>shuffle</td>\n",
       "      <td>5.000</td>\n",
       "      <td>1.248</td>\n",
       "      <td>6.201</td>\n",
       "      <td>9.488</td>\n",
       "    </tr>\n",
       "    <tr>\n",
       "      <th>26</th>\n",
       "      <td>256.000</td>\n",
       "      <td>lz4</td>\n",
       "      <td>shuffle</td>\n",
       "      <td>6.000</td>\n",
       "      <td>1.242</td>\n",
       "      <td>5.558</td>\n",
       "      <td>8.574</td>\n",
       "    </tr>\n",
       "    <tr>\n",
       "      <th>33</th>\n",
       "      <td>0.000</td>\n",
       "      <td>lz4</td>\n",
       "      <td>shuffle</td>\n",
       "      <td>8.000</td>\n",
       "      <td>1.241</td>\n",
       "      <td>5.440</td>\n",
       "      <td>8.557</td>\n",
       "    </tr>\n",
       "  </tbody>\n",
       "</table>\n",
       "</div>"
      ],
      "text/plain": [
       "    Block_Size Codec   Filter    CL  CRate  CSpeed  DSpeed\n",
       "5      256.000   lz4  shuffle 4.000  1.252   5.825   8.554\n",
       "12     256.000   lz4  shuffle 8.000  1.255   6.033   8.148\n",
       "19     128.000   lz4  shuffle 5.000  1.248   6.201   9.488\n",
       "26     256.000   lz4  shuffle 6.000  1.242   5.558   8.574\n",
       "33       0.000   lz4  shuffle 8.000  1.241   5.440   8.557"
      ]
     },
     "metadata": {},
     "output_type": "display_data"
    },
    {
     "name": "stdout",
     "output_type": "stream",
     "text": [
      "DISTINCT BALANCED DSPEED\n",
      "150 rows\n"
     ]
    },
    {
     "data": {
      "text/html": [
       "<div>\n",
       "<table border=\"1\" class=\"dataframe\">\n",
       "  <thead>\n",
       "    <tr style=\"text-align: right;\">\n",
       "      <th></th>\n",
       "      <th>Block_Size</th>\n",
       "      <th>Codec</th>\n",
       "      <th>Filter</th>\n",
       "      <th>CL</th>\n",
       "      <th>CRate</th>\n",
       "      <th>CSpeed</th>\n",
       "      <th>DSpeed</th>\n",
       "    </tr>\n",
       "  </thead>\n",
       "  <tbody>\n",
       "    <tr>\n",
       "      <th>4</th>\n",
       "      <td>256.000</td>\n",
       "      <td>lz4hc</td>\n",
       "      <td>shuffle</td>\n",
       "      <td>8.000</td>\n",
       "      <td>1.310</td>\n",
       "      <td>0.134</td>\n",
       "      <td>8.219</td>\n",
       "    </tr>\n",
       "    <tr>\n",
       "      <th>11</th>\n",
       "      <td>128.000</td>\n",
       "      <td>lz4hc</td>\n",
       "      <td>shuffle</td>\n",
       "      <td>8.000</td>\n",
       "      <td>1.300</td>\n",
       "      <td>0.153</td>\n",
       "      <td>8.513</td>\n",
       "    </tr>\n",
       "    <tr>\n",
       "      <th>25</th>\n",
       "      <td>256.000</td>\n",
       "      <td>lz4hc</td>\n",
       "      <td>shuffle</td>\n",
       "      <td>5.000</td>\n",
       "      <td>1.292</td>\n",
       "      <td>0.190</td>\n",
       "      <td>8.783</td>\n",
       "    </tr>\n",
       "    <tr>\n",
       "      <th>32</th>\n",
       "      <td>128.000</td>\n",
       "      <td>lz4hc</td>\n",
       "      <td>shuffle</td>\n",
       "      <td>9.000</td>\n",
       "      <td>1.286</td>\n",
       "      <td>0.117</td>\n",
       "      <td>8.351</td>\n",
       "    </tr>\n",
       "    <tr>\n",
       "      <th>39</th>\n",
       "      <td>256.000</td>\n",
       "      <td>lz4hc</td>\n",
       "      <td>shuffle</td>\n",
       "      <td>7.000</td>\n",
       "      <td>1.290</td>\n",
       "      <td>0.147</td>\n",
       "      <td>8.150</td>\n",
       "    </tr>\n",
       "  </tbody>\n",
       "</table>\n",
       "</div>"
      ],
      "text/plain": [
       "    Block_Size  Codec   Filter    CL  CRate  CSpeed  DSpeed\n",
       "4      256.000  lz4hc  shuffle 8.000  1.310   0.134   8.219\n",
       "11     128.000  lz4hc  shuffle 8.000  1.300   0.153   8.513\n",
       "25     256.000  lz4hc  shuffle 5.000  1.292   0.190   8.783\n",
       "32     128.000  lz4hc  shuffle 9.000  1.286   0.117   8.351\n",
       "39     256.000  lz4hc  shuffle 7.000  1.290   0.147   8.150"
      ]
     },
     "metadata": {},
     "output_type": "display_data"
    },
    {
     "name": "stdout",
     "output_type": "stream",
     "text": [
      "DISTINCT BALANCED SPEED\n",
      "142 rows\n"
     ]
    },
    {
     "data": {
      "text/html": [
       "<div>\n",
       "<table border=\"1\" class=\"dataframe\">\n",
       "  <thead>\n",
       "    <tr style=\"text-align: right;\">\n",
       "      <th></th>\n",
       "      <th>Block_Size</th>\n",
       "      <th>Codec</th>\n",
       "      <th>Filter</th>\n",
       "      <th>CL</th>\n",
       "      <th>CRate</th>\n",
       "      <th>CSpeed</th>\n",
       "      <th>DSpeed</th>\n",
       "    </tr>\n",
       "  </thead>\n",
       "  <tbody>\n",
       "    <tr>\n",
       "      <th>2</th>\n",
       "      <td>32.000</td>\n",
       "      <td>lz4</td>\n",
       "      <td>shuffle</td>\n",
       "      <td>3.000</td>\n",
       "      <td>1.239</td>\n",
       "      <td>6.157</td>\n",
       "      <td>8.908</td>\n",
       "    </tr>\n",
       "    <tr>\n",
       "      <th>9</th>\n",
       "      <td>16.000</td>\n",
       "      <td>lz4</td>\n",
       "      <td>shuffle</td>\n",
       "      <td>5.000</td>\n",
       "      <td>1.238</td>\n",
       "      <td>6.366</td>\n",
       "      <td>9.139</td>\n",
       "    </tr>\n",
       "    <tr>\n",
       "      <th>16</th>\n",
       "      <td>0.000</td>\n",
       "      <td>lz4</td>\n",
       "      <td>shuffle</td>\n",
       "      <td>4.000</td>\n",
       "      <td>1.239</td>\n",
       "      <td>6.501</td>\n",
       "      <td>9.179</td>\n",
       "    </tr>\n",
       "    <tr>\n",
       "      <th>23</th>\n",
       "      <td>128.000</td>\n",
       "      <td>lz4</td>\n",
       "      <td>shuffle</td>\n",
       "      <td>2.000</td>\n",
       "      <td>1.233</td>\n",
       "      <td>6.000</td>\n",
       "      <td>9.044</td>\n",
       "    </tr>\n",
       "    <tr>\n",
       "      <th>30</th>\n",
       "      <td>64.000</td>\n",
       "      <td>lz4</td>\n",
       "      <td>shuffle</td>\n",
       "      <td>2.000</td>\n",
       "      <td>1.226</td>\n",
       "      <td>6.196</td>\n",
       "      <td>8.831</td>\n",
       "    </tr>\n",
       "  </tbody>\n",
       "</table>\n",
       "</div>"
      ],
      "text/plain": [
       "    Block_Size Codec   Filter    CL  CRate  CSpeed  DSpeed\n",
       "2       32.000   lz4  shuffle 3.000  1.239   6.157   8.908\n",
       "9       16.000   lz4  shuffle 5.000  1.238   6.366   9.139\n",
       "16       0.000   lz4  shuffle 4.000  1.239   6.501   9.179\n",
       "23     128.000   lz4  shuffle 2.000  1.233   6.000   9.044\n",
       "30      64.000   lz4  shuffle 2.000  1.226   6.196   8.831"
      ]
     },
     "metadata": {},
     "output_type": "display_data"
    },
    {
     "name": "stdout",
     "output_type": "stream",
     "text": [
      "DISTINCT BALANCED\n",
      "137 rows\n"
     ]
    },
    {
     "data": {
      "text/html": [
       "<div>\n",
       "<table border=\"1\" class=\"dataframe\">\n",
       "  <thead>\n",
       "    <tr style=\"text-align: right;\">\n",
       "      <th></th>\n",
       "      <th>Block_Size</th>\n",
       "      <th>Codec</th>\n",
       "      <th>Filter</th>\n",
       "      <th>CL</th>\n",
       "      <th>CRate</th>\n",
       "      <th>CSpeed</th>\n",
       "      <th>DSpeed</th>\n",
       "    </tr>\n",
       "  </thead>\n",
       "  <tbody>\n",
       "    <tr>\n",
       "      <th>6</th>\n",
       "      <td>256.000</td>\n",
       "      <td>lz4</td>\n",
       "      <td>shuffle</td>\n",
       "      <td>5.000</td>\n",
       "      <td>1.252</td>\n",
       "      <td>5.722</td>\n",
       "      <td>8.805</td>\n",
       "    </tr>\n",
       "    <tr>\n",
       "      <th>13</th>\n",
       "      <td>128.000</td>\n",
       "      <td>lz4</td>\n",
       "      <td>shuffle</td>\n",
       "      <td>6.000</td>\n",
       "      <td>1.250</td>\n",
       "      <td>6.042</td>\n",
       "      <td>9.115</td>\n",
       "    </tr>\n",
       "    <tr>\n",
       "      <th>20</th>\n",
       "      <td>128.000</td>\n",
       "      <td>lz4</td>\n",
       "      <td>shuffle</td>\n",
       "      <td>5.000</td>\n",
       "      <td>1.248</td>\n",
       "      <td>6.201</td>\n",
       "      <td>9.488</td>\n",
       "    </tr>\n",
       "    <tr>\n",
       "      <th>27</th>\n",
       "      <td>256.000</td>\n",
       "      <td>lz4</td>\n",
       "      <td>shuffle</td>\n",
       "      <td>6.000</td>\n",
       "      <td>1.242</td>\n",
       "      <td>5.558</td>\n",
       "      <td>8.574</td>\n",
       "    </tr>\n",
       "    <tr>\n",
       "      <th>34</th>\n",
       "      <td>0.000</td>\n",
       "      <td>lz4</td>\n",
       "      <td>shuffle</td>\n",
       "      <td>8.000</td>\n",
       "      <td>1.241</td>\n",
       "      <td>5.440</td>\n",
       "      <td>8.557</td>\n",
       "    </tr>\n",
       "  </tbody>\n",
       "</table>\n",
       "</div>"
      ],
      "text/plain": [
       "    Block_Size Codec   Filter    CL  CRate  CSpeed  DSpeed\n",
       "6      256.000   lz4  shuffle 5.000  1.252   5.722   8.805\n",
       "13     128.000   lz4  shuffle 6.000  1.250   6.042   9.115\n",
       "20     128.000   lz4  shuffle 5.000  1.248   6.201   9.488\n",
       "27     256.000   lz4  shuffle 6.000  1.242   5.558   8.574\n",
       "34       0.000   lz4  shuffle 8.000  1.241   5.440   8.557"
      ]
     },
     "metadata": {},
     "output_type": "display_data"
    }
   ],
   "source": [
    "print('DISTINCT MAX RATE')\n",
    "distinct_max_rate = training_df[(training_df.IN_CR == 1) & (training_df.IN_CS == 0) & (training_df.IN_DS == 0)]\\\n",
    "                    .drop_duplicates(subset=OUT_OPTIONS)[OUT_OPTIONS + TEST_FEATURES]\n",
    "print('%s rows' % distinct_max_rate.shape[0])\n",
    "display(distinct_max_rate.head())\n",
    "print('DISTINCT MAX C.SPEED')\n",
    "distinct_max_c_speed = training_df[(training_df.IN_CR == 0) & (training_df.IN_CS == 1) & (training_df.IN_DS == 0)]\\\n",
    "                       .drop_duplicates(subset=OUT_OPTIONS)[OUT_OPTIONS + TEST_FEATURES]\n",
    "print('%s rows' % distinct_max_c_speed.shape[0])\n",
    "display(distinct_max_c_speed.head())\n",
    "print('DISTINCT MAX D.SPEED')\n",
    "distinct_max_d_speed = training_df[(training_df.IN_CR == 0) & (training_df.IN_CS == 0) & (training_df.IN_DS == 1)]\\\n",
    "                      .drop_duplicates(subset=OUT_OPTIONS)[OUT_OPTIONS + TEST_FEATURES]\n",
    "print('%s rows' % distinct_max_d_speed.shape[0])\n",
    "display(distinct_max_d_speed.head())\n",
    "print('DISTINCT BALANCED CSPEED')\n",
    "distinct_balanced_c_speed = training_df[(training_df.IN_CR == 1) & (training_df.IN_CS == 1) & (training_df.IN_DS == 0)]\\\n",
    "                            .drop_duplicates(subset=OUT_OPTIONS)[OUT_OPTIONS + TEST_FEATURES]\n",
    "print('%s rows' % distinct_balanced_c_speed.shape[0])\n",
    "display(distinct_balanced_c_speed.head())\n",
    "print('DISTINCT BALANCED DSPEED')\n",
    "distinct_balanced_d_speed = training_df[(training_df.IN_CR == 1) & (training_df.IN_CS == 0) & (training_df.IN_DS == 1)]\\\n",
    "                            .drop_duplicates(subset=OUT_OPTIONS)[OUT_OPTIONS + TEST_FEATURES]\n",
    "print('%s rows' % distinct_balanced_d_speed.shape[0])\n",
    "display(distinct_balanced_d_speed.head())\n",
    "print('DISTINCT BALANCED SPEED')\n",
    "distinct_balanced_speed = training_df[(training_df.IN_CR == 0) & (training_df.IN_CS == 1) & (training_df.IN_DS == 1)]\\\n",
    "                          .drop_duplicates(subset=OUT_OPTIONS)[OUT_OPTIONS + TEST_FEATURES]\n",
    "print('%s rows' % distinct_balanced_speed.shape[0])\n",
    "display(distinct_balanced_speed.head())\n",
    "print('DISTINCT BALANCED')\n",
    "distinct_balanced = training_df[(training_df.IN_CR == 1) & (training_df.IN_CS == 1) & (training_df.IN_DS == 1)]\\\n",
    "                    .drop_duplicates(subset=OUT_OPTIONS)[OUT_OPTIONS + TEST_FEATURES]\n",
    "print('%s rows' % distinct_balanced.shape[0])\n",
    "display(distinct_balanced.head())"
   ]
  },
  {
   "cell_type": "code",
   "execution_count": 8,
   "metadata": {
    "collapsed": false,
    "deletable": true,
    "editable": true,
    "scrolled": false
   },
   "outputs": [
    {
     "name": "stdout",
     "output_type": "stream",
     "text": [
      "448 distinct options from a total of 1620\n",
      "94 distinct options from a total of 162\n",
      "Distinct codecs 5\n",
      "Distinct filters 3\n",
      "Distinct CL 9\n",
      "Distinct block sizes 10\n"
     ]
    },
    {
     "data": {
      "text/html": [
       "<div>\n",
       "<table border=\"1\" class=\"dataframe\">\n",
       "  <thead>\n",
       "    <tr style=\"text-align: right;\">\n",
       "      <th></th>\n",
       "      <th>Block_Size</th>\n",
       "      <th>CL</th>\n",
       "      <th>CRate</th>\n",
       "      <th>CSpeed</th>\n",
       "      <th>DSpeed</th>\n",
       "    </tr>\n",
       "  </thead>\n",
       "  <tbody>\n",
       "    <tr>\n",
       "      <th>count</th>\n",
       "      <td>448.000</td>\n",
       "      <td>448.000</td>\n",
       "      <td>448.000</td>\n",
       "      <td>448.000</td>\n",
       "      <td>448.000</td>\n",
       "    </tr>\n",
       "    <tr>\n",
       "      <th>mean</th>\n",
       "      <td>327.839</td>\n",
       "      <td>5.319</td>\n",
       "      <td>353.398</td>\n",
       "      <td>6.766</td>\n",
       "      <td>13.798</td>\n",
       "    </tr>\n",
       "    <tr>\n",
       "      <th>std</th>\n",
       "      <td>565.141</td>\n",
       "      <td>2.608</td>\n",
       "      <td>1,650.551</td>\n",
       "      <td>6.858</td>\n",
       "      <td>11.137</td>\n",
       "    </tr>\n",
       "    <tr>\n",
       "      <th>min</th>\n",
       "      <td>0.000</td>\n",
       "      <td>1.000</td>\n",
       "      <td>1.101</td>\n",
       "      <td>0.004</td>\n",
       "      <td>0.474</td>\n",
       "    </tr>\n",
       "    <tr>\n",
       "      <th>25%</th>\n",
       "      <td>16.000</td>\n",
       "      <td>3.000</td>\n",
       "      <td>1.264</td>\n",
       "      <td>0.732</td>\n",
       "      <td>8.780</td>\n",
       "    </tr>\n",
       "    <tr>\n",
       "      <th>50%</th>\n",
       "      <td>64.000</td>\n",
       "      <td>6.000</td>\n",
       "      <td>5.852</td>\n",
       "      <td>4.916</td>\n",
       "      <td>10.383</td>\n",
       "    </tr>\n",
       "    <tr>\n",
       "      <th>75%</th>\n",
       "      <td>256.000</td>\n",
       "      <td>8.000</td>\n",
       "      <td>50.728</td>\n",
       "      <td>9.687</td>\n",
       "      <td>14.505</td>\n",
       "    </tr>\n",
       "    <tr>\n",
       "      <th>max</th>\n",
       "      <td>2,048.000</td>\n",
       "      <td>9.000</td>\n",
       "      <td>10,645.442</td>\n",
       "      <td>23.848</td>\n",
       "      <td>86.345</td>\n",
       "    </tr>\n",
       "  </tbody>\n",
       "</table>\n",
       "</div>"
      ],
      "text/plain": [
       "       Block_Size      CL      CRate  CSpeed  DSpeed\n",
       "count     448.000 448.000    448.000 448.000 448.000\n",
       "mean      327.839   5.319    353.398   6.766  13.798\n",
       "std       565.141   2.608  1,650.551   6.858  11.137\n",
       "min         0.000   1.000      1.101   0.004   0.474\n",
       "25%        16.000   3.000      1.264   0.732   8.780\n",
       "50%        64.000   6.000      5.852   4.916  10.383\n",
       "75%       256.000   8.000     50.728   9.687  14.505\n",
       "max     2,048.000   9.000 10,645.442  23.848  86.345"
      ]
     },
     "metadata": {},
     "output_type": "display_data"
    }
   ],
   "source": [
    "distinct_total = training_df.drop_duplicates(subset=OUT_OPTIONS)[OUT_OPTIONS + TEST_FEATURES]\n",
    "print('%d distinct options from a total of %d' % (distinct_total.shape[0], 1620))\n",
    "distinct_total_noblock = distinct_total.drop_duplicates(subset=OUT_OPTIONS[1:4])\n",
    "print('%d distinct options from a total of %d' % (distinct_total_noblock.shape[0], 162))\n",
    "print('Distinct codecs %d' % distinct_total.drop_duplicates(subset=['Codec']).shape[0])\n",
    "print('Distinct filters %d' % distinct_total.drop_duplicates(subset=['Filter']).shape[0])\n",
    "print('Distinct CL %d' % distinct_total.drop_duplicates(subset=['CL']).shape[0])\n",
    "print('Distinct block sizes %d' % distinct_total.drop_duplicates(subset=['Block_Size']).shape[0])\n",
    "display(distinct_total.describe())"
   ]
  },
  {
   "cell_type": "markdown",
   "metadata": {
    "deletable": true,
    "editable": true
   },
   "source": [
    "Zlib ha muerto."
   ]
  },
  {
   "cell_type": "code",
   "execution_count": 9,
   "metadata": {
    "collapsed": false,
    "deletable": true,
    "editable": true
   },
   "outputs": [
    {
     "data": {
      "text/html": [
       "<div>\n",
       "<table border=\"1\" class=\"dataframe\">\n",
       "  <thead>\n",
       "    <tr style=\"text-align: right;\">\n",
       "      <th></th>\n",
       "      <th>Block_Size</th>\n",
       "      <th>Codec</th>\n",
       "      <th>Filter</th>\n",
       "      <th>CL</th>\n",
       "      <th>CRate</th>\n",
       "      <th>CSpeed</th>\n",
       "      <th>DSpeed</th>\n",
       "    </tr>\n",
       "  </thead>\n",
       "  <tbody>\n",
       "    <tr>\n",
       "      <th>1681</th>\n",
       "      <td>0.000</td>\n",
       "      <td>snappy</td>\n",
       "      <td>noshuffle</td>\n",
       "      <td>7.000</td>\n",
       "      <td>21.195</td>\n",
       "      <td>20.349</td>\n",
       "      <td>9.824</td>\n",
       "    </tr>\n",
       "    <tr>\n",
       "      <th>4291</th>\n",
       "      <td>128.000</td>\n",
       "      <td>snappy</td>\n",
       "      <td>noshuffle</td>\n",
       "      <td>3.000</td>\n",
       "      <td>11.049</td>\n",
       "      <td>7.158</td>\n",
       "      <td>13.803</td>\n",
       "    </tr>\n",
       "  </tbody>\n",
       "</table>\n",
       "</div>"
      ],
      "text/plain": [
       "      Block_Size   Codec     Filter    CL  CRate  CSpeed  DSpeed\n",
       "1681       0.000  snappy  noshuffle 7.000 21.195  20.349   9.824\n",
       "4291     128.000  snappy  noshuffle 3.000 11.049   7.158  13.803"
      ]
     },
     "metadata": {},
     "output_type": "display_data"
    }
   ],
   "source": [
    "# IMPRIMIMOS A NUESTRO MARCIANO FAVORITO\n",
    "display(distinct_total[distinct_total.Codec == 'snappy'])"
   ]
  },
  {
   "cell_type": "markdown",
   "metadata": {
    "deletable": true,
    "editable": true
   },
   "source": [
    "Snappy está moribundo. Por tanto podríamos considerar que tenemos 488/1080 opciones totales y sin contar el tamaño de bloque 97/108."
   ]
  },
  {
   "cell_type": "code",
   "execution_count": 10,
   "metadata": {
    "collapsed": false,
    "deletable": true,
    "editable": true
   },
   "outputs": [
    {
     "name": "stdout",
     "output_type": "stream",
     "text": [
      "128 blosclz classes from 270\n",
      "158 lz4 classes from 270\n",
      "93 lz4hc classes from 270\n",
      "67 zstd classes from 270\n"
     ]
    }
   ],
   "source": [
    "print('%d blosclz classes from 270' % distinct_total[distinct_total.Codec == 'blosclz'].shape[0])\n",
    "print('%d lz4 classes from 270' % distinct_total[distinct_total.Codec == 'lz4'].shape[0])\n",
    "print('%d lz4hc classes from 270' % distinct_total[distinct_total.Codec == 'lz4hc'].shape[0])\n",
    "print('%d zstd classes from 270' % distinct_total[distinct_total.Codec == 'zstd'].shape[0])"
   ]
  },
  {
   "cell_type": "markdown",
   "metadata": {
    "deletable": true,
    "editable": true
   },
   "source": [
    "## Tamaño de bloque automático"
   ]
  },
  {
   "cell_type": "code",
   "execution_count": 11,
   "metadata": {
    "collapsed": false,
    "deletable": true,
    "editable": true
   },
   "outputs": [
    {
     "name": "stdout",
     "output_type": "stream",
     "text": [
      "759 from 4711\n"
     ]
    }
   ],
   "source": [
    "print(\"%d from %d\" % (training_df[training_df.Block_Size == 0].shape[0], training_df.shape[0]))"
   ]
  },
  {
   "cell_type": "code",
   "execution_count": 12,
   "metadata": {
    "collapsed": false,
    "deletable": true,
    "editable": true
   },
   "outputs": [
    {
     "name": "stdout",
     "output_type": "stream",
     "text": [
      "CPU times: user 21min 2s, sys: 252 ms, total: 21min 2s\n",
      "Wall time: 21min 2s\n"
     ]
    }
   ],
   "source": [
    "%%time\n",
    "count = 0\n",
    "for i, row in training_df.iterrows():\n",
    "    block = row['Block_Size']\n",
    "    aux = df[(df.Filename == row['Filename']) & (df.DataSet == row['DataSet']) &\n",
    "             (df.Table == row['Table']) & (df.Chunk_Number == row['Chunk_Number']) &\n",
    "             (df.Codec == row['Codec']) & (df.Filter == row['Filter']) & (df.CL == row[\"CL\"])]\n",
    "    crate = aux[aux.Block_Size == 0]['CRate'].values[0]\n",
    "    auto_block = aux[(aux.CRate == crate) & (aux.Block_Size != 0)]['Block_Size'].values[0]\n",
    "    if block != 0:\n",
    "        if auto_block == block:\n",
    "            count += 1\n",
    "    else:\n",
    "        training_df.loc[i, 'Block_Size'] = auto_block"
   ]
  },
  {
   "cell_type": "code",
   "execution_count": 13,
   "metadata": {
    "collapsed": false,
    "deletable": true,
    "editable": true
   },
   "outputs": [
    {
     "name": "stdout",
     "output_type": "stream",
     "text": [
      "482 from 4711\n"
     ]
    }
   ],
   "source": [
    "print(\"%d from %d\" % (training_df[training_df.Block_Size == 0].shape[0] + count, training_df.shape[0]))"
   ]
  },
  {
   "cell_type": "code",
   "execution_count": 15,
   "metadata": {
    "collapsed": false,
    "deletable": true,
    "editable": true
   },
   "outputs": [
    {
     "data": {
      "text/html": [
       "<div>\n",
       "<table border=\"1\" class=\"dataframe\">\n",
       "  <thead>\n",
       "    <tr style=\"text-align: right;\">\n",
       "      <th></th>\n",
       "      <th>BLZ_CRate</th>\n",
       "      <th>BLZ_CSpeed</th>\n",
       "      <th>BLZ_DSpeed</th>\n",
       "      <th>Block_Size</th>\n",
       "      <th>CL</th>\n",
       "      <th>CRate</th>\n",
       "      <th>CSpeed</th>\n",
       "      <th>Chunk_Number</th>\n",
       "      <th>Chunk_Size</th>\n",
       "      <th>Codec</th>\n",
       "      <th>...</th>\n",
       "      <th>LZ4_DSpeed</th>\n",
       "      <th>Max</th>\n",
       "      <th>Mean</th>\n",
       "      <th>Median</th>\n",
       "      <th>Min</th>\n",
       "      <th>Q1</th>\n",
       "      <th>Q3</th>\n",
       "      <th>Sd</th>\n",
       "      <th>Skew</th>\n",
       "      <th>Table</th>\n",
       "    </tr>\n",
       "  </thead>\n",
       "  <tbody>\n",
       "    <tr>\n",
       "      <th>0</th>\n",
       "      <td>1.110</td>\n",
       "      <td>3.959</td>\n",
       "      <td>7.963</td>\n",
       "      <td>32.000</td>\n",
       "      <td>1.000</td>\n",
       "      <td>1.108</td>\n",
       "      <td>4.402</td>\n",
       "      <td>1.000</td>\n",
       "      <td>16.000</td>\n",
       "      <td>blosclz</td>\n",
       "      <td>...</td>\n",
       "      <td>7.844</td>\n",
       "      <td>27.146</td>\n",
       "      <td>5.762</td>\n",
       "      <td>3.093</td>\n",
       "      <td>-14.914</td>\n",
       "      <td>-0.990</td>\n",
       "      <td>12.773</td>\n",
       "      <td>8.290</td>\n",
       "      <td>0.555</td>\n",
       "      <td>0.000</td>\n",
       "    </tr>\n",
       "    <tr>\n",
       "      <th>1</th>\n",
       "      <td>1.110</td>\n",
       "      <td>3.959</td>\n",
       "      <td>7.963</td>\n",
       "      <td>64.000</td>\n",
       "      <td>3.000</td>\n",
       "      <td>1.244</td>\n",
       "      <td>6.440</td>\n",
       "      <td>1.000</td>\n",
       "      <td>16.000</td>\n",
       "      <td>lz4</td>\n",
       "      <td>...</td>\n",
       "      <td>7.844</td>\n",
       "      <td>27.146</td>\n",
       "      <td>5.762</td>\n",
       "      <td>3.093</td>\n",
       "      <td>-14.914</td>\n",
       "      <td>-0.990</td>\n",
       "      <td>12.773</td>\n",
       "      <td>8.290</td>\n",
       "      <td>0.555</td>\n",
       "      <td>0.000</td>\n",
       "    </tr>\n",
       "    <tr>\n",
       "      <th>3</th>\n",
       "      <td>1.110</td>\n",
       "      <td>3.959</td>\n",
       "      <td>7.963</td>\n",
       "      <td>2,048.000</td>\n",
       "      <td>9.000</td>\n",
       "      <td>1.366</td>\n",
       "      <td>0.014</td>\n",
       "      <td>1.000</td>\n",
       "      <td>16.000</td>\n",
       "      <td>zstd</td>\n",
       "      <td>...</td>\n",
       "      <td>7.844</td>\n",
       "      <td>27.146</td>\n",
       "      <td>5.762</td>\n",
       "      <td>3.093</td>\n",
       "      <td>-14.914</td>\n",
       "      <td>-0.990</td>\n",
       "      <td>12.773</td>\n",
       "      <td>8.290</td>\n",
       "      <td>0.555</td>\n",
       "      <td>0.000</td>\n",
       "    </tr>\n",
       "    <tr>\n",
       "      <th>4</th>\n",
       "      <td>1.110</td>\n",
       "      <td>3.959</td>\n",
       "      <td>7.963</td>\n",
       "      <td>256.000</td>\n",
       "      <td>8.000</td>\n",
       "      <td>1.310</td>\n",
       "      <td>0.134</td>\n",
       "      <td>1.000</td>\n",
       "      <td>16.000</td>\n",
       "      <td>lz4hc</td>\n",
       "      <td>...</td>\n",
       "      <td>7.844</td>\n",
       "      <td>27.146</td>\n",
       "      <td>5.762</td>\n",
       "      <td>3.093</td>\n",
       "      <td>-14.914</td>\n",
       "      <td>-0.990</td>\n",
       "      <td>12.773</td>\n",
       "      <td>8.290</td>\n",
       "      <td>0.555</td>\n",
       "      <td>0.000</td>\n",
       "    </tr>\n",
       "    <tr>\n",
       "      <th>8</th>\n",
       "      <td>1.110</td>\n",
       "      <td>5.626</td>\n",
       "      <td>9.007</td>\n",
       "      <td>16.000</td>\n",
       "      <td>1.000</td>\n",
       "      <td>1.233</td>\n",
       "      <td>6.758</td>\n",
       "      <td>2.000</td>\n",
       "      <td>16.000</td>\n",
       "      <td>lz4</td>\n",
       "      <td>...</td>\n",
       "      <td>8.268</td>\n",
       "      <td>27.775</td>\n",
       "      <td>6.145</td>\n",
       "      <td>4.291</td>\n",
       "      <td>-10.519</td>\n",
       "      <td>-1.361</td>\n",
       "      <td>14.216</td>\n",
       "      <td>8.504</td>\n",
       "      <td>0.391</td>\n",
       "      <td>0.000</td>\n",
       "    </tr>\n",
       "    <tr>\n",
       "      <th>11</th>\n",
       "      <td>1.110</td>\n",
       "      <td>5.626</td>\n",
       "      <td>9.007</td>\n",
       "      <td>128.000</td>\n",
       "      <td>8.000</td>\n",
       "      <td>1.300</td>\n",
       "      <td>0.153</td>\n",
       "      <td>2.000</td>\n",
       "      <td>16.000</td>\n",
       "      <td>lz4hc</td>\n",
       "      <td>...</td>\n",
       "      <td>8.268</td>\n",
       "      <td>27.775</td>\n",
       "      <td>6.145</td>\n",
       "      <td>4.291</td>\n",
       "      <td>-10.519</td>\n",
       "      <td>-1.361</td>\n",
       "      <td>14.216</td>\n",
       "      <td>8.504</td>\n",
       "      <td>0.391</td>\n",
       "      <td>0.000</td>\n",
       "    </tr>\n",
       "    <tr>\n",
       "      <th>21</th>\n",
       "      <td>1.100</td>\n",
       "      <td>5.482</td>\n",
       "      <td>9.048</td>\n",
       "      <td>8.000</td>\n",
       "      <td>2.000</td>\n",
       "      <td>1.119</td>\n",
       "      <td>4.288</td>\n",
       "      <td>4.000</td>\n",
       "      <td>16.000</td>\n",
       "      <td>blosclz</td>\n",
       "      <td>...</td>\n",
       "      <td>8.251</td>\n",
       "      <td>33.807</td>\n",
       "      <td>6.450</td>\n",
       "      <td>2.096</td>\n",
       "      <td>-12.255</td>\n",
       "      <td>-1.446</td>\n",
       "      <td>14.703</td>\n",
       "      <td>10.067</td>\n",
       "      <td>0.742</td>\n",
       "      <td>0.000</td>\n",
       "    </tr>\n",
       "    <tr>\n",
       "      <th>82</th>\n",
       "      <td>1.072</td>\n",
       "      <td>5.368</td>\n",
       "      <td>9.172</td>\n",
       "      <td>512.000</td>\n",
       "      <td>8.000</td>\n",
       "      <td>1.243</td>\n",
       "      <td>5.329</td>\n",
       "      <td>12.000</td>\n",
       "      <td>16.000</td>\n",
       "      <td>lz4</td>\n",
       "      <td>...</td>\n",
       "      <td>7.358</td>\n",
       "      <td>49.183</td>\n",
       "      <td>10.937</td>\n",
       "      <td>7.797</td>\n",
       "      <td>-14.951</td>\n",
       "      <td>1.882</td>\n",
       "      <td>19.096</td>\n",
       "      <td>11.198</td>\n",
       "      <td>0.655</td>\n",
       "      <td>0.000</td>\n",
       "    </tr>\n",
       "    <tr>\n",
       "      <th>654</th>\n",
       "      <td>1.326</td>\n",
       "      <td>3.743</td>\n",
       "      <td>15.588</td>\n",
       "      <td>1,024.000</td>\n",
       "      <td>9.000</td>\n",
       "      <td>49.115</td>\n",
       "      <td>0.066</td>\n",
       "      <td>1.000</td>\n",
       "      <td>0.738</td>\n",
       "      <td>zstd</td>\n",
       "      <td>...</td>\n",
       "      <td>8.567</td>\n",
       "      <td>211,383.000</td>\n",
       "      <td>46,750.635</td>\n",
       "      <td>42,412.000</td>\n",
       "      <td>0.000</td>\n",
       "      <td>121.000</td>\n",
       "      <td>79,434.750</td>\n",
       "      <td>42,964.463</td>\n",
       "      <td>1.123</td>\n",
       "      <td>0.000</td>\n",
       "    </tr>\n",
       "  </tbody>\n",
       "</table>\n",
       "<p>9 rows × 31 columns</p>\n",
       "</div>"
      ],
      "text/plain": [
       "     BLZ_CRate  BLZ_CSpeed  BLZ_DSpeed  Block_Size    CL  CRate  CSpeed  \\\n",
       "0        1.110       3.959       7.963      32.000 1.000  1.108   4.402   \n",
       "1        1.110       3.959       7.963      64.000 3.000  1.244   6.440   \n",
       "3        1.110       3.959       7.963   2,048.000 9.000  1.366   0.014   \n",
       "4        1.110       3.959       7.963     256.000 8.000  1.310   0.134   \n",
       "8        1.110       5.626       9.007      16.000 1.000  1.233   6.758   \n",
       "11       1.110       5.626       9.007     128.000 8.000  1.300   0.153   \n",
       "21       1.100       5.482       9.048       8.000 2.000  1.119   4.288   \n",
       "82       1.072       5.368       9.172     512.000 8.000  1.243   5.329   \n",
       "654      1.326       3.743      15.588   1,024.000 9.000 49.115   0.066   \n",
       "\n",
       "     Chunk_Number  Chunk_Size    Codec  ...    LZ4_DSpeed         Max  \\\n",
       "0           1.000      16.000  blosclz  ...         7.844      27.146   \n",
       "1           1.000      16.000      lz4  ...         7.844      27.146   \n",
       "3           1.000      16.000     zstd  ...         7.844      27.146   \n",
       "4           1.000      16.000    lz4hc  ...         7.844      27.146   \n",
       "8           2.000      16.000      lz4  ...         8.268      27.775   \n",
       "11          2.000      16.000    lz4hc  ...         8.268      27.775   \n",
       "21          4.000      16.000  blosclz  ...         8.251      33.807   \n",
       "82         12.000      16.000      lz4  ...         7.358      49.183   \n",
       "654         1.000       0.738     zstd  ...         8.567 211,383.000   \n",
       "\n",
       "          Mean     Median     Min      Q1         Q3         Sd  Skew  Table  \n",
       "0        5.762      3.093 -14.914  -0.990     12.773      8.290 0.555  0.000  \n",
       "1        5.762      3.093 -14.914  -0.990     12.773      8.290 0.555  0.000  \n",
       "3        5.762      3.093 -14.914  -0.990     12.773      8.290 0.555  0.000  \n",
       "4        5.762      3.093 -14.914  -0.990     12.773      8.290 0.555  0.000  \n",
       "8        6.145      4.291 -10.519  -1.361     14.216      8.504 0.391  0.000  \n",
       "11       6.145      4.291 -10.519  -1.361     14.216      8.504 0.391  0.000  \n",
       "21       6.450      2.096 -12.255  -1.446     14.703     10.067 0.742  0.000  \n",
       "82      10.937      7.797 -14.951   1.882     19.096     11.198 0.655  0.000  \n",
       "654 46,750.635 42,412.000   0.000 121.000 79,434.750 42,964.463 1.123  0.000  \n",
       "\n",
       "[9 rows x 31 columns]"
      ]
     },
     "execution_count": 15,
     "metadata": {},
     "output_type": "execute_result"
    }
   ],
   "source": [
    "training_df.drop_duplicates(subset=['Block_Size'])"
   ]
  },
  {
   "cell_type": "markdown",
   "metadata": {},
   "source": [
    "## Preparación de inputs para scikit-learn"
   ]
  },
  {
   "cell_type": "code",
   "execution_count": 16,
   "metadata": {
    "collapsed": true
   },
   "outputs": [],
   "source": [
    "from sklearn.preprocessing import binarize \n",
    "from sklearn.preprocessing import OneHotEncoder\n",
    "df = df.assign(is_Table=binarize(df['Table'].values.reshape(-1,1), 0), \n",
    "               is_Columnar=binarize(df['Table'].values.reshape(-1,1), 1),\n",
    "               is_Int=df['DType'].str.contains('int').astype(int),\n",
    "               is_Float=df['DType'].str.contains('float').astype(int),\n",
    "               is_String=(df['DType'].str.contains('S') | df['DType'].str.contains('U')).astype(int))\n",
    "import re\n",
    "def aux_func(s):\n",
    "    n = int(re.findall('\\d+', s)[0])\n",
    "    isNum = re.findall('int|float', s)\n",
    "    if len(isNum) > 0:\n",
    "        return n // 8\n",
    "    else:\n",
    "        return n\n",
    "df['Type_Size'] = [aux_func(s) for s in df['DType']]"
   ]
  },
  {
   "cell_type": "markdown",
   "metadata": {},
   "source": [
    "## Preparación de outputs para scikit-learn"
   ]
  },
  {
   "cell_type": "code",
   "execution_count": 17,
   "metadata": {
    "collapsed": true
   },
   "outputs": [],
   "source": [
    "df = df.assign(Blosclz=(df['Codec'] == 'blosclz').astype(int),\n",
    "               Lz4=(df['Codec'] == 'lz4').astype(int),\n",
    "               Lz4hc=(df['Codec'] == 'lz4hc').astype(int),\n",
    "               Snappy=(df['Codec'] == 'snappy').astype(int),\n",
    "               Zstd=(df['Codec'] == 'zstd').astype(int),\n",
    "               Shuffle=(df['Filter'] == 'shuffle').astype(int),\n",
    "               Bitshuffle=(df['Filter'] == 'bitshuffle').astype(int))\n",
    "enc_cl = OneHotEncoder()\n",
    "enc_cl.fit(df['CL'].values.reshape(-1, 1))\n",
    "new_cls = enc_cl.transform(df['CL'].values.reshape(-1, 1)).toarray()\n",
    "enc_block = OneHotEncoder()\n",
    "enc_block.fit(df['Block_Size'].values.reshape(-1, 1))\n",
    "new_blocks = enc_block.transform(df['Block_Size'].values.reshape(-1, 1)).toarray()\n",
    "for i in range(9):\n",
    "    cl_label = 'CL' + str(i+1)\n",
    "    block_label = 'Block_' + str(2**(i+3))\n",
    "    df[cl_label] = new_cls[:, i]\n",
    "    df[block_label] = new_blocks[:, i]"
   ]
  },
  {
   "cell_type": "code",
   "execution_count": 18,
   "metadata": {
    "collapsed": true,
    "deletable": true,
    "editable": true
   },
   "outputs": [],
   "source": [
    "training_df.to_csv('../data/training_data.csv', sep='\\t', index=False)"
   ]
  },
  {
   "cell_type": "code",
   "execution_count": null,
   "metadata": {
    "collapsed": true
   },
   "outputs": [],
   "source": []
  }
 ],
 "metadata": {
  "anaconda-cloud": {},
  "kernelspec": {
   "display_name": "Python 3",
   "language": "python",
   "name": "python3"
  },
  "language_info": {
   "codemirror_mode": {
    "name": "ipython",
    "version": 3
   },
   "file_extension": ".py",
   "mimetype": "text/x-python",
   "name": "python",
   "nbconvert_exporter": "python",
   "pygments_lexer": "ipython3",
   "version": "3.5.3"
  }
 },
 "nbformat": 4,
 "nbformat_minor": 0
}
