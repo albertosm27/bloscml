{
 "cells": [
  {
   "cell_type": "markdown",
   "metadata": {
    "deletable": true,
    "editable": true
   },
   "source": [
    "# Algoritmos SVM"
   ]
  },
  {
   "cell_type": "code",
   "execution_count": 1,
   "metadata": {
    "collapsed": false,
    "deletable": true,
    "editable": true
   },
   "outputs": [
    {
     "data": {
      "application/json": {
       "Software versions": [
        {
         "module": "Python",
         "version": "3.5.3 64bit [GCC 4.4.7 20120313 (Red Hat 4.4.7-1)]"
        },
        {
         "module": "IPython",
         "version": "5.1.0"
        },
        {
         "module": "OS",
         "version": "Linux 4.9.16 gentoo x86_64 with debian stretch sid"
        },
        {
         "module": "numpy",
         "version": "1.12.1"
        },
        {
         "module": "scipy",
         "version": "0.19.0"
        },
        {
         "module": "matplotlib",
         "version": "2.0.0"
        },
        {
         "module": "pandas",
         "version": "0.19.2"
        },
        {
         "module": "scikit-learn",
         "version": "0.18.1"
        }
       ]
      },
      "text/html": [
       "<table><tr><th>Software</th><th>Version</th></tr><tr><td>Python</td><td>3.5.3 64bit [GCC 4.4.7 20120313 (Red Hat 4.4.7-1)]</td></tr><tr><td>IPython</td><td>5.1.0</td></tr><tr><td>OS</td><td>Linux 4.9.16 gentoo x86_64 with debian stretch sid</td></tr><tr><td>numpy</td><td>1.12.1</td></tr><tr><td>scipy</td><td>0.19.0</td></tr><tr><td>matplotlib</td><td>2.0.0</td></tr><tr><td>pandas</td><td>0.19.2</td></tr><tr><td>scikit-learn</td><td>0.18.1</td></tr><tr><td colspan='2'>Sat May 06 19:12:34 2017 UTC</td></tr></table>"
      ],
      "text/latex": [
       "\\begin{tabular}{|l|l|}\\hline\n",
       "{\\bf Software} & {\\bf Version} \\\\ \\hline\\hline\n",
       "Python & 3.5.3 64bit [GCC 4.4.7 20120313 (Red Hat 4.4.7-1)] \\\\ \\hline\n",
       "IPython & 5.1.0 \\\\ \\hline\n",
       "OS & Linux 4.9.16 gentoo x86\\_64 with debian stretch sid \\\\ \\hline\n",
       "numpy & 1.12.1 \\\\ \\hline\n",
       "scipy & 0.19.0 \\\\ \\hline\n",
       "matplotlib & 2.0.0 \\\\ \\hline\n",
       "pandas & 0.19.2 \\\\ \\hline\n",
       "scikit-learn & 0.18.1 \\\\ \\hline\n",
       "\\hline \\multicolumn{2}{|l|}{Sat May 06 19:12:34 2017 UTC} \\\\ \\hline\n",
       "\\end{tabular}\n"
      ],
      "text/plain": [
       "Software versions\n",
       "Python 3.5.3 64bit [GCC 4.4.7 20120313 (Red Hat 4.4.7-1)]\n",
       "IPython 5.1.0\n",
       "OS Linux 4.9.16 gentoo x86_64 with debian stretch sid\n",
       "numpy 1.12.1\n",
       "scipy 0.19.0\n",
       "matplotlib 2.0.0\n",
       "pandas 0.19.2\n",
       "scikit-learn 0.18.1\n",
       "Sat May 06 19:12:34 2017 UTC"
      ]
     },
     "execution_count": 1,
     "metadata": {},
     "output_type": "execute_result"
    }
   ],
   "source": [
    "%matplotlib inline\n",
    "%config InlineBackend.figure_format='retina'\n",
    "\n",
    "%load_ext autoreload\n",
    "%autoreload 2\n",
    "\n",
    "%load_ext version_information\n",
    "%version_information numpy, scipy, matplotlib, pandas, scikit-learn"
   ]
  },
  {
   "cell_type": "code",
   "execution_count": 2,
   "metadata": {
    "collapsed": false,
    "deletable": true,
    "editable": true
   },
   "outputs": [],
   "source": [
    "import os\n",
    "import sys\n",
    "sys.path.append(\"../src/\")\n",
    "\n",
    "from IPython.display import display\n",
    "import pandas as pd\n",
    "import matplotlib\n",
    "import numpy as np\n",
    "from matplotlib import pyplot as plt\n",
    "from sklearn.externals import joblib\n",
    "from sklearn.svm import SVC, LinearSVC\n",
    "from sklearn.model_selection import ShuffleSplit\n",
    "from sklearn.model_selection import cross_val_score\n",
    "from sklearn.multioutput import MultiOutputClassifier\n",
    "from multioutput_chained import ChainedMultiOutputClassifier\n",
    "from sklearn.preprocessing import scale\n",
    "import ml_plots as mp\n",
    "import scoring_functions as sf\n",
    "\n",
    "pd.options.display.float_format = '{:,.3f}'.format\n",
    "matplotlib.rcParams.update({'font.size': 12})"
   ]
  },
  {
   "cell_type": "code",
   "execution_count": 3,
   "metadata": {
    "collapsed": false,
    "deletable": true,
    "editable": true
   },
   "outputs": [],
   "source": [
    "SCORES = [(sf.balanced, 0.2, 1.01)]\n",
    "IN_OPTIONS = ['IN_CR', 'IN_CS', 'IN_DS', 'is_Table', 'is_Columnar',\n",
    "              'is_Int', 'is_Float', 'is_String', 'Type_Size', 'Chunk_Size',\n",
    "              'Mean', 'Median', 'Sd', 'Skew', 'Kurt', 'Min', 'Max', 'Q1',\n",
    "              'Q3', 'BLZ_CRate', 'BLZ_CSpeed', 'BLZ_DSpeed', 'LZ4_CRate',\n",
    "              'LZ4_CSpeed', 'LZ4_DSpeed']\n",
    "OUT_CODEC = ['Blosclz', 'Lz4', 'Lz4hc', 'Zstd']\n",
    "OUT_FILTER = ['Noshuffle', 'Shuffle', 'Bitshuffle'] \n",
    "OUT_LEVELS = ['CL1', 'CL2', 'CL3', 'CL4', 'CL5', 'CL6', 'CL7', 'CL8','CL9']\n",
    "OUT_BLOCKS = ['Block_8', 'Block_16', 'Block_32', 'Block_64', 'Block_128',\n",
    "              'Block_256', 'Block_512', 'Block_1024', 'Block_2048']\n",
    "OUT_OPTIONS = OUT_CODEC + OUT_FILTER + OUT_LEVELS + OUT_BLOCKS"
   ]
  },
  {
   "cell_type": "code",
   "execution_count": 4,
   "metadata": {
    "collapsed": false,
    "deletable": true,
    "editable": true
   },
   "outputs": [
    {
     "name": "stderr",
     "output_type": "stream",
     "text": [
      "/home/shurberto/miniconda3/lib/python3.5/site-packages/sklearn/preprocessing/data.py:160: UserWarning: Numerical issues were encountered when centering the data and might not be solved. Dataset may contain too large values. You may need to prescale your features.\n",
      "  warnings.warn(\"Numerical issues were encountered \"\n"
     ]
    }
   ],
   "source": [
    "df = pd.read_csv('../data/training_data.csv', sep='\\t')\n",
    "X, Y = scale(df[IN_OPTIONS].values), df[OUT_OPTIONS].values"
   ]
  },
  {
   "cell_type": "code",
   "execution_count": 5,
   "metadata": {
    "collapsed": false,
    "deletable": true,
    "editable": true
   },
   "outputs": [],
   "source": [
    "clf = LinearSVC()\n",
    "clf = MultiOutputClassifier(clf)"
   ]
  },
  {
   "cell_type": "markdown",
   "metadata": {
    "deletable": true,
    "editable": true
   },
   "source": [
    "## SVM rbf - Curva de aprendizaje"
   ]
  },
  {
   "cell_type": "markdown",
   "metadata": {
    "collapsed": false,
    "deletable": true,
    "editable": true
   },
   "source": [
    "### svc = SVC(kernel='rbf')\n",
    "clf = MultiOutputClassifier(svc)\n",
    "title = \"Learning Curves (rbf SVC)\"\n",
    "cv = ShuffleSplit(n_splits=10, test_size=0.1)\n",
    "fig = plt.figure(figsize=(20,8))\n",
    "n = 121\n",
    "for score in SCORES:\n",
    "    mp.plot_learning_curve(fig.add_subplot(n), clf, title, X, Y, scoring=score[0], ylim=(score[1], score[2]), cv=cv, n_jobs=-1,\n",
    "                       train_sizes=np.linspace(.1, 1.0, 10))\n",
    "    n += 1"
   ]
  },
  {
   "cell_type": "markdown",
   "metadata": {
    "collapsed": true,
    "deletable": true,
    "editable": true
   },
   "source": [
    "## SVM rbf - Validación cruzada de hiperparámetros"
   ]
  },
  {
   "cell_type": "code",
   "execution_count": 6,
   "metadata": {
    "collapsed": false,
    "deletable": true,
    "editable": true,
    "scrolled": true
   },
   "outputs": [
    {
     "name": "stdout",
     "output_type": "stream",
     "text": [
      "Non Nested Winners\n",
      "estimator__C --> Counter({1000: 20})\n",
      "estimator__gamma --> Counter({0.1: 20})\n",
      "Nested Winners\n",
      "estimator__C --> Counter({1000: 61, 100: 19})\n",
      "estimator__gamma --> Counter({0.1: 80})\n"
     ]
    }
   ],
   "source": [
    "nested_clf = joblib.load(\n",
    "    '../src/SVCnested_estimators_my_accuracy_scorer.pkl')\n",
    "non_nested_clf = joblib.load(\n",
    "    '../src/SVCnon_nested_estimators_my_accuracy_scorer.pkl')\n",
    "mp.print_nested_winners(nested_clf, non_nested_clf)"
   ]
  },
  {
   "cell_type": "code",
   "execution_count": 7,
   "metadata": {
    "collapsed": false,
    "deletable": true,
    "editable": true
   },
   "outputs": [],
   "source": [
    "del nested_clf\n",
    "del non_nested_clf"
   ]
  },
  {
   "cell_type": "markdown",
   "metadata": {
    "deletable": true,
    "editable": true
   },
   "source": [
    "## SVM rbf - Resultados"
   ]
  },
  {
   "cell_type": "code",
   "execution_count": 8,
   "metadata": {
    "collapsed": false,
    "deletable": true,
    "editable": true
   },
   "outputs": [
    {
     "data": {
      "text/html": [
       "<table><caption><b>Report</b></caption><thead><tr><th>Name</th>        <th>Score</th></tr><tr><td>balanced</td><td>0.7861 +/-(0.0067)</td></tr><tr><td>brier</td><td>0.0000 +/-(0.0000)</td></tr><tr><td>normal</td><td>0.2380 +/-(0.0119)</td></tr><tr><td>codec</td><td>0.9344 +/-(0.0054)</td></tr><tr><td>filter_</td><td>0.9087 +/-(0.0040)</td></tr><tr><td>codec_filter</td><td>0.8564 +/-(0.0092)</td></tr><tr><td>c_level</td><td>0.4317 +/-(0.0185) &nbsp; ~ &nbsp;                     0.7000 +/-(0.0112)</td></tr><tr><td>block</td><td>0.4017 +/-(0.0090) &nbsp; ~ &nbsp;                     0.7313 +/-(0.0050)</td></tr><tr><td>cl_block</td><td>0.2492 +/-(0.0127) &nbsp; ~ &nbsp;                     0.7157 +/-(0.0076)</td></tr></table>"
      ],
      "text/plain": [
       "[['balanced', [0.78605324074074068, 0.0067226623145243232]],\n",
       " ['brier', [0, 0]],\n",
       " ['normal', [0.23798266351457839, 0.011857048304998589]],\n",
       " ['codec', [0.93443656422379839, 0.00542305769395911]],\n",
       " ['filter_', [0.90874704491725777, 0.0039995516281952845]],\n",
       " ['codec_filter', [0.85642237982663505, 0.0092356723870661208]],\n",
       " ['c_level',\n",
       "  [0.43167848699763595,\n",
       "   0.018503590381641188,\n",
       "   0.70004186367218291,\n",
       "   0.011172373276688767]],\n",
       " ['block',\n",
       "  [0.40173364854215921,\n",
       "   0.0089903613534762141,\n",
       "   0.73132633963750993,\n",
       "   0.005003329278379578]],\n",
       " ['cl_block',\n",
       "  [0.24917257683215127,\n",
       "   0.012749407984968751,\n",
       "   0.71568410165484631,\n",
       "   0.0076368378620108208]]]"
      ]
     },
     "execution_count": 8,
     "metadata": {},
     "output_type": "execute_result"
    }
   ],
   "source": [
    "clf1 = MultiOutputClassifier(\n",
    "    SVC(C=1000, gamma=0.1, decision_function_shape='ovr'))\n",
    "cv = ShuffleSplit(n_splits=5, test_size=0.25, random_state=1)\n",
    "mp.cross_val_report(clf1, cv, X, Y, True)"
   ]
  },
  {
   "cell_type": "code",
   "execution_count": 9,
   "metadata": {
    "collapsed": false,
    "deletable": true,
    "editable": true
   },
   "outputs": [
    {
     "name": "stderr",
     "output_type": "stream",
     "text": [
      "/home/shurberto/miniconda3/lib/python3.5/site-packages/sklearn/preprocessing/data.py:160: UserWarning: Numerical issues were encountered when centering the data and might not be solved. Dataset may contain too large values. You may need to prescale your features.\n",
      "  warnings.warn(\"Numerical issues were encountered \"\n"
     ]
    },
    {
     "data": {
      "text/html": [
       "<table><caption><b>Report</b></caption><thead><tr><th>Name</th>        <th>Score</th></tr><tr><td>balanced</td><td>0.7061 +/-(0.0125)</td></tr><tr><td>brier</td><td>0.0000 +/-(0.0000)</td></tr><tr><td>normal</td><td>0.1831 +/-(0.0096)</td></tr><tr><td>codec</td><td>0.8928 +/-(0.0066)</td></tr><tr><td>filter_</td><td>0.8591 +/-(0.0108)</td></tr><tr><td>codec_filter</td><td>0.7850 +/-(0.0119)</td></tr><tr><td>c_level</td><td>0.3411 +/-(0.0188) &nbsp; ~ &nbsp;                     0.6297 +/-(0.0113)</td></tr><tr><td>block</td><td>0.2994 +/-(0.0187) &nbsp; ~ &nbsp;                     0.6245 +/-(0.0210)</td></tr><tr><td>cl_block</td><td>0.1970 +/-(0.0091) &nbsp; ~ &nbsp;                     0.6271 +/-(0.0132)</td></tr></table>"
      ],
      "text/plain": [
       "[['balanced', [0.70608008274231682, 0.012488982079590321]],\n",
       " ['brier', [0, 0]],\n",
       " ['normal', [0.18313632781717887, 0.0095815187729365904]],\n",
       " ['codec', [0.892828999211978, 0.0066306332444326429]],\n",
       " ['filter_', [0.85910165484633583, 0.010797915292646596]],\n",
       " ['codec_filter', [0.78502758077226176, 0.011850761983992115]],\n",
       " ['c_level',\n",
       "  [0.34105594956658786,\n",
       "   0.018849382364351221,\n",
       "   0.62973059495665873,\n",
       "   0.01128806634676233]],\n",
       " ['block',\n",
       "  [0.29944838455476758,\n",
       "   0.01868127595134705,\n",
       "   0.62453457446808514,\n",
       "   0.021003180285407055]],\n",
       " ['cl_block',\n",
       "  [0.19700551615445233,\n",
       "   0.0091220148958157752,\n",
       "   0.62713258471237199,\n",
       "   0.013200095813464952]]]"
      ]
     },
     "execution_count": 9,
     "metadata": {},
     "output_type": "execute_result"
    }
   ],
   "source": [
    "CUSTOM3_IN = ['IN_CS', 'IN_DS', 'IN_CR', 'BLZ_CRate', 'Sd', 'BLZ_CSpeed',\n",
    "              'Mean', 'Kurt', 'Skew', 'N_Streaks', 'Max', 'Min']\n",
    "X = scale(df[CUSTOM3_IN].values)\n",
    "clf1 = MultiOutputClassifier(\n",
    "    SVC(C=1000, gamma=0.1, decision_function_shape='ovr'))\n",
    "mp.cross_val_report(clf1, cv, X, Y, True)"
   ]
  },
  {
   "cell_type": "code",
   "execution_count": 10,
   "metadata": {
    "collapsed": false,
    "deletable": true,
    "editable": true
   },
   "outputs": [
    {
     "name": "stderr",
     "output_type": "stream",
     "text": [
      "/home/shurberto/miniconda3/lib/python3.5/site-packages/sklearn/preprocessing/data.py:160: UserWarning: Numerical issues were encountered when centering the data and might not be solved. Dataset may contain too large values. You may need to prescale your features.\n",
      "  warnings.warn(\"Numerical issues were encountered \"\n"
     ]
    },
    {
     "data": {
      "text/html": [
       "<table><caption><b>Report</b></caption><thead><tr><th>Name</th>        <th>Score</th></tr><tr><td>balanced</td><td>0.6272 +/-(0.0084)</td></tr><tr><td>brier</td><td>0.0000 +/-(0.0000)</td></tr><tr><td>normal</td><td>0.1359 +/-(0.0113)</td></tr><tr><td>codec</td><td>0.8870 +/-(0.0039)</td></tr><tr><td>filter_</td><td>0.7325 +/-(0.0088)</td></tr><tr><td>codec_filter</td><td>0.6602 +/-(0.0114)</td></tr><tr><td>c_level</td><td>0.3024 +/-(0.0198) &nbsp; ~ &nbsp;                     0.6121 +/-(0.0125)</td></tr><tr><td>block</td><td>0.2293 +/-(0.0065) &nbsp; ~ &nbsp;                     0.5762 +/-(0.0088)</td></tr><tr><td>cl_block</td><td>0.1658 +/-(0.0124) &nbsp; ~ &nbsp;                     0.5941 +/-(0.0088)</td></tr></table>"
      ],
      "text/plain": [
       "[['balanced', [0.62716275118203302, 0.0083615128575207018]],\n",
       " ['brier', [0, 0]],\n",
       " ['normal', [0.13585500394011032, 0.011294860751564327]],\n",
       " ['codec', [0.88699763593380609, 0.0039116386590987489]],\n",
       " ['filter_', [0.73254531126871547, 0.0088117640652446358]],\n",
       " ['codec_filter', [0.66020488573680058, 0.01143474051834012]],\n",
       " ['c_level',\n",
       "  [0.3024428684003152,\n",
       "   0.01979426097250906,\n",
       "   0.61208875098502757,\n",
       "   0.012533364615296185]],\n",
       " ['block',\n",
       "  [0.2293144208037825,\n",
       "   0.0065363093312301715,\n",
       "   0.57615248226950355,\n",
       "   0.0087557517828315608]],\n",
       " ['cl_block',\n",
       "  [0.16579984239558707,\n",
       "   0.012435777175463425,\n",
       "   0.59412061662726556,\n",
       "   0.0088130552037340212]]]"
      ]
     },
     "execution_count": 10,
     "metadata": {},
     "output_type": "execute_result"
    }
   ],
   "source": [
    "CUSTOM2_IN = ['IN_CS', 'IN_DS', 'IN_CR', 'BLZ_CRate', 'Sd', 'BLZ_CSpeed',\n",
    "              'Mean', 'Kurt', 'Skew', 'Max', 'Min']\n",
    "X = scale(df[CUSTOM2_IN].values)\n",
    "clf1 = MultiOutputClassifier(\n",
    "    SVC(C=1000, gamma=0.1, decision_function_shape='ovr'))\n",
    "mp.cross_val_report(clf1, cv, X, Y, True)"
   ]
  },
  {
   "cell_type": "code",
   "execution_count": 11,
   "metadata": {
    "collapsed": false,
    "deletable": true,
    "editable": true
   },
   "outputs": [
    {
     "data": {
      "text/html": [
       "<table><caption><b>Report</b></caption><thead><tr><th>Name</th>        <th>Score</th></tr><tr><td>balanced</td><td>0.5954 +/-(0.0060)</td></tr><tr><td>brier</td><td>0.0000 +/-(0.0000)</td></tr><tr><td>normal</td><td>0.1196 +/-(0.0058)</td></tr><tr><td>codec</td><td>0.8821 +/-(0.0048)</td></tr><tr><td>filter_</td><td>0.6826 +/-(0.0075)</td></tr><tr><td>codec_filter</td><td>0.6156 +/-(0.0074)</td></tr><tr><td>c_level</td><td>0.2772 +/-(0.0133) &nbsp; ~ &nbsp;                     0.5927 +/-(0.0174)</td></tr><tr><td>block</td><td>0.1931 +/-(0.0077) &nbsp; ~ &nbsp;                     0.5577 +/-(0.0093)</td></tr><tr><td>cl_block</td><td>0.1417 +/-(0.0103) &nbsp; ~ &nbsp;                     0.5752 +/-(0.0101)</td></tr></table>"
      ],
      "text/plain": [
       "[['balanced', [0.59540423069345938, 0.0060345083213792106]],\n",
       " ['brier', [0, 0]],\n",
       " ['normal', [0.11962174940898344, 0.0057993284453819018]],\n",
       " ['codec', [0.88211189913317578, 0.0047959413884012059]],\n",
       " ['filter_', [0.6825847123719464, 0.0075485768414991737]],\n",
       " ['codec_filter', [0.61560283687943262, 0.0074492055464753281]],\n",
       " ['c_level',\n",
       "  [0.27722616233254527,\n",
       "   0.01334901004120391,\n",
       "   0.5926812450748622,\n",
       "   0.017376849398900746]],\n",
       " ['block',\n",
       "  [0.19306540583136328,\n",
       "   0.007656395777141764,\n",
       "   0.55773000394011041,\n",
       "   0.0092576761374425446]],\n",
       " ['cl_block',\n",
       "  [0.14168636721828209,\n",
       "   0.010279384623558919,\n",
       "   0.57520562450748625,\n",
       "   0.010099492907502276]]]"
      ]
     },
     "execution_count": 11,
     "metadata": {},
     "output_type": "execute_result"
    }
   ],
   "source": [
    "CUSTOM_IN = ['IN_CS', 'IN_DS', 'IN_CR', 'BLZ_CRate', 'BLZ_CSpeed']\n",
    "X = scale(df[CUSTOM_IN].values)\n",
    "clf1 = MultiOutputClassifier(\n",
    "    SVC(C=1000, gamma=0.1, decision_function_shape='ovr'))\n",
    "mp.cross_val_report(clf1, cv, X, Y, True)"
   ]
  },
  {
   "cell_type": "code",
   "execution_count": 12,
   "metadata": {
    "collapsed": false,
    "deletable": true,
    "editable": true
   },
   "outputs": [
    {
     "data": {
      "text/html": [
       "<table><caption><b>Report</b></caption><thead><tr><th>Name</th>        <th>Score</th></tr><tr><td>balanced</td><td>0.3990 +/-(0.0279)</td></tr><tr><td>brier</td><td>0.0000 +/-(0.0000)</td></tr><tr><td>normal</td><td>0.0402 +/-(0.0205)</td></tr><tr><td>codec</td><td>0.7554 +/-(0.0048)</td></tr><tr><td>filter_</td><td>0.3545 +/-(0.0560)</td></tr><tr><td>codec_filter</td><td>0.2657 +/-(0.0493)</td></tr><tr><td>c_level</td><td>0.1064 +/-(0.0310) &nbsp; ~ &nbsp;                     0.5645 +/-(0.0156)</td></tr><tr><td>block</td><td>0.1176 +/-(0.0093) &nbsp; ~ &nbsp;                     0.5002 +/-(0.0115)</td></tr><tr><td>cl_block</td><td>0.0924 +/-(0.0076) &nbsp; ~ &nbsp;                     0.5323 +/-(0.0120)</td></tr></table>"
      ],
      "text/plain": [
       "[['balanced', [0.39902728526398745, 0.027940768880124096]],\n",
       " ['brier', [0, 0]],\n",
       " ['normal', [0.04018912529550827, 0.020464312483063112]],\n",
       " ['codec', [0.75539795114263197, 0.0048217678615534677]],\n",
       " ['filter_', [0.35445232466509069, 0.05602698336569132]],\n",
       " ['codec_filter', [0.26572104018912535, 0.049288622640132618]],\n",
       " ['c_level',\n",
       "  [0.10638297872340426,\n",
       "   0.030964354144032306,\n",
       "   0.56445527974783294,\n",
       "   0.01556854398917713]],\n",
       " ['block',\n",
       "  [0.11757289204097714,\n",
       "   0.0093026663914097408,\n",
       "   0.50021178092986607,\n",
       "   0.011525213121362897]],\n",
       " ['cl_block',\n",
       "  [0.092356185973207244,\n",
       "   0.0075814111715087123,\n",
       "   0.53233353033884945,\n",
       "   0.01197093559584942]]]"
      ]
     },
     "execution_count": 12,
     "metadata": {},
     "output_type": "execute_result"
    }
   ],
   "source": [
    "CUSTOM_IN = ['IN_CS', 'IN_DS', 'IN_CR']\n",
    "X = scale(df[CUSTOM_IN].values)\n",
    "clf1 = MultiOutputClassifier(\n",
    "    SVC(C=1000, gamma=0.1, decision_function_shape='ovr'))\n",
    "mp.cross_val_report(clf1, cv, X, Y, True)"
   ]
  },
  {
   "cell_type": "code",
   "execution_count": 13,
   "metadata": {
    "collapsed": false,
    "deletable": true,
    "editable": true
   },
   "outputs": [
    {
     "name": "stderr",
     "output_type": "stream",
     "text": [
      "/home/shurberto/miniconda3/lib/python3.5/site-packages/sklearn/preprocessing/data.py:160: UserWarning: Numerical issues were encountered when centering the data and might not be solved. Dataset may contain too large values. You may need to prescale your features.\n",
      "  warnings.warn(\"Numerical issues were encountered \"\n"
     ]
    },
    {
     "data": {
      "text/html": [
       "<table><caption><b>Report</b></caption><thead><tr><th>Name</th>        <th>Score</th></tr><tr><td>balanced</td><td>0.8011 +/-(0.0037)</td></tr><tr><td>brier</td><td>0.0000 +/-(0.0000)</td></tr><tr><td>normal</td><td>0.3045 +/-(0.0119)</td></tr><tr><td>codec</td><td>0.9054 +/-(0.0058)</td></tr><tr><td>filter_</td><td>0.8801 +/-(0.0059)</td></tr><tr><td>codec_filter</td><td>0.8206 +/-(0.0070)</td></tr><tr><td>c_level</td><td>0.4994 +/-(0.0122) &nbsp; ~ &nbsp;                     0.7628 +/-(0.0061)</td></tr><tr><td>block</td><td>0.4739 +/-(0.0149) &nbsp; ~ &nbsp;                     0.8005 +/-(0.0060)</td></tr><tr><td>cl_block</td><td>0.3165 +/-(0.0152) &nbsp; ~ &nbsp;                     0.7816 +/-(0.0052)</td></tr></table>"
      ],
      "text/plain": [
       "[['balanced', [0.8011432476359337, 0.0036628672688862828]],\n",
       " ['brier', [0, 0]],\n",
       " ['normal', [0.30449172576832151, 0.011925979140988254]],\n",
       " ['codec', [0.90543735224586275, 0.0058334926787460273]],\n",
       " ['filter_', [0.88006304176516947, 0.005884367124537224]],\n",
       " ['codec_filter', [0.82064617809298657, 0.0070058662792412607]],\n",
       " ['c_level',\n",
       "  [0.49944838455476753,\n",
       "   0.012150881177239621,\n",
       "   0.76278812056737588,\n",
       "   0.0061365647040233819]],\n",
       " ['block',\n",
       "  [0.47391646966115053,\n",
       "   0.014890072584941447,\n",
       "   0.80049251379038622,\n",
       "   0.0059720236862315463]],\n",
       " ['cl_block',\n",
       "  [0.31646966115051223,\n",
       "   0.015187374886236851,\n",
       "   0.78164031717888105,\n",
       "   0.0051713707596349216]]]"
      ]
     },
     "execution_count": 13,
     "metadata": {},
     "output_type": "execute_result"
    }
   ],
   "source": [
    "CUSTOM3_IN = ['IN_CS', 'IN_DS', 'IN_CR', 'BLZ_CRate', 'Sd', 'BLZ_CSpeed',\n",
    "              'Mean', 'Kurt', 'Skew', 'N_Streaks', 'Max', 'Min']\n",
    "X = scale(df[CUSTOM3_IN].values)\n",
    "clf1 = ChainedMultiOutputClassifier(\n",
    "    SVC(C=1000, gamma=0.1, decision_function_shape='ovr'))\n",
    "mp.cross_val_report(clf1, cv, X, Y, True)"
   ]
  },
  {
   "cell_type": "markdown",
   "metadata": {
    "deletable": true,
    "editable": true
   },
   "source": [
    "## LinearSVC - Curva de aprendizaje"
   ]
  },
  {
   "cell_type": "code",
   "execution_count": 14,
   "metadata": {
    "collapsed": false,
    "deletable": true,
    "editable": true
   },
   "outputs": [
    {
     "data": {
      "image/png": "[encoded data removed]",
      "text/plain": [
       "<matplotlib.figure.Figure at 0x7fbc01bec9b0>"
      ]
     },
     "metadata": {
      "image/png": {
       "height": 501,
       "width": 565
      }
     },
     "output_type": "display_data"
    }
   ],
   "source": [
    "title = \"Learning Curves (LinearSVC)\"\n",
    "cv = ShuffleSplit(n_splits=10, test_size=0.1)\n",
    "fig = plt.figure(figsize=(20,8))\n",
    "n = 121\n",
    "for score in SCORES:\n",
    "    mp.plot_learning_curve(\n",
    "        fig.add_subplot(n), clf, title, X, Y, scoring=score[0],\n",
    "        ylim=(score[1], score[2]), cv=cv, n_jobs=-1,\n",
    "        train_sizes=np.linspace(.1, 1.0, 10))\n",
    "    n += 1"
   ]
  },
  {
   "cell_type": "markdown",
   "metadata": {
    "deletable": true,
    "editable": true
   },
   "source": [
    "##  LinearSVC - Curva de validación"
   ]
  },
  {
   "cell_type": "code",
   "execution_count": 15,
   "metadata": {
    "collapsed": false,
    "deletable": true,
    "editable": true
   },
   "outputs": [
    {
     "data": {
      "image/png": "[encoded data removed]",
      "text/plain": [
       "<matplotlib.figure.Figure at 0x7fbc0de29320>"
      ]
     },
     "metadata": {
      "image/png": {
       "height": 503,
       "width": 565
      }
     },
     "output_type": "display_data"
    }
   ],
   "source": [
    "PARAM_NAMES = ['estimator__C']\n",
    "PARAM_RANGES = [[1, 10, 100, 1000]]\n",
    "cv = ShuffleSplit(n_splits=10, test_size=0.5)\n",
    "clf = MultiOutputClassifier(LinearSVC())\n",
    "fig = plt.figure(figsize=(20, 8))\n",
    "n = 121\n",
    "for score in SCORES:\n",
    "    ax = mp.plot_validation_curve(\n",
    "        fig.add_subplot(n), clf, X, Y, param_name=PARAM_NAMES[0],\n",
    "        param_range=PARAM_RANGES[0], cv=cv, scoring=score[0],\n",
    "        ylim=(score[1], score[2]))\n",
    "    ax.semilogx()\n",
    "    n += 1"
   ]
  },
  {
   "cell_type": "markdown",
   "metadata": {
    "deletable": true,
    "editable": true
   },
   "source": [
    "## LinearSVC - Resultados"
   ]
  },
  {
   "cell_type": "code",
   "execution_count": 16,
   "metadata": {
    "collapsed": false,
    "deletable": true,
    "editable": true
   },
   "outputs": [
    {
     "name": "stdout",
     "output_type": "stream",
     "text": [
      "Normal\n"
     ]
    },
    {
     "data": {
      "text/html": [
       "<table><caption><b>Report</b></caption><thead><tr><th>Name</th>        <th>Score</th></tr><tr><td>balanced</td><td>0.5294 +/-(0.0061)</td></tr><tr><td>brier</td><td>0.0000 +/-(0.0000)</td></tr><tr><td>normal</td><td>0.0768 +/-(0.0043)</td></tr><tr><td>codec</td><td>0.7748 +/-(0.0121)</td></tr><tr><td>filter_</td><td>0.6686 +/-(0.0139)</td></tr><tr><td>codec_filter</td><td>0.5160 +/-(0.0155)</td></tr><tr><td>c_level</td><td>0.1733 +/-(0.0084) &nbsp; ~ &nbsp;                     0.5621 +/-(0.0045)</td></tr><tr><td>block</td><td>0.1390 +/-(0.0051) &nbsp; ~ &nbsp;                     0.5212 +/-(0.0035)</td></tr><tr><td>cl_block</td><td>0.1000 +/-(0.0051) &nbsp; ~ &nbsp;                     0.5405 +/-(0.0038)</td></tr></table>"
      ],
      "text/plain": [
       "[['balanced', [0.52943462495074856, 0.0061038191614587603]],\n",
       " ['brier', [0, 0]],\n",
       " ['normal', [0.07683215130023642, 0.0043269515881142126]],\n",
       " ['codec', [0.77482269503546097, 0.012103580259486534]],\n",
       " ['filter_', [0.66859732072498035, 0.013851547363019807]],\n",
       " ['codec_filter', [0.51603624901497247, 0.0155352809143626]],\n",
       " ['c_level',\n",
       "  [0.17332545311268716,\n",
       "   0.0083813287370514775,\n",
       "   0.56205550630417656,\n",
       "   0.0044720557275058611]],\n",
       " ['block',\n",
       "  [0.13900709219858159,\n",
       "   0.0051487458546634014,\n",
       "   0.52116947399527191,\n",
       "   0.0035127536198453183]],\n",
       " ['cl_block',\n",
       "  [0.10003940110323091,\n",
       "   0.0050502624395612995,\n",
       "   0.54052895981087468,\n",
       "   0.0038428961525114086]]]"
      ]
     },
     "metadata": {},
     "output_type": "display_data"
    },
    {
     "name": "stdout",
     "output_type": "stream",
     "text": [
      "Chained\n"
     ]
    },
    {
     "data": {
      "text/html": [
       "<table><caption><b>Report</b></caption><thead><tr><th>Name</th>        <th>Score</th></tr><tr><td>balanced</td><td>0.6194 +/-(0.0067)</td></tr><tr><td>brier</td><td>0.0000 +/-(0.0000)</td></tr><tr><td>normal</td><td>0.1429 +/-(0.0077)</td></tr><tr><td>codec</td><td>0.8407 +/-(0.0130)</td></tr><tr><td>filter_</td><td>0.7246 +/-(0.0135)</td></tr><tr><td>codec_filter</td><td>0.6183 +/-(0.0136)</td></tr><tr><td>c_level</td><td>0.3244 +/-(0.0159) &nbsp; ~ &nbsp;                     0.5429 +/-(0.0221)</td></tr><tr><td>block</td><td>0.3168 +/-(0.0090) &nbsp; ~ &nbsp;                     0.6557 +/-(0.0162)</td></tr><tr><td>cl_block</td><td>0.1678 +/-(0.0059) &nbsp; ~ &nbsp;                     0.6108 +/-(0.0111)</td></tr></table>"
      ],
      "text/plain": [
       "[['balanced', [0.61938780535854998, 0.0066995418818408111]],\n",
       " ['brier', [0, 0]],\n",
       " ['normal', [0.14290780141843973, 0.0077150740739114461]],\n",
       " ['codec', [0.84070133963750993, 0.01299406330543958]],\n",
       " ['filter_', [0.72458628841607564, 0.013517507327351007]],\n",
       " ['codec_filter', [0.61828211189913318, 0.013620249595426126]],\n",
       " ['c_level',\n",
       "  [0.32442868400315211,\n",
       "   0.015875466775731272,\n",
       "   0.54293304275019705,\n",
       "   0.022131965993069935]],\n",
       " ['block',\n",
       "  [0.3167848699763593,\n",
       "   0.008965807400134607,\n",
       "   0.65565098010244283,\n",
       "   0.016233122111937188]],\n",
       " ['cl_block',\n",
       "  [0.16776989755713159,\n",
       "   0.0058648115323371519,\n",
       "   0.61080821513002359,\n",
       "   0.011066247505644267]]]"
      ]
     },
     "metadata": {},
     "output_type": "display_data"
    }
   ],
   "source": [
    "print('Normal')\n",
    "clf = MultiOutputClassifier(LinearSVC())\n",
    "display(mp.cross_val_report(clf, cv, X, Y, True))\n",
    "print('Chained')\n",
    "clf = ChainedMultiOutputClassifier(LinearSVC())\n",
    "display(mp.cross_val_report(clf, cv, X, Y, True))"
   ]
  },
  {
   "cell_type": "code",
   "execution_count": 17,
   "metadata": {
    "collapsed": false,
    "deletable": true,
    "editable": true
   },
   "outputs": [
    {
     "name": "stderr",
     "output_type": "stream",
     "text": [
      "/home/shurberto/miniconda3/lib/python3.5/site-packages/sklearn/preprocessing/data.py:160: UserWarning: Numerical issues were encountered when centering the data and might not be solved. Dataset may contain too large values. You may need to prescale your features.\n",
      "  warnings.warn(\"Numerical issues were encountered \"\n"
     ]
    },
    {
     "name": "stdout",
     "output_type": "stream",
     "text": [
      "Normal\n"
     ]
    },
    {
     "data": {
      "text/html": [
       "<table><caption><b>Report</b></caption><thead><tr><th>Name</th>        <th>Score</th></tr><tr><td>balanced</td><td>0.5305 +/-(0.0070)</td></tr><tr><td>brier</td><td>0.0000 +/-(0.0000)</td></tr><tr><td>normal</td><td>0.0710 +/-(0.0070)</td></tr><tr><td>codec</td><td>0.7675 +/-(0.0076)</td></tr><tr><td>filter_</td><td>0.6630 +/-(0.0161)</td></tr><tr><td>codec_filter</td><td>0.5220 +/-(0.0124)</td></tr><tr><td>c_level</td><td>0.1724 +/-(0.0049) &nbsp; ~ &nbsp;                     0.5647 +/-(0.0062)</td></tr><tr><td>block</td><td>0.1384 +/-(0.0046) &nbsp; ~ &nbsp;                     0.5223 +/-(0.0043)</td></tr><tr><td>cl_block</td><td>0.1036 +/-(0.0035) &nbsp; ~ &nbsp;                     0.5368 +/-(0.0034)</td></tr></table>"
      ],
      "text/plain": [
       "[['balanced', [0.53047459860126089, 0.006978584333302249]],\n",
       " ['brier', [0, 0]],\n",
       " ['normal', [0.070961386918833733, 0.0069650853761577779]],\n",
       " ['codec', [0.76749408983451539, 0.0076044129235618456]],\n",
       " ['filter_', [0.66300236406619395, 0.016060046275232925]],\n",
       " ['codec_filter', [0.52202521670606772, 0.012371507222432486]],\n",
       " ['c_level',\n",
       "  [0.17241922773837667,\n",
       "   0.0048996978902158669,\n",
       "   0.564665213750985,\n",
       "   0.0061666950654153882]],\n",
       " ['block',\n",
       "  [0.13837667454688729,\n",
       "   0.0046009962417635896,\n",
       "   0.52230471828211178,\n",
       "   0.0043413185686583325]],\n",
       " ['cl_block',\n",
       "  [0.10358550039401104,\n",
       "   0.0035173071562603327,\n",
       "   0.53679847566981864,\n",
       "   0.0033878441210067624]]]"
      ]
     },
     "metadata": {},
     "output_type": "display_data"
    },
    {
     "name": "stdout",
     "output_type": "stream",
     "text": [
      "Chained\n"
     ]
    },
    {
     "data": {
      "text/html": [
       "<table><caption><b>Report</b></caption><thead><tr><th>Name</th>        <th>Score</th></tr><tr><td>balanced</td><td>0.6208 +/-(0.0106)</td></tr><tr><td>brier</td><td>0.0000 +/-(0.0000)</td></tr><tr><td>normal</td><td>0.1435 +/-(0.0076)</td></tr><tr><td>codec</td><td>0.8437 +/-(0.0088)</td></tr><tr><td>filter_</td><td>0.7249 +/-(0.0169)</td></tr><tr><td>codec_filter</td><td>0.6210 +/-(0.0135)</td></tr><tr><td>c_level</td><td>0.3272 +/-(0.0101) &nbsp; ~ &nbsp;                     0.5428 +/-(0.0246)</td></tr><tr><td>block</td><td>0.3063 +/-(0.0088) &nbsp; ~ &nbsp;                     0.6535 +/-(0.0206)</td></tr><tr><td>cl_block</td><td>0.1712 +/-(0.0090) &nbsp; ~ &nbsp;                     0.6138 +/-(0.0077)</td></tr></table>"
      ],
      "text/plain": [
       "[['balanced', [0.62079854954688729, 0.010552020223353473]],\n",
       " ['brier', [0, 0]],\n",
       " ['normal', [0.14349881796690306, 0.0075518666986357369]],\n",
       " ['codec', [0.84365642237982663, 0.0087958936722251913]],\n",
       " ['filter_', [0.7248620961386919, 0.01694893310652491]],\n",
       " ['codec_filter', [0.62096138691883362, 0.013478402740259573]],\n",
       " ['c_level',\n",
       "  [0.32718676122931445,\n",
       "   0.010062643735189834,\n",
       "   0.54277974783293936,\n",
       "   0.024560140702409864]],\n",
       " ['block',\n",
       "  [0.30634357762017339,\n",
       "   0.0088424538405431161,\n",
       "   0.65345129038613081,\n",
       "   0.020570104890563191]],\n",
       " ['cl_block',\n",
       "  [0.1711977935382191,\n",
       "   0.0089748932731575481,\n",
       "   0.61381224143026003,\n",
       "   0.0077457819403688099]]]"
      ]
     },
     "metadata": {},
     "output_type": "display_data"
    }
   ],
   "source": [
    "CUSTOM2_IN = ['IN_CS', 'IN_DS', 'IN_CR', 'BLZ_CRate', 'Sd', 'BLZ_CSpeed',\n",
    "              'Mean', 'Kurt', 'Skew', 'Max', 'Min']\n",
    "X = scale(df[CUSTOM2_IN].values)\n",
    "print('Normal')\n",
    "clf = MultiOutputClassifier(LinearSVC())\n",
    "display(mp.cross_val_report(clf, cv, X, Y, True))\n",
    "print('Chained')\n",
    "clf = ChainedMultiOutputClassifier(LinearSVC())\n",
    "display(mp.cross_val_report(clf, cv, X, Y, True))"
   ]
  },
  {
   "cell_type": "code",
   "execution_count": 18,
   "metadata": {
    "collapsed": false,
    "deletable": true,
    "editable": true
   },
   "outputs": [
    {
     "name": "stdout",
     "output_type": "stream",
     "text": [
      "Normal\n"
     ]
    },
    {
     "data": {
      "text/html": [
       "<table><caption><b>Report</b></caption><thead><tr><th>Name</th>        <th>Score</th></tr><tr><td>balanced</td><td>0.5197 +/-(0.0046)</td></tr><tr><td>brier</td><td>0.0000 +/-(0.0000)</td></tr><tr><td>normal</td><td>0.0688 +/-(0.0052)</td></tr><tr><td>codec</td><td>0.7777 +/-(0.0063)</td></tr><tr><td>filter_</td><td>0.6350 +/-(0.0094)</td></tr><tr><td>codec_filter</td><td>0.4986 +/-(0.0121)</td></tr><tr><td>c_level</td><td>0.1657 +/-(0.0045) &nbsp; ~ &nbsp;                     0.5626 +/-(0.0066)</td></tr><tr><td>block</td><td>0.1363 +/-(0.0042) &nbsp; ~ &nbsp;                     0.5204 +/-(0.0041)</td></tr><tr><td>cl_block</td><td>0.1002 +/-(0.0034) &nbsp; ~ &nbsp;                     0.5416 +/-(0.0043)</td></tr></table>"
      ],
      "text/plain": [
       "[['balanced', [0.51968392927501972, 0.0046161210425529628]],\n",
       " ['brier', [0, 0]],\n",
       " ['normal', [0.068794326241134754, 0.0051800089612434336]],\n",
       " ['codec', [0.7776595744680852, 0.0063460244217841367]],\n",
       " ['filter_', [0.63498817966903087, 0.0094418066513791508]],\n",
       " ['codec_filter', [0.49858156028368794, 0.012082976439248593]],\n",
       " ['c_level',\n",
       "  [0.16568163908589442,\n",
       "   0.0045482255242770648,\n",
       "   0.56261881895193067,\n",
       "   0.0066340214985478388]],\n",
       " ['block',\n",
       "  [0.13632781717888101,\n",
       "   0.004217942849825896,\n",
       "   0.52037221729708427,\n",
       "   0.0040724763824177236]],\n",
       " ['cl_block',\n",
       "  [0.10015760441292358,\n",
       "   0.00341132558264986,\n",
       "   0.54162172478329396,\n",
       "   0.0042882228974969062]]]"
      ]
     },
     "metadata": {},
     "output_type": "display_data"
    },
    {
     "name": "stdout",
     "output_type": "stream",
     "text": [
      "Chained\n"
     ]
    },
    {
     "data": {
      "text/html": [
       "<table><caption><b>Report</b></caption><thead><tr><th>Name</th>        <th>Score</th></tr><tr><td>balanced</td><td>0.6050 +/-(0.0074)</td></tr><tr><td>brier</td><td>0.0000 +/-(0.0000)</td></tr><tr><td>normal</td><td>0.1520 +/-(0.0117)</td></tr><tr><td>codec</td><td>0.8480 +/-(0.0091)</td></tr><tr><td>filter_</td><td>0.6983 +/-(0.0136)</td></tr><tr><td>codec_filter</td><td>0.6115 +/-(0.0093)</td></tr><tr><td>c_level</td><td>0.3255 +/-(0.0123) &nbsp; ~ &nbsp;                     0.5523 +/-(0.0307)</td></tr><tr><td>block</td><td>0.3167 +/-(0.0151) &nbsp; ~ &nbsp;                     0.6641 +/-(0.0235)</td></tr><tr><td>cl_block</td><td>0.1704 +/-(0.0077) &nbsp; ~ &nbsp;                     0.6031 +/-(0.0189)</td></tr></table>"
      ],
      "text/plain": [
       "[['balanced', [0.60499285855003937, 0.0074025258543266069]],\n",
       " ['brier', [0, 0]],\n",
       " ['normal', [0.15204885736800627, 0.011666253486687131]],\n",
       " ['codec', [0.84795114263199367, 0.0091057475472772088]],\n",
       " ['filter_', [0.69834515366430261, 0.013638929636765912]],\n",
       " ['codec_filter', [0.61150512214342012, 0.009307337912543517]],\n",
       " ['c_level',\n",
       "  [0.32545311268715527,\n",
       "   0.012315602528043952,\n",
       "   0.55229757683215142,\n",
       "   0.03069422229204026]],\n",
       " ['block',\n",
       "  [0.31670606776989757,\n",
       "   0.015120786187184286,\n",
       "   0.66407481284475978,\n",
       "   0.023458291464587992]],\n",
       " ['cl_block',\n",
       "  [0.17044917257683218,\n",
       "   0.0076750274613465409,\n",
       "   0.60305512460598898,\n",
       "   0.018869004264878284]]]"
      ]
     },
     "metadata": {},
     "output_type": "display_data"
    }
   ],
   "source": [
    "CUSTOM_IN = ['IN_CS', 'IN_DS', 'IN_CR', 'BLZ_CRate', 'BLZ_CSpeed']\n",
    "X = scale(df[CUSTOM_IN].values)\n",
    "print('Normal')\n",
    "clf = MultiOutputClassifier(LinearSVC())\n",
    "display(mp.cross_val_report(clf, cv, X, Y, True))\n",
    "print('Chained')\n",
    "clf = ChainedMultiOutputClassifier(LinearSVC())\n",
    "display(mp.cross_val_report(clf, cv, X, Y, True))"
   ]
  }
 ],
 "metadata": {
  "kernelspec": {
   "display_name": "Python 3",
   "language": "python",
   "name": "python3"
  },
  "language_info": {
   "codemirror_mode": {
    "name": "ipython",
    "version": 3
   },
   "file_extension": ".py",
   "mimetype": "text/x-python",
   "name": "python",
   "nbconvert_exporter": "python",
   "pygments_lexer": "ipython3",
   "version": "3.5.3"
  }
 },
 "nbformat": 4,
 "nbformat_minor": 2
}
