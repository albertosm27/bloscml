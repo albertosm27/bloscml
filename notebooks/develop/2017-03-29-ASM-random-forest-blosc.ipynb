{
 "cells": [
  {
   "cell_type": "markdown",
   "metadata": {
    "deletable": true,
    "editable": true
   },
   "source": [
    "# Multioutput-Multiclass Random Forest Blosc"
   ]
  },
  {
   "cell_type": "markdown",
   "metadata": {
    "deletable": true,
    "editable": true
   },
   "source": [
    "## Objetivos\n",
    "* Crear un algoritmo de arboles de decisión basado en bosques aleatorios utilizando scikit-learn."
   ]
  },
  {
   "cell_type": "code",
   "execution_count": 1,
   "metadata": {
    "collapsed": false,
    "deletable": true,
    "editable": true
   },
   "outputs": [
    {
     "data": {
      "application/json": {
       "Software versions": [
        {
         "module": "Python",
         "version": "3.5.3 64bit [GCC 4.4.7 20120313 (Red Hat 4.4.7-1)]"
        },
        {
         "module": "IPython",
         "version": "5.1.0"
        },
        {
         "module": "OS",
         "version": "Linux 4.9.16 gentoo x86_64 with debian stretch sid"
        },
        {
         "module": "numpy",
         "version": "1.12.1"
        },
        {
         "module": "scipy",
         "version": "0.19.0"
        },
        {
         "module": "matplotlib",
         "version": "2.0.0"
        },
        {
         "module": "pandas",
         "version": "0.19.2"
        }
       ]
      },
      "text/html": [
       "<table><tr><th>Software</th><th>Version</th></tr><tr><td>Python</td><td>3.5.3 64bit [GCC 4.4.7 20120313 (Red Hat 4.4.7-1)]</td></tr><tr><td>IPython</td><td>5.1.0</td></tr><tr><td>OS</td><td>Linux 4.9.16 gentoo x86_64 with debian stretch sid</td></tr><tr><td>numpy</td><td>1.12.1</td></tr><tr><td>scipy</td><td>0.19.0</td></tr><tr><td>matplotlib</td><td>2.0.0</td></tr><tr><td>pandas</td><td>0.19.2</td></tr><tr><td colspan='2'>Thu Mar 30 16:12:11 2017 UTC</td></tr></table>"
      ],
      "text/latex": [
       "\\begin{tabular}{|l|l|}\\hline\n",
       "{\\bf Software} & {\\bf Version} \\\\ \\hline\\hline\n",
       "Python & 3.5.3 64bit [GCC 4.4.7 20120313 (Red Hat 4.4.7-1)] \\\\ \\hline\n",
       "IPython & 5.1.0 \\\\ \\hline\n",
       "OS & Linux 4.9.16 gentoo x86\\_64 with debian stretch sid \\\\ \\hline\n",
       "numpy & 1.12.1 \\\\ \\hline\n",
       "scipy & 0.19.0 \\\\ \\hline\n",
       "matplotlib & 2.0.0 \\\\ \\hline\n",
       "pandas & 0.19.2 \\\\ \\hline\n",
       "\\hline \\multicolumn{2}{|l|}{Thu Mar 30 16:12:11 2017 UTC} \\\\ \\hline\n",
       "\\end{tabular}\n"
      ],
      "text/plain": [
       "Software versions\n",
       "Python 3.5.3 64bit [GCC 4.4.7 20120313 (Red Hat 4.4.7-1)]\n",
       "IPython 5.1.0\n",
       "OS Linux 4.9.16 gentoo x86_64 with debian stretch sid\n",
       "numpy 1.12.1\n",
       "scipy 0.19.0\n",
       "matplotlib 2.0.0\n",
       "pandas 0.19.2\n",
       "Thu Mar 30 16:12:11 2017 UTC"
      ]
     },
     "execution_count": 1,
     "metadata": {},
     "output_type": "execute_result"
    }
   ],
   "source": [
    "%matplotlib inline\n",
    "%config InlineBackend.figure_format='retina'\n",
    "\n",
    "%load_ext autoreload\n",
    "%autoreload 2\n",
    "\n",
    "%load_ext version_information\n",
    "%version_information numpy, scipy, matplotlib, pandas"
   ]
  },
  {
   "cell_type": "code",
   "execution_count": 2,
   "metadata": {
    "collapsed": false,
    "deletable": true,
    "editable": true
   },
   "outputs": [],
   "source": [
    "import os\n",
    "import sys\n",
    "sys.path.append(\"../src/\")\n",
    "\n",
    "from IPython.display import display\n",
    "import matplotlib\n",
    "from matplotlib import pyplot as plt\n",
    "import numpy as np\n",
    "import pandas as pd\n",
    "import seaborn as sns; sns.set()\n",
    "from sklearn.preprocessing import binarize \n",
    "from sklearn.preprocessing import OneHotEncoder\n",
    "\n",
    "pd.options.display.float_format = '{:,.3f}'.format\n",
    "matplotlib.rcParams.update({'font.size': 12})"
   ]
  },
  {
   "cell_type": "markdown",
   "metadata": {
    "deletable": true,
    "editable": true
   },
   "source": [
    "## Importando los datos de entramiento\n",
    "Para ver como se crearon los datos de entrenamiento ir a [Training data generator](../deliver/training_data_generator.ipynb)"
   ]
  },
  {
   "cell_type": "code",
   "execution_count": 3,
   "metadata": {
    "collapsed": true,
    "deletable": true,
    "editable": true
   },
   "outputs": [],
   "source": [
    "df = pd.read_csv('../data/training_data.csv', sep='\\t')"
   ]
  },
  {
   "cell_type": "markdown",
   "metadata": {
    "deletable": true,
    "editable": true
   },
   "source": [
    "## Preprocesamiento entradas (extraer en training data generator o antes)"
   ]
  },
  {
   "cell_type": "code",
   "execution_count": 4,
   "metadata": {
    "collapsed": true,
    "deletable": true,
    "editable": true
   },
   "outputs": [],
   "source": [
    "df = df.assign(is_Table=binarize(df['Table'].values.reshape(-1,1), 0), \n",
    "               is_Columnar=binarize(df['Table'].values.reshape(-1,1), 1),\n",
    "               is_Int=df['DType'].str.contains('int').astype(int),\n",
    "               is_Float=df['DType'].str.contains('float').astype(int),\n",
    "               is_String=(df['DType'].str.contains('S') | df['DType'].str.contains('U')).astype(int))\n",
    "def aux_func(n):\n",
    "    if n == 32 or n == 64:\n",
    "        return n // 8\n",
    "    else:\n",
    "        return n\n",
    "df['Type_Size'] = [aux_func(int(s)) for s in df['DType'].str[-2:]]"
   ]
  },
  {
   "cell_type": "markdown",
   "metadata": {
    "deletable": true,
    "editable": true
   },
   "source": [
    "## Preprocesamiento salidas"
   ]
  },
  {
   "cell_type": "code",
   "execution_count": 5,
   "metadata": {
    "collapsed": true,
    "deletable": true,
    "editable": true
   },
   "outputs": [],
   "source": [
    "df = df.assign(Blosclz=(df['Codec'] == 'blosclz').astype(int),\n",
    "               Lz4=(df['Codec'] == 'lz4').astype(int),\n",
    "               Lz4hc=(df['Codec'] == 'lz4hc').astype(int),\n",
    "               Snappy=(df['Codec'] == 'snappy').astype(int),\n",
    "               Zstd=(df['Codec'] == 'zstd').astype(int),\n",
    "               Shuffle=(df['Filter'] == 'shuffle').astype(int),\n",
    "               Bitshuffle=(df['Filter'] == 'bitshuffle').astype(int))\n",
    "enc_cl = OneHotEncoder()\n",
    "enc_cl.fit(df['CL'].values.reshape(-1, 1))\n",
    "new_cls = enc_cl.transform(df['CL'].values.reshape(-1, 1)).toarray()\n",
    "enc_block = OneHotEncoder()\n",
    "enc_block.fit(df['Block_Size'].values.reshape(-1, 1))\n",
    "new_blocks = enc_block.transform(df['Block_Size'].values.reshape(-1, 1)).toarray()\n",
    "block_sizes = [0, 8, 16, 32, 64, 128, 256, 512, 1024]\n",
    "for i in range(9):\n",
    "    cl_label = 'CL' + str(i+1)\n",
    "    block_label = 'Block_' + str(block_sizes[i])\n",
    "    df[cl_label] = new_cls[:, i]\n",
    "    df[block_label] = new_blocks[:, i]\n",
    "df['Block_2048'] = new_blocks[:, 9]"
   ]
  },
  {
   "cell_type": "code",
   "execution_count": 6,
   "metadata": {
    "collapsed": true,
    "deletable": true,
    "editable": true
   },
   "outputs": [],
   "source": [
    "IN_OPTIONS = ['IN_CR', 'IN_CS', 'IN_DS', 'is_Table', 'is_Columnar', 'is_Int', 'is_Float', 'is_String', 'Type_Size', 'Chunk_Size',\n",
    "              'Mean', 'Median', 'Sd', 'Skew', 'Kurt', 'Min', 'Max', 'Q1', 'Q3', 'BLZ_CRate', 'BLZ_CSpeed', 'BLZ_DSpeed', 'LZ4_CRate',\n",
    "              'LZ4_CSpeed', 'LZ4_DSpeed']\n",
    "OUT_OPTIONS = ['Block_0', 'Block_8', 'Block_16', 'Block_32', 'Block_64', 'Block_128', 'Block_256', 'Block_512', 'Block_1024', 'Block_2048',\n",
    "               'Blosclz', 'Lz4', 'Lz4hc', 'Snappy', 'Zstd', 'Shuffle', 'Bitshuffle',\n",
    "               'CL1', 'CL2', 'CL3', 'CL4', 'CL5', 'CL6', 'CL7', 'CL8', 'CL9']"
   ]
  },
  {
   "cell_type": "code",
   "execution_count": 7,
   "metadata": {
    "collapsed": false,
    "deletable": true,
    "editable": true
   },
   "outputs": [],
   "source": [
    "X, Y = df[IN_OPTIONS].values, df[OUT_OPTIONS].values"
   ]
  },
  {
   "cell_type": "code",
   "execution_count": 8,
   "metadata": {
    "collapsed": true,
    "deletable": true,
    "editable": true
   },
   "outputs": [],
   "source": [
    "from sklearn.model_selection import cross_val_score\n",
    "from sklearn.multioutput import MultiOutputClassifier\n",
    "from sklearn.ensemble import RandomForestClassifier\n",
    "from sklearn.ensemble import AdaBoostClassifier\n",
    "# [DIFFER] thresholds randomness instead of most discriminative\n",
    "from sklearn.ensemble import ExtraTreesClassifier\n",
    "from sklearn.tree import DecisionTreeClassifier\n",
    "from sklearn.model_selection import train_test_split\n",
    "\n",
    "Xtrain, Xtest, Ytrain, Ytest = train_test_split(X, Y)\n",
    "clf = RandomForestClassifier(n_estimators=100)\n",
    "clf.fit(Xtrain, Ytrain)\n",
    "Ypred = clf.predict(Xtest)"
   ]
  },
  {
   "cell_type": "code",
   "execution_count": 9,
   "metadata": {
    "collapsed": false,
    "deletable": true,
    "editable": true
   },
   "outputs": [
    {
     "name": "stdout",
     "output_type": "stream",
     "text": [
      "             precision    recall  f1-score   support\n",
      "\n",
      "    Block_0      0.643     0.148     0.240       122\n",
      "    Block_8      0.700     0.329     0.448        85\n",
      "   Block_16      0.571     0.043     0.080        93\n",
      "   Block_32      0.333     0.042     0.075        95\n",
      "   Block_64      0.644     0.141     0.231       206\n",
      "  Block_128      0.483     0.111     0.181       126\n",
      "  Block_256      0.533     0.125     0.203       128\n",
      "  Block_512      0.333     0.028     0.052        71\n",
      " Block_1024      0.600     0.105     0.179        57\n",
      " Block_2048      0.934     0.723     0.815       195\n",
      "    Blosclz      0.954     0.888     0.920       278\n",
      "        Lz4      0.961     0.944     0.952       465\n",
      "      Lz4hc      0.944     0.908     0.926       131\n",
      "     Snappy      0.000     0.000     0.000         0\n",
      "       Zstd      0.993     0.951     0.971       304\n",
      "    Shuffle      0.931     0.954     0.942       410\n",
      " Bitshuffle      0.883     0.671     0.763        79\n",
      "        CL1      0.825     0.687     0.750       323\n",
      "        CL2      0.627     0.226     0.332       164\n",
      "        CL3      0.250     0.011     0.021        92\n",
      "        CL4      0.933     0.200     0.329        70\n",
      "        CL5      0.000     0.000     0.000        41\n",
      "        CL6      0.812     0.299     0.437        87\n",
      "        CL7      0.778     0.137     0.233        51\n",
      "        CL8      0.923     0.188     0.312       128\n",
      "        CL9      0.837     0.577     0.683       222\n",
      "\n",
      "avg / total      0.792     0.562     0.615      4023\n",
      "\n"
     ]
    },
    {
     "name": "stderr",
     "output_type": "stream",
     "text": [
      "/home/shurberto/miniconda3/lib/python3.5/site-packages/sklearn/metrics/classification.py:1113: UndefinedMetricWarning: Precision and F-score are ill-defined and being set to 0.0 in labels with no predicted samples.\n",
      "  'precision', 'predicted', average, warn_for)\n",
      "/home/shurberto/miniconda3/lib/python3.5/site-packages/sklearn/metrics/classification.py:1115: UndefinedMetricWarning: Recall and F-score are ill-defined and being set to 0.0 in labels with no true samples.\n",
      "  'recall', 'true', average, warn_for)\n"
     ]
    }
   ],
   "source": [
    "from sklearn import metrics\n",
    "print(metrics.classification_report(Ytest, Ypred, digits=3, target_names=OUT_OPTIONS))"
   ]
  },
  {
   "cell_type": "code",
   "execution_count": 10,
   "metadata": {
    "collapsed": false,
    "deletable": true,
    "editable": true
   },
   "outputs": [
    {
     "data": {
      "text/plain": [
       "0.15959252971137522"
      ]
     },
     "execution_count": 10,
     "metadata": {},
     "output_type": "execute_result"
    }
   ],
   "source": [
    "clf.score(Xtest, Ytest)"
   ]
  },
  {
   "cell_type": "code",
   "execution_count": 11,
   "metadata": {
    "collapsed": false,
    "deletable": true,
    "editable": true
   },
   "outputs": [
    {
     "name": "stdout",
     "output_type": "stream",
     "text": [
      "0.15959252971137522\n"
     ]
    }
   ],
   "source": [
    "count = 0\n",
    "for i in range(Ytest.shape[0]):\n",
    "    if (Ytest[i,:] == Ypred[i,:]).all():\n",
    "        count += 1\n",
    "print(count/Ytest.shape[0])"
   ]
  },
  {
   "cell_type": "code",
   "execution_count": 12,
   "metadata": {
    "collapsed": false,
    "deletable": true,
    "editable": true
   },
   "outputs": [
    {
     "name": "stderr",
     "output_type": "stream",
     "text": [
      "/home/shurberto/miniconda3/lib/python3.5/site-packages/sklearn/metrics/classification.py:1113: UndefinedMetricWarning: F-score is ill-defined and being set to 0.0 in labels with no predicted samples.\n",
      "  'precision', 'predicted', average, warn_for)\n",
      "/home/shurberto/miniconda3/lib/python3.5/site-packages/sklearn/metrics/classification.py:1115: UndefinedMetricWarning: F-score is ill-defined and being set to 0.0 in labels with no true samples.\n",
      "  'recall', 'true', average, warn_for)\n"
     ]
    },
    {
     "data": {
      "text/plain": [
       "0.61539676641731844"
      ]
     },
     "execution_count": 12,
     "metadata": {},
     "output_type": "execute_result"
    }
   ],
   "source": [
    "from sklearn.metrics import f1_score\n",
    "f1_score(Ytest, Ypred, average='weighted')"
   ]
  },
  {
   "cell_type": "code",
   "execution_count": 13,
   "metadata": {
    "collapsed": false,
    "deletable": true,
    "editable": true
   },
   "outputs": [
    {
     "data": {
      "text/plain": [
       "['Block_0',\n",
       " 'Block_8',\n",
       " 'Block_16',\n",
       " 'Block_32',\n",
       " 'Block_64',\n",
       " 'Block_128',\n",
       " 'Block_256',\n",
       " 'Block_512',\n",
       " 'Block_1024',\n",
       " 'Block_2048',\n",
       " 'Blosclz',\n",
       " 'Lz4',\n",
       " 'Lz4hc',\n",
       " 'Snappy',\n",
       " 'Zstd',\n",
       " 'Shuffle',\n",
       " 'Bitshuffle',\n",
       " 'CL1',\n",
       " 'CL2',\n",
       " 'CL3',\n",
       " 'CL4',\n",
       " 'CL5',\n",
       " 'CL6',\n",
       " 'CL7',\n",
       " 'CL8',\n",
       " 'CL9']"
      ]
     },
     "execution_count": 13,
     "metadata": {},
     "output_type": "execute_result"
    }
   ],
   "source": [
    "OUT_OPTIONS"
   ]
  },
  {
   "cell_type": "code",
   "execution_count": 14,
   "metadata": {
    "collapsed": false,
    "deletable": true,
    "editable": true
   },
   "outputs": [
    {
     "data": {
      "text/plain": [
       "0.6845500848896476"
      ]
     },
     "execution_count": 14,
     "metadata": {},
     "output_type": "execute_result"
    }
   ],
   "source": [
    "def my_score(Yreal, Ypred):\n",
    "    score = 0\n",
    "    for i in range(Yreal.shape[0]):\n",
    "        if (Ytest[i,0:10] == Ypred[i,0:10]).all():\n",
    "            score += 0.2\n",
    "        if (Ytest[i,10:15] == Ypred[i,10:15]).all():\n",
    "            score += 0.4\n",
    "        if (Ytest[i,15:17] == Ypred[i,15:17]).all():\n",
    "            score += 0.2\n",
    "        if (Ytest[i,17:26] == Ypred[i,17:26]).all():\n",
    "            score += 0.2\n",
    "    return score/Yreal.shape[0]\n",
    "my_score(Ytest, Ypred)"
   ]
  },
  {
   "cell_type": "markdown",
   "metadata": {
    "deletable": true,
    "editable": true
   },
   "source": [
    "Demasiada buena puntuación, busquemos algo más exigente."
   ]
  },
  {
   "cell_type": "code",
   "execution_count": 15,
   "metadata": {
    "collapsed": false,
    "deletable": true,
    "editable": true
   },
   "outputs": [
    {
     "data": {
      "text/plain": [
       "0.5275891341256367"
      ]
     },
     "execution_count": 15,
     "metadata": {},
     "output_type": "execute_result"
    }
   ],
   "source": [
    "def my_score2(Yreal, Ypred):\n",
    "    score = 0\n",
    "    for i in range(Yreal.shape[0]):\n",
    "        if (Ytest[i,0:10] == Ypred[i,0:10]).all() and (Ytest[i,17:26] == Ypred[i,17:26]).all():\n",
    "            score += 0.5\n",
    "        if (Ytest[i,10:15] == Ypred[i,10:15]).all() and (Ytest[i,15:17] == Ypred[i,15:17]).all():\n",
    "            score += 0.5\n",
    "    return score/Yreal.shape[0]\n",
    "my_score2(Ytest, Ypred)"
   ]
  },
  {
   "cell_type": "code",
   "execution_count": 17,
   "metadata": {
    "collapsed": false,
    "deletable": true,
    "editable": true
   },
   "outputs": [],
   "source": [
    "from sklearn.model_selection import ShuffleSplit\n",
    "from sklearn.model_selection import GridSearchCV\n",
    "from sklearn.model_selection import RandomizedSearchCV\n",
    "from scipy.stats import randint as sp_randint\n",
    "X, Y = df[IN_OPTIONS].values, df[OUT_OPTIONS].values\n",
    "\n",
    "param_grid = {'n_estimators': [100, 500],\n",
    "              'criterion': ['gini', 'entropy'],\n",
    "              'bootstrap': [True, False],\n",
    "              'max_features': [1, 5, 10],\n",
    "              'min_samples_leaf': [1, 5],\n",
    "              'class_weight': [None, 'balanced']}\n",
    "\n",
    "param_dist = {'n_estimators': [100, 200, 500],\n",
    "              'criterion': ['gini', 'entropy'],\n",
    "              'bootstrap': [True, False],\n",
    "              'max_features': sp_randint(1, 10),\n",
    "              'min_samples_leaf': sp_randint(1, 5),\n",
    "              'class_weight': [None, 'balanced']}\n",
    "ss = ShuffleSplit(n_splits=1, test_size=0.5)\n",
    "rfc = RandomForestClassifier(n_jobs=-1)\n",
    "grid_rfc = GridSearchCV(estimator=rfc, param_grid=param_grid, cv=ss, verbose=10, n_jobs=-1)\n",
    "rgrid_rfc = RandomizedSearchCV(estimator=rfc, param_distributions=param_dist, cv=ss, verbose=10, n_jobs=-1)"
   ]
  },
  {
   "cell_type": "code",
   "execution_count": 22,
   "metadata": {
    "collapsed": false,
    "deletable": true,
    "editable": true
   },
   "outputs": [
    {
     "name": "stdout",
     "output_type": "stream",
     "text": [
      "Fitting 1 folds for each of 96 candidates, totalling 96 fits\n"
     ]
    },
    {
     "name": "stderr",
     "output_type": "stream",
     "text": [
      "[Parallel(n_jobs=-1)]: Done   5 tasks      | elapsed:   17.3s\n",
      "[Parallel(n_jobs=-1)]: Done  10 tasks      | elapsed:   34.2s\n",
      "[Parallel(n_jobs=-1)]: Done  17 tasks      | elapsed:  1.1min\n",
      "[Parallel(n_jobs=-1)]: Done  24 tasks      | elapsed:  2.0min\n",
      "[Parallel(n_jobs=-1)]: Done  33 tasks      | elapsed:  3.0min\n",
      "[Parallel(n_jobs=-1)]: Done  42 tasks      | elapsed:  3.8min\n",
      "[Parallel(n_jobs=-1)]: Done  53 tasks      | elapsed:  5.4min\n",
      "[Parallel(n_jobs=-1)]: Done  64 tasks      | elapsed:  6.4min\n",
      "[Parallel(n_jobs=-1)]: Done  77 tasks      | elapsed:  8.5min\n",
      "[Parallel(n_jobs=-1)]: Done  96 out of  96 | elapsed: 12.1min finished\n"
     ]
    },
    {
     "name": "stdout",
     "output_type": "stream",
     "text": [
      "Wall time: 12min 36s\n"
     ]
    },
    {
     "data": {
      "text/plain": [
       "GridSearchCV(cv=ShuffleSplit(n_splits=1, random_state=None, test_size=0.5, train_size=None),\n",
       "       error_score='raise',\n",
       "       estimator=RandomForestClassifier(bootstrap=True, class_weight=None, criterion='gini',\n",
       "            max_depth=None, max_features='auto', max_leaf_nodes=None,\n",
       "            min_impurity_split=1e-07, min_samples_leaf=1,\n",
       "            min_samples_split=2, min_weight_fraction_leaf=0.0,\n",
       "            n_estimators=10, n_jobs=1, oob_score=False, random_state=None,\n",
       "            verbose=0, warm_start=False),\n",
       "       fit_params={}, iid=True, n_jobs=-1,\n",
       "       param_grid={'max_features': [1, 5, 10], 'n_estimators': [100, 500], 'class_weight': [None, 'balanced'], 'criterion': ['gini', 'entropy'], 'min_samples_leaf': [1, 5], 'bootstrap': [True, False]},\n",
       "       pre_dispatch='2*n_jobs', refit=True, return_train_score=True,\n",
       "       scoring=None, verbose=10)"
      ]
     },
     "execution_count": 22,
     "metadata": {},
     "output_type": "execute_result"
    }
   ],
   "source": [
    "grid_rfc.fit(X, Y)"
   ]
  },
  {
   "cell_type": "code",
   "execution_count": 69,
   "metadata": {
    "collapsed": false,
    "deletable": true,
    "editable": true
   },
   "outputs": [
    {
     "data": {
      "text/html": [
       "<table><tr><td>0.192699490662</td><td>{'max_features': 10, 'n_estimators': 100, 'class_weight': None, 'criterion': 'gini', 'min_samples_leaf': 1, 'bootstrap': True}</td></tr><tr><td>0.195246179966</td><td>{'max_features': 10, 'n_estimators': 500, 'class_weight': None, 'min_samples_leaf': 1, 'criterion': 'gini', 'bootstrap': True}</td></tr><tr><td>0.199066213922</td><td>{'max_features': 10, 'n_estimators': 100, 'class_weight': None, 'min_samples_leaf': 1, 'criterion': 'entropy', 'bootstrap': True}</td></tr><tr><td>0.196095076401</td><td>{'max_features': 10, 'n_estimators': 500, 'class_weight': None, 'criterion': 'entropy', 'min_samples_leaf': 1, 'bootstrap': True}</td></tr><tr><td>0.227504244482</td><td>{'max_features': 10, 'n_estimators': 100, 'class_weight': None, 'criterion': 'gini', 'min_samples_leaf': 1, 'bootstrap': False}</td></tr><tr><td>0.227504244482</td><td>{'max_features': 10, 'n_estimators': 500, 'class_weight': None, 'min_samples_leaf': 1, 'criterion': 'gini', 'bootstrap': False}</td></tr><tr><td>0.230050933786</td><td>{'max_features': 10, 'n_estimators': 100, 'class_weight': None, 'min_samples_leaf': 1, 'criterion': 'entropy', 'bootstrap': False}</td></tr><tr><td>0.227928692699</td><td>{'max_features': 10, 'n_estimators': 500, 'class_weight': None, 'criterion': 'entropy', 'min_samples_leaf': 1, 'bootstrap': False}</td></tr><tr><td>0.212224108659</td><td>{'max_features': 10, 'n_estimators': 100, 'class_weight': 'balanced', 'criterion': 'gini', 'min_samples_leaf': 1, 'bootstrap': False}</td></tr><tr><td>0.216468590832</td><td>{'max_features': 10, 'n_estimators': 500, 'class_weight': 'balanced', 'min_samples_leaf': 1, 'criterion': 'gini', 'bootstrap': False}</td></tr><tr><td>0.20882852292</td><td>{'max_features': 10, 'n_estimators': 100, 'class_weight': 'balanced', 'min_samples_leaf': 1, 'criterion': 'entropy', 'bootstrap': False}</td></tr><tr><td>0.210101867572</td><td>{'max_features': 10, 'n_estimators': 500, 'class_weight': 'balanced', 'min_samples_leaf': 1, 'criterion': 'entropy', 'bootstrap': False}</td></tr></table>"
      ],
      "text/plain": [
       "<IPython.core.display.HTML object>"
      ]
     },
     "metadata": {},
     "output_type": "display_data"
    }
   ],
   "source": [
    "from IPython.display import HTML, display\n",
    "score_param = []\n",
    "for i in range(len(grid_rfc.cv_results_['mean_test_score'])):\n",
    "    if grid_rfc.cv_results_['mean_test_score'][i] > 0.19:\n",
    "        tup = (grid_rfc.cv_results_['mean_test_score'][i], grid_rfc.cv_results_['params'][i].items())\n",
    "        score_param += [tup]\n",
    "display(HTML(\n",
    "    '<table><tr>{}</tr></table>'.format(\n",
    "        '</tr><tr>'.join(\n",
    "            '<td>{}</td>'.format('</td><td>'.join(str(_) for _ in row)) for row in score_param)\n",
    "        )\n",
    " ))"
   ]
  },
  {
   "cell_type": "code",
   "execution_count": 102,
   "metadata": {
    "collapsed": false,
    "deletable": true,
    "editable": true
   },
   "outputs": [],
   "source": [
    "dtc = grid_rfc.best_estimator_.estimators_[0]"
   ]
  },
  {
   "cell_type": "code",
   "execution_count": null,
   "metadata": {
    "collapsed": false,
    "deletable": true,
    "editable": true
   },
   "outputs": [],
   "source": [
    "import pydotplus\n",
    "from IPython.display import Image\n",
    "from sklearn import tree\n",
    "dot_data = tree.export_graphviz(dtc, out_file=None, \n",
    "                         feature_names=IN_OPTIONS,  \n",
    "                         class_names=OUT_OPTIONS,  \n",
    "                         filled=True, rounded=True,  \n",
    "                         special_characters=True)  \n",
    "graph = pydotplus.graph_from_dot_data(dot_data)  \n",
    "Image(graph.create_png())"
   ]
  },
  {
   "cell_type": "code",
   "execution_count": 71,
   "metadata": {
    "collapsed": false,
    "deletable": true,
    "editable": true
   },
   "outputs": [
    {
     "name": "stdout",
     "output_type": "stream",
     "text": [
      "Fitting 1 folds for each of 10 candidates, totalling 10 fits\n"
     ]
    },
    {
     "name": "stderr",
     "output_type": "stream",
     "text": [
      "[Parallel(n_jobs=-1)]: Done   5 out of  10 | elapsed:   59.2s remaining:   59.2s\n",
      "[Parallel(n_jobs=-1)]: Done   7 out of  10 | elapsed:  1.2min remaining:   29.9s\n",
      "[Parallel(n_jobs=-1)]: Done  10 out of  10 | elapsed:  1.5min finished\n"
     ]
    },
    {
     "data": {
      "text/plain": [
       "RandomizedSearchCV(cv=ShuffleSplit(n_splits=1, random_state=None, test_size=0.5, train_size=None),\n",
       "          error_score='raise',\n",
       "          estimator=RandomForestClassifier(bootstrap=True, class_weight=None, criterion='gini',\n",
       "            max_depth=None, max_features='auto', max_leaf_nodes=None,\n",
       "            min_impurity_split=1e-07, min_samples_leaf=1,\n",
       "            min_samples_split=2, min_weight_fraction_leaf=0.0,\n",
       "            n_estimators=10, n_jobs=1, oob_score=False, random_state=None,\n",
       "            verbose=0, warm_start=False),\n",
       "          fit_params={}, iid=True, n_iter=10, n_jobs=-1,\n",
       "          param_distributions={'max_features': <scipy.stats._distn_infrastructure.rv_frozen object at 0x000001989D374B70>, 'n_estimators': [100, 200, 500], 'class_weight': [None, 'balanced'], 'criterion': ['gini', 'entropy'], 'min_samples_leaf': <scipy.stats._distn_infrastructure.rv_frozen object at 0x000001989D374D68>, 'bootstrap': [True, False]},\n",
       "          pre_dispatch='2*n_jobs', random_state=None, refit=True,\n",
       "          return_train_score=True, scoring=None, verbose=10)"
      ]
     },
     "execution_count": 71,
     "metadata": {},
     "output_type": "execute_result"
    }
   ],
   "source": [
    "rgrid_rfc.fit(X, Y)"
   ]
  },
  {
   "cell_type": "markdown",
   "metadata": {
    "collapsed": true,
    "deletable": true,
    "editable": true
   },
   "source": [
    "## Final del notebook\n",
    "Pasamos a desarrollar en la máquina remota de lineo, que es más potente, dejaremos un pequeño script lanzado y probaremos la persistencia"
   ]
  },
  {
   "cell_type": "code",
   "execution_count": 20,
   "metadata": {
    "collapsed": false,
    "scrolled": true
   },
   "outputs": [
    {
     "name": "stdout",
     "output_type": "stream",
     "text": [
      "Fitting 5 folds for each of 80 candidates, totalling 400 fits\n"
     ]
    },
    {
     "name": "stderr",
     "output_type": "stream",
     "text": [
      "[Parallel(n_jobs=-1)]: Done  34 tasks      | elapsed:   11.5s\n",
      "[Parallel(n_jobs=-1)]: Done 184 tasks      | elapsed:  2.4min\n",
      "[Parallel(n_jobs=-1)]: Done 400 out of 400 | elapsed:  7.1min finished\n"
     ]
    },
    {
     "data": {
      "text/plain": [
       "['grid_rfc_estimators.pkl']"
      ]
     },
     "execution_count": 20,
     "metadata": {},
     "output_type": "execute_result"
    }
   ],
   "source": [
    "from sklearn.externals import joblib\n",
    "param_grid = {'n_estimators': [10, 20, 30, 40, 50, 60, 70, 80, 90, 100],\n",
    "              'criterion': ['gini', 'entropy'],\n",
    "              'bootstrap': [True, False],\n",
    "              'max_features': [10],\n",
    "              'class_weight': [None, 'balanced']}\n",
    "ss = ShuffleSplit(n_splits=5, test_size=0.5)\n",
    "rfc = RandomForestClassifier(n_jobs=-1)\n",
    "grid_rfc = GridSearchCV(estimator=rfc, param_grid=param_grid, cv=ss, verbose=1, n_jobs=-1)\n",
    "grid_rfc.fit(X, Y)\n",
    "joblib.dump(grid_rfc, 'grid_rfc_estimators.pkl')\n",
    "# To load\n",
    "# clf = joblib.load('filename.pkl') "
   ]
  },
  {
   "cell_type": "code",
   "execution_count": 55,
   "metadata": {
    "collapsed": false
   },
   "outputs": [
    {
     "name": "stderr",
     "output_type": "stream",
     "text": [
      "/home/shurberto/miniconda3/lib/python3.5/site-packages/ipykernel/__main__.py:11: FutureWarning: sort(columns=....) is deprecated, use sort_values(by=.....)\n"
     ]
    },
    {
     "data": {
      "text/html": [
       "<div>\n",
       "<table border=\"1\" class=\"dataframe\">\n",
       "  <thead>\n",
       "    <tr style=\"text-align: right;\">\n",
       "      <th></th>\n",
       "      <th>Score</th>\n",
       "      <th>criterion</th>\n",
       "      <th>bootstrap</th>\n",
       "      <th>class_weight</th>\n",
       "      <th>max_features</th>\n",
       "      <th>n_estimators</th>\n",
       "    </tr>\n",
       "  </thead>\n",
       "  <tbody>\n",
       "    <tr>\n",
       "      <th>57</th>\n",
       "      <td>0.231</td>\n",
       "      <td>entropy</td>\n",
       "      <td>False</td>\n",
       "      <td>None</td>\n",
       "      <td>10</td>\n",
       "      <td>80</td>\n",
       "    </tr>\n",
       "    <tr>\n",
       "      <th>58</th>\n",
       "      <td>0.231</td>\n",
       "      <td>entropy</td>\n",
       "      <td>False</td>\n",
       "      <td>None</td>\n",
       "      <td>10</td>\n",
       "      <td>90</td>\n",
       "    </tr>\n",
       "    <tr>\n",
       "      <th>56</th>\n",
       "      <td>0.230</td>\n",
       "      <td>entropy</td>\n",
       "      <td>False</td>\n",
       "      <td>None</td>\n",
       "      <td>10</td>\n",
       "      <td>70</td>\n",
       "    </tr>\n",
       "    <tr>\n",
       "      <th>55</th>\n",
       "      <td>0.230</td>\n",
       "      <td>entropy</td>\n",
       "      <td>False</td>\n",
       "      <td>None</td>\n",
       "      <td>10</td>\n",
       "      <td>60</td>\n",
       "    </tr>\n",
       "    <tr>\n",
       "      <th>59</th>\n",
       "      <td>0.230</td>\n",
       "      <td>entropy</td>\n",
       "      <td>False</td>\n",
       "      <td>None</td>\n",
       "      <td>10</td>\n",
       "      <td>100</td>\n",
       "    </tr>\n",
       "    <tr>\n",
       "      <th>48</th>\n",
       "      <td>0.230</td>\n",
       "      <td>gini</td>\n",
       "      <td>False</td>\n",
       "      <td>None</td>\n",
       "      <td>10</td>\n",
       "      <td>90</td>\n",
       "    </tr>\n",
       "    <tr>\n",
       "      <th>49</th>\n",
       "      <td>0.229</td>\n",
       "      <td>gini</td>\n",
       "      <td>False</td>\n",
       "      <td>None</td>\n",
       "      <td>10</td>\n",
       "      <td>100</td>\n",
       "    </tr>\n",
       "    <tr>\n",
       "      <th>53</th>\n",
       "      <td>0.229</td>\n",
       "      <td>entropy</td>\n",
       "      <td>False</td>\n",
       "      <td>None</td>\n",
       "      <td>10</td>\n",
       "      <td>40</td>\n",
       "    </tr>\n",
       "    <tr>\n",
       "      <th>54</th>\n",
       "      <td>0.228</td>\n",
       "      <td>entropy</td>\n",
       "      <td>False</td>\n",
       "      <td>None</td>\n",
       "      <td>10</td>\n",
       "      <td>50</td>\n",
       "    </tr>\n",
       "    <tr>\n",
       "      <th>46</th>\n",
       "      <td>0.228</td>\n",
       "      <td>gini</td>\n",
       "      <td>False</td>\n",
       "      <td>None</td>\n",
       "      <td>10</td>\n",
       "      <td>70</td>\n",
       "    </tr>\n",
       "    <tr>\n",
       "      <th>44</th>\n",
       "      <td>0.227</td>\n",
       "      <td>gini</td>\n",
       "      <td>False</td>\n",
       "      <td>None</td>\n",
       "      <td>10</td>\n",
       "      <td>50</td>\n",
       "    </tr>\n",
       "    <tr>\n",
       "      <th>47</th>\n",
       "      <td>0.227</td>\n",
       "      <td>gini</td>\n",
       "      <td>False</td>\n",
       "      <td>None</td>\n",
       "      <td>10</td>\n",
       "      <td>80</td>\n",
       "    </tr>\n",
       "    <tr>\n",
       "      <th>45</th>\n",
       "      <td>0.227</td>\n",
       "      <td>gini</td>\n",
       "      <td>False</td>\n",
       "      <td>None</td>\n",
       "      <td>10</td>\n",
       "      <td>60</td>\n",
       "    </tr>\n",
       "    <tr>\n",
       "      <th>43</th>\n",
       "      <td>0.225</td>\n",
       "      <td>gini</td>\n",
       "      <td>False</td>\n",
       "      <td>None</td>\n",
       "      <td>10</td>\n",
       "      <td>40</td>\n",
       "    </tr>\n",
       "    <tr>\n",
       "      <th>51</th>\n",
       "      <td>0.225</td>\n",
       "      <td>entropy</td>\n",
       "      <td>False</td>\n",
       "      <td>None</td>\n",
       "      <td>10</td>\n",
       "      <td>20</td>\n",
       "    </tr>\n",
       "    <tr>\n",
       "      <th>52</th>\n",
       "      <td>0.225</td>\n",
       "      <td>entropy</td>\n",
       "      <td>False</td>\n",
       "      <td>None</td>\n",
       "      <td>10</td>\n",
       "      <td>30</td>\n",
       "    </tr>\n",
       "    <tr>\n",
       "      <th>42</th>\n",
       "      <td>0.223</td>\n",
       "      <td>gini</td>\n",
       "      <td>False</td>\n",
       "      <td>None</td>\n",
       "      <td>10</td>\n",
       "      <td>30</td>\n",
       "    </tr>\n",
       "    <tr>\n",
       "      <th>41</th>\n",
       "      <td>0.218</td>\n",
       "      <td>gini</td>\n",
       "      <td>False</td>\n",
       "      <td>None</td>\n",
       "      <td>10</td>\n",
       "      <td>20</td>\n",
       "    </tr>\n",
       "    <tr>\n",
       "      <th>77</th>\n",
       "      <td>0.218</td>\n",
       "      <td>entropy</td>\n",
       "      <td>False</td>\n",
       "      <td>balanced</td>\n",
       "      <td>10</td>\n",
       "      <td>80</td>\n",
       "    </tr>\n",
       "    <tr>\n",
       "      <th>76</th>\n",
       "      <td>0.217</td>\n",
       "      <td>entropy</td>\n",
       "      <td>False</td>\n",
       "      <td>balanced</td>\n",
       "      <td>10</td>\n",
       "      <td>70</td>\n",
       "    </tr>\n",
       "    <tr>\n",
       "      <th>73</th>\n",
       "      <td>0.216</td>\n",
       "      <td>entropy</td>\n",
       "      <td>False</td>\n",
       "      <td>balanced</td>\n",
       "      <td>10</td>\n",
       "      <td>40</td>\n",
       "    </tr>\n",
       "    <tr>\n",
       "      <th>75</th>\n",
       "      <td>0.216</td>\n",
       "      <td>entropy</td>\n",
       "      <td>False</td>\n",
       "      <td>balanced</td>\n",
       "      <td>10</td>\n",
       "      <td>60</td>\n",
       "    </tr>\n",
       "    <tr>\n",
       "      <th>74</th>\n",
       "      <td>0.216</td>\n",
       "      <td>entropy</td>\n",
       "      <td>False</td>\n",
       "      <td>balanced</td>\n",
       "      <td>10</td>\n",
       "      <td>50</td>\n",
       "    </tr>\n",
       "    <tr>\n",
       "      <th>78</th>\n",
       "      <td>0.216</td>\n",
       "      <td>entropy</td>\n",
       "      <td>False</td>\n",
       "      <td>balanced</td>\n",
       "      <td>10</td>\n",
       "      <td>90</td>\n",
       "    </tr>\n",
       "    <tr>\n",
       "      <th>69</th>\n",
       "      <td>0.215</td>\n",
       "      <td>gini</td>\n",
       "      <td>False</td>\n",
       "      <td>balanced</td>\n",
       "      <td>10</td>\n",
       "      <td>100</td>\n",
       "    </tr>\n",
       "    <tr>\n",
       "      <th>50</th>\n",
       "      <td>0.215</td>\n",
       "      <td>entropy</td>\n",
       "      <td>False</td>\n",
       "      <td>None</td>\n",
       "      <td>10</td>\n",
       "      <td>10</td>\n",
       "    </tr>\n",
       "    <tr>\n",
       "      <th>67</th>\n",
       "      <td>0.214</td>\n",
       "      <td>gini</td>\n",
       "      <td>False</td>\n",
       "      <td>balanced</td>\n",
       "      <td>10</td>\n",
       "      <td>80</td>\n",
       "    </tr>\n",
       "    <tr>\n",
       "      <th>68</th>\n",
       "      <td>0.214</td>\n",
       "      <td>gini</td>\n",
       "      <td>False</td>\n",
       "      <td>balanced</td>\n",
       "      <td>10</td>\n",
       "      <td>90</td>\n",
       "    </tr>\n",
       "    <tr>\n",
       "      <th>79</th>\n",
       "      <td>0.214</td>\n",
       "      <td>entropy</td>\n",
       "      <td>False</td>\n",
       "      <td>balanced</td>\n",
       "      <td>10</td>\n",
       "      <td>100</td>\n",
       "    </tr>\n",
       "    <tr>\n",
       "      <th>65</th>\n",
       "      <td>0.212</td>\n",
       "      <td>gini</td>\n",
       "      <td>False</td>\n",
       "      <td>balanced</td>\n",
       "      <td>10</td>\n",
       "      <td>60</td>\n",
       "    </tr>\n",
       "    <tr>\n",
       "      <th>71</th>\n",
       "      <td>0.212</td>\n",
       "      <td>entropy</td>\n",
       "      <td>False</td>\n",
       "      <td>balanced</td>\n",
       "      <td>10</td>\n",
       "      <td>20</td>\n",
       "    </tr>\n",
       "    <tr>\n",
       "      <th>63</th>\n",
       "      <td>0.212</td>\n",
       "      <td>gini</td>\n",
       "      <td>False</td>\n",
       "      <td>balanced</td>\n",
       "      <td>10</td>\n",
       "      <td>40</td>\n",
       "    </tr>\n",
       "    <tr>\n",
       "      <th>66</th>\n",
       "      <td>0.211</td>\n",
       "      <td>gini</td>\n",
       "      <td>False</td>\n",
       "      <td>balanced</td>\n",
       "      <td>10</td>\n",
       "      <td>70</td>\n",
       "    </tr>\n",
       "    <tr>\n",
       "      <th>72</th>\n",
       "      <td>0.211</td>\n",
       "      <td>entropy</td>\n",
       "      <td>False</td>\n",
       "      <td>balanced</td>\n",
       "      <td>10</td>\n",
       "      <td>30</td>\n",
       "    </tr>\n",
       "    <tr>\n",
       "      <th>62</th>\n",
       "      <td>0.210</td>\n",
       "      <td>gini</td>\n",
       "      <td>False</td>\n",
       "      <td>balanced</td>\n",
       "      <td>10</td>\n",
       "      <td>30</td>\n",
       "    </tr>\n",
       "    <tr>\n",
       "      <th>40</th>\n",
       "      <td>0.210</td>\n",
       "      <td>gini</td>\n",
       "      <td>False</td>\n",
       "      <td>None</td>\n",
       "      <td>10</td>\n",
       "      <td>10</td>\n",
       "    </tr>\n",
       "    <tr>\n",
       "      <th>64</th>\n",
       "      <td>0.210</td>\n",
       "      <td>gini</td>\n",
       "      <td>False</td>\n",
       "      <td>balanced</td>\n",
       "      <td>10</td>\n",
       "      <td>50</td>\n",
       "    </tr>\n",
       "    <tr>\n",
       "      <th>61</th>\n",
       "      <td>0.207</td>\n",
       "      <td>gini</td>\n",
       "      <td>False</td>\n",
       "      <td>balanced</td>\n",
       "      <td>10</td>\n",
       "      <td>20</td>\n",
       "    </tr>\n",
       "    <tr>\n",
       "      <th>16</th>\n",
       "      <td>0.202</td>\n",
       "      <td>entropy</td>\n",
       "      <td>True</td>\n",
       "      <td>None</td>\n",
       "      <td>10</td>\n",
       "      <td>70</td>\n",
       "    </tr>\n",
       "    <tr>\n",
       "      <th>19</th>\n",
       "      <td>0.202</td>\n",
       "      <td>entropy</td>\n",
       "      <td>True</td>\n",
       "      <td>None</td>\n",
       "      <td>10</td>\n",
       "      <td>100</td>\n",
       "    </tr>\n",
       "    <tr>\n",
       "      <th>18</th>\n",
       "      <td>0.202</td>\n",
       "      <td>entropy</td>\n",
       "      <td>True</td>\n",
       "      <td>None</td>\n",
       "      <td>10</td>\n",
       "      <td>90</td>\n",
       "    </tr>\n",
       "    <tr>\n",
       "      <th>17</th>\n",
       "      <td>0.202</td>\n",
       "      <td>entropy</td>\n",
       "      <td>True</td>\n",
       "      <td>None</td>\n",
       "      <td>10</td>\n",
       "      <td>80</td>\n",
       "    </tr>\n",
       "    <tr>\n",
       "      <th>9</th>\n",
       "      <td>0.201</td>\n",
       "      <td>gini</td>\n",
       "      <td>True</td>\n",
       "      <td>None</td>\n",
       "      <td>10</td>\n",
       "      <td>100</td>\n",
       "    </tr>\n",
       "    <tr>\n",
       "      <th>15</th>\n",
       "      <td>0.201</td>\n",
       "      <td>entropy</td>\n",
       "      <td>True</td>\n",
       "      <td>None</td>\n",
       "      <td>10</td>\n",
       "      <td>60</td>\n",
       "    </tr>\n",
       "    <tr>\n",
       "      <th>60</th>\n",
       "      <td>0.201</td>\n",
       "      <td>gini</td>\n",
       "      <td>False</td>\n",
       "      <td>balanced</td>\n",
       "      <td>10</td>\n",
       "      <td>10</td>\n",
       "    </tr>\n",
       "  </tbody>\n",
       "</table>\n",
       "</div>"
      ],
      "text/plain": [
       "    Score criterion bootstrap class_weight max_features n_estimators\n",
       "57  0.231   entropy     False         None           10           80\n",
       "58  0.231   entropy     False         None           10           90\n",
       "56  0.230   entropy     False         None           10           70\n",
       "55  0.230   entropy     False         None           10           60\n",
       "59  0.230   entropy     False         None           10          100\n",
       "48  0.230      gini     False         None           10           90\n",
       "49  0.229      gini     False         None           10          100\n",
       "53  0.229   entropy     False         None           10           40\n",
       "54  0.228   entropy     False         None           10           50\n",
       "46  0.228      gini     False         None           10           70\n",
       "44  0.227      gini     False         None           10           50\n",
       "47  0.227      gini     False         None           10           80\n",
       "45  0.227      gini     False         None           10           60\n",
       "43  0.225      gini     False         None           10           40\n",
       "51  0.225   entropy     False         None           10           20\n",
       "52  0.225   entropy     False         None           10           30\n",
       "42  0.223      gini     False         None           10           30\n",
       "41  0.218      gini     False         None           10           20\n",
       "77  0.218   entropy     False     balanced           10           80\n",
       "76  0.217   entropy     False     balanced           10           70\n",
       "73  0.216   entropy     False     balanced           10           40\n",
       "75  0.216   entropy     False     balanced           10           60\n",
       "74  0.216   entropy     False     balanced           10           50\n",
       "78  0.216   entropy     False     balanced           10           90\n",
       "69  0.215      gini     False     balanced           10          100\n",
       "50  0.215   entropy     False         None           10           10\n",
       "67  0.214      gini     False     balanced           10           80\n",
       "68  0.214      gini     False     balanced           10           90\n",
       "79  0.214   entropy     False     balanced           10          100\n",
       "65  0.212      gini     False     balanced           10           60\n",
       "71  0.212   entropy     False     balanced           10           20\n",
       "63  0.212      gini     False     balanced           10           40\n",
       "66  0.211      gini     False     balanced           10           70\n",
       "72  0.211   entropy     False     balanced           10           30\n",
       "62  0.210      gini     False     balanced           10           30\n",
       "40  0.210      gini     False         None           10           10\n",
       "64  0.210      gini     False     balanced           10           50\n",
       "61  0.207      gini     False     balanced           10           20\n",
       "16  0.202   entropy      True         None           10           70\n",
       "19  0.202   entropy      True         None           10          100\n",
       "18  0.202   entropy      True         None           10           90\n",
       "17  0.202   entropy      True         None           10           80\n",
       "9   0.201      gini      True         None           10          100\n",
       "15  0.201   entropy      True         None           10           60\n",
       "60  0.201      gini     False     balanced           10           10"
      ]
     },
     "execution_count": 55,
     "metadata": {},
     "output_type": "execute_result"
    }
   ],
   "source": [
    "data = []\n",
    "indices = []\n",
    "for i in range(len(grid_rfc.cv_results_['mean_test_score'])):\n",
    "    if grid_rfc.cv_results_['mean_test_score'][i] > 0.20:\n",
    "        row = np.append(grid_rfc.cv_results_['mean_test_score'][i], list(grid_rfc.cv_results_['params'][i].values()))\n",
    "        data.append(row)\n",
    "        indices += [i]\n",
    "grid_best_df = pd.DataFrame(data=data,columns=['Score'] + list(grid_rfc.param_grid.keys()), index=indices)\n",
    "grid_best_df['Score'] = grid_best_df['Score'].astype(float)\n",
    "grid_best_df.sort(columns=['Score'], ascending=False)"
   ]
  },
  {
   "cell_type": "markdown",
   "metadata": {},
   "source": [
    "## LEtZZZZ ROCKKKK!"
   ]
  },
  {
   "cell_type": "markdown",
   "metadata": {},
   "source": [
    "First we define three scoring functions properly"
   ]
  },
  {
   "cell_type": "code",
   "execution_count": 58,
   "metadata": {
    "collapsed": true
   },
   "outputs": [],
   "source": [
    "def my_ponderated_scorer(predictor, X, y):\n",
    "    ypred = predictor.predict(X)\n",
    "    score = 0\n",
    "    for i in range(y.shape[0]):\n",
    "        if (y[i,0:10] == ypred[i,0:10]).all():\n",
    "            score += 0.2\n",
    "        if (y[i,10:15] == ypred[i,10:15]).all():\n",
    "            score += 0.4\n",
    "        if (y[i,15:17] == ypred[i,15:17]).all():\n",
    "            score += 0.2\n",
    "        if (y[i,17:26] == ypred[i,17:26]).all():\n",
    "            score += 0.2\n",
    "    return score/y.shape[0]\n",
    "\n",
    "def my_balanced_scorer(predictor, X, y):\n",
    "    ypred = predictor.predict(X)\n",
    "    score = 0\n",
    "    for i in range(y.shape[0]):\n",
    "        if (y[i,0:10] == ypred[i,0:10]).all():\n",
    "            score += 0.25\n",
    "        if (y[i,10:15] == ypred[i,10:15]).all():\n",
    "            score += 0.25\n",
    "        if (y[i,15:17] == ypred[i,15:17]).all():\n",
    "            score += 0.25\n",
    "        if (y[i,17:26] == ypred[i,17:26]).all():\n",
    "            score += 0.25\n",
    "    return score/y.shape[0]\n",
    "\n",
    "def my_2paired_scorer(predictor, X, y):\n",
    "    ypred = predictor.predict(X)\n",
    "    score = 0\n",
    "    for i in range(y.shape[0]):\n",
    "        if (y[i,0:10] == ypred[i,0:10]).all() and (y[i,17:26] == ypred[i,17:26]).all():\n",
    "            score += 0.5\n",
    "        if (y[i,10:15] == ypred[i,10:15]).all() and (y[i,15:17] == ypred[i,15:17]).all():\n",
    "            score += 0.5\n",
    "    return score/y.shape[0]"
   ]
  },
  {
   "cell_type": "markdown",
   "metadata": {},
   "source": [
    "And now we ROCK HARD!!!"
   ]
  },
  {
   "cell_type": "code",
   "execution_count": null,
   "metadata": {
    "collapsed": false
   },
   "outputs": [
    {
     "name": "stdout",
     "output_type": "stream",
     "text": [
      "Fitting 10 folds for each of 2520 candidates, totalling 25200 fits\n"
     ]
    },
    {
     "name": "stderr",
     "output_type": "stream",
     "text": [
      "[Parallel(n_jobs=-1)]: Done  34 tasks      | elapsed:    6.9s\n",
      "[Parallel(n_jobs=-1)]: Done 184 tasks      | elapsed:  1.0min\n",
      "[Parallel(n_jobs=-1)]: Done 434 tasks      | elapsed:  3.0min\n",
      "[Parallel(n_jobs=-1)]: Done 784 tasks      | elapsed:  4.6min\n"
     ]
    }
   ],
   "source": [
    "param_grid = {'n_estimators': [20, 30, 40, 50, 60, 70, 80, 90, 100],\n",
    "              'max_depth': [None, 5, 10, 15, 20, 25, 30],\n",
    "              'criterion': ['gini', 'entropy'],\n",
    "              'bootstrap': [True, False],\n",
    "              'max_features': [5, 7, 10, 15, 20],\n",
    "              'class_weight': [None, 'balanced']}\n",
    "ss = ShuffleSplit(n_splits=10, test_size=0.5)\n",
    "rfc = RandomForestClassifier(n_jobs=-1)\n",
    "scores = [None, my_balanced_scorer, my_ponderated_scorer, my_2paired_scorer]\n",
    "for score in scores:\n",
    "    grid_rfc = GridSearchCV(estimator=rfc, param_grid=param_grid, cv=ss, verbose=1, n_jobs=-1, scoring=score)\n",
    "    grid_rfc.fit(X, Y)\n",
    "    if score == None:\n",
    "        joblib.dump(grid_rfc, 'grid_rfc_depth_default_scorer.pkl')\n",
    "    else:\n",
    "        joblib.dump(grid_rfc, 'grid_rfc_depth_default_' + score.__name__ + '.pkl')\n",
    "        "
   ]
  },
  {
   "cell_type": "code",
   "execution_count": null,
   "metadata": {
    "collapsed": true
   },
   "outputs": [],
   "source": []
  }
 ],
 "metadata": {
  "anaconda-cloud": {},
  "kernelspec": {
   "display_name": "Python [default]",
   "language": "python",
   "name": "python3"
  },
  "language_info": {
   "codemirror_mode": {
    "name": "ipython",
    "version": 3
   },
   "file_extension": ".py",
   "mimetype": "text/x-python",
   "name": "python",
   "nbconvert_exporter": "python",
   "pygments_lexer": "ipython3",
   "version": "3.5.2"
  }
 },
 "nbformat": 4,
 "nbformat_minor": 1
}
