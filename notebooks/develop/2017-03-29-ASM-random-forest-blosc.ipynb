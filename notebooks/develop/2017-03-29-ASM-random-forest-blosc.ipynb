{
 "cells": [
  {
   "cell_type": "markdown",
   "metadata": {},
   "source": [
    "# Multioutput-Multiclass Random Forest Blosc"
   ]
  },
  {
   "cell_type": "markdown",
   "metadata": {},
   "source": [
    "## Objetivos\n",
    "* Crear un algoritmo de arboles de decisión basado en bosques aleatorios utilizando scikit-learn."
   ]
  },
  {
   "cell_type": "code",
   "execution_count": 1,
   "metadata": {
    "collapsed": false
   },
   "outputs": [
    {
     "data": {
      "application/json": {
       "Software versions": [
        {
         "module": "Python",
         "version": "3.5.2 64bit [MSC v.1900 64 bit (AMD64)]"
        },
        {
         "module": "IPython",
         "version": "5.3.0"
        },
        {
         "module": "OS",
         "version": "Windows 10 10.0.14393 SP0"
        },
        {
         "module": "numpy",
         "version": "1.11.3"
        },
        {
         "module": "scipy",
         "version": "0.19.0"
        },
        {
         "module": "matplotlib",
         "version": "2.0.0"
        },
        {
         "module": "pandas",
         "version": "0.19.2"
        }
       ]
      },
      "text/html": [
       "<table><tr><th>Software</th><th>Version</th></tr><tr><td>Python</td><td>3.5.2 64bit [MSC v.1900 64 bit (AMD64)]</td></tr><tr><td>IPython</td><td>5.3.0</td></tr><tr><td>OS</td><td>Windows 10 10.0.14393 SP0</td></tr><tr><td>numpy</td><td>1.11.3</td></tr><tr><td>scipy</td><td>0.19.0</td></tr><tr><td>matplotlib</td><td>2.0.0</td></tr><tr><td>pandas</td><td>0.19.2</td></tr><tr><td colspan='2'>Thu Mar 30 10:14:06 2017 Hora de verano romance</td></tr></table>"
      ],
      "text/latex": [
       "\\begin{tabular}{|l|l|}\\hline\n",
       "{\\bf Software} & {\\bf Version} \\\\ \\hline\\hline\n",
       "Python & 3.5.2 64bit [MSC v.1900 64 bit (AMD64)] \\\\ \\hline\n",
       "IPython & 5.3.0 \\\\ \\hline\n",
       "OS & Windows 10 10.0.14393 SP0 \\\\ \\hline\n",
       "numpy & 1.11.3 \\\\ \\hline\n",
       "scipy & 0.19.0 \\\\ \\hline\n",
       "matplotlib & 2.0.0 \\\\ \\hline\n",
       "pandas & 0.19.2 \\\\ \\hline\n",
       "\\hline \\multicolumn{2}{|l|}{Thu Mar 30 10:14:06 2017 Hora de verano romance} \\\\ \\hline\n",
       "\\end{tabular}\n"
      ],
      "text/plain": [
       "Software versions\n",
       "Python 3.5.2 64bit [MSC v.1900 64 bit (AMD64)]\n",
       "IPython 5.3.0\n",
       "OS Windows 10 10.0.14393 SP0\n",
       "numpy 1.11.3\n",
       "scipy 0.19.0\n",
       "matplotlib 2.0.0\n",
       "pandas 0.19.2\n",
       "Thu Mar 30 10:14:06 2017 Hora de verano romance"
      ]
     },
     "execution_count": 1,
     "metadata": {},
     "output_type": "execute_result"
    }
   ],
   "source": [
    "%matplotlib inline\n",
    "%config InlineBackend.figure_format='retina'\n",
    "\n",
    "%load_ext autoreload\n",
    "%autoreload 2\n",
    "\n",
    "%load_ext version_information\n",
    "%version_information numpy, scipy, matplotlib, pandas"
   ]
  },
  {
   "cell_type": "code",
   "execution_count": 2,
   "metadata": {
    "collapsed": true
   },
   "outputs": [],
   "source": [
    "import os\n",
    "import sys\n",
    "sys.path.append(\"../src/\")\n",
    "\n",
    "from IPython.display import display\n",
    "import matplotlib\n",
    "from matplotlib import pyplot as plt\n",
    "import numpy as np\n",
    "import pandas as pd\n",
    "import seaborn as sns; sns.set()\n",
    "from sklearn.preprocessing import binarize \n",
    "from sklearn.preprocessing import OneHotEncoder\n",
    "\n",
    "pd.options.display.float_format = '{:,.3f}'.format\n",
    "matplotlib.rcParams.update({'font.size': 12})"
   ]
  },
  {
   "cell_type": "markdown",
   "metadata": {},
   "source": [
    "## Importando los datos de entramiento\n",
    "Para ver como se crearon los datos de entrenamiento ir a [Training data generator](../deliver/training_data_generator.ipynb)"
   ]
  },
  {
   "cell_type": "code",
   "execution_count": 3,
   "metadata": {
    "collapsed": true
   },
   "outputs": [],
   "source": [
    "df = pd.read_csv('../data/training_data.csv', sep='\\t')"
   ]
  },
  {
   "cell_type": "markdown",
   "metadata": {},
   "source": [
    "## Preprocesamiento entradas (extraer en training data generator o antes)"
   ]
  },
  {
   "cell_type": "code",
   "execution_count": 4,
   "metadata": {
    "collapsed": true
   },
   "outputs": [],
   "source": [
    "df = df.assign(is_Table=binarize(df['Table'].values.reshape(-1,1), 0), \n",
    "               is_Columnar=binarize(df['Table'].values.reshape(-1,1), 1),\n",
    "               is_Int=df['DType'].str.contains('int').astype(int),\n",
    "               is_Float=df['DType'].str.contains('float').astype(int),\n",
    "               is_String=(df['DType'].str.contains('S') | df['DType'].str.contains('U')).astype(int))\n",
    "def aux_func(n):\n",
    "    if n == 32 or n == 64:\n",
    "        return n // 8\n",
    "    else:\n",
    "        return n\n",
    "df['Type_Size'] = [aux_func(int(s)) for s in df['DType'].str[-2:]]"
   ]
  },
  {
   "cell_type": "markdown",
   "metadata": {},
   "source": [
    "## Preprocesamiento salidas"
   ]
  },
  {
   "cell_type": "code",
   "execution_count": 5,
   "metadata": {
    "collapsed": true
   },
   "outputs": [],
   "source": [
    "df = df.assign(Blosclz=(df['Codec'] == 'blosclz').astype(int),\n",
    "               Lz4=(df['Codec'] == 'lz4').astype(int),\n",
    "               Lz4hc=(df['Codec'] == 'lz4hc').astype(int),\n",
    "               Snappy=(df['Codec'] == 'snappy').astype(int),\n",
    "               Zstd=(df['Codec'] == 'zstd').astype(int),\n",
    "               Shuffle=(df['Filter'] == 'shuffle').astype(int),\n",
    "               Bitshuffle=(df['Filter'] == 'bitshuffle').astype(int))\n",
    "enc_cl = OneHotEncoder()\n",
    "enc_cl.fit(df['CL'].values.reshape(-1, 1))\n",
    "new_cls = enc_cl.transform(df['CL'].values.reshape(-1, 1)).toarray()\n",
    "enc_block = OneHotEncoder()\n",
    "enc_block.fit(df['Block_Size'].values.reshape(-1, 1))\n",
    "new_blocks = enc_block.transform(df['Block_Size'].values.reshape(-1, 1)).toarray()\n",
    "block_sizes = [0, 8, 16, 32, 64, 128, 256, 512, 1024]\n",
    "for i in range(9):\n",
    "    cl_label = 'CL' + str(i+1)\n",
    "    block_label = 'Block_' + str(block_sizes[i])\n",
    "    df[cl_label] = new_cls[:, i]\n",
    "    df[block_label] = new_blocks[:, i]\n",
    "df['Block_2048'] = new_blocks[:, 9]"
   ]
  },
  {
   "cell_type": "code",
   "execution_count": 6,
   "metadata": {
    "collapsed": true
   },
   "outputs": [],
   "source": [
    "IN_OPTIONS = ['IN_CR', 'IN_CS', 'IN_DS', 'is_Table', 'is_Columnar', 'is_Int', 'is_Float', 'is_String', 'Type_Size', 'Chunk_Size',\n",
    "              'Mean', 'Median', 'Sd', 'Skew', 'Kurt', 'Min', 'Max', 'Q1', 'Q3', 'BLZ_CRate', 'BLZ_CSpeed', 'BLZ_DSpeed', 'LZ4_CRate',\n",
    "              'LZ4_CSpeed', 'LZ4_DSpeed']\n",
    "OUT_OPTIONS = ['Block_0', 'Block_8', 'Block_16', 'Block_32', 'Block_64', 'Block_128', 'Block_256', 'Block_512', 'Block_1024', 'Block_2048',\n",
    "               'Blosclz', 'Lz4', 'Lz4hc', 'Snappy', 'Zstd', 'Shuffle', 'Bitshuffle',\n",
    "               'CL1', 'CL2', 'CL3', 'CL4', 'CL5', 'CL6', 'CL7', 'CL8', 'CL9']"
   ]
  },
  {
   "cell_type": "code",
   "execution_count": 7,
   "metadata": {
    "collapsed": false
   },
   "outputs": [],
   "source": [
    "X, Y = df[IN_OPTIONS].values, df[OUT_OPTIONS].values"
   ]
  },
  {
   "cell_type": "code",
   "execution_count": 8,
   "metadata": {
    "collapsed": true
   },
   "outputs": [],
   "source": [
    "from sklearn.model_selection import cross_val_score\n",
    "from sklearn.multioutput import MultiOutputClassifier\n",
    "from sklearn.ensemble import RandomForestClassifier\n",
    "from sklearn.ensemble import AdaBoostClassifier\n",
    "# [DIFFER] thresholds randomness instead of most discriminative\n",
    "from sklearn.ensemble import ExtraTreesClassifier\n",
    "from sklearn.tree import DecisionTreeClassifier\n",
    "from sklearn.model_selection import train_test_split\n",
    "\n",
    "Xtrain, Xtest, Ytrain, Ytest = train_test_split(X, Y)\n",
    "clf = RandomForestClassifier(n_estimators=100)\n",
    "clf.fit(Xtrain, Ytrain)\n",
    "Ypred = clf.predict(Xtest)"
   ]
  },
  {
   "cell_type": "code",
   "execution_count": 9,
   "metadata": {
    "collapsed": false
   },
   "outputs": [
    {
     "name": "stdout",
     "output_type": "stream",
     "text": [
      "             precision    recall  f1-score   support\n",
      "\n",
      "    Block_0      0.639     0.167     0.264       138\n",
      "    Block_8      0.658     0.333     0.442        75\n",
      "   Block_16      0.333     0.057     0.097        88\n",
      "   Block_32      0.300     0.029     0.053       103\n",
      "   Block_64      0.532     0.141     0.223       177\n",
      "  Block_128      0.478     0.080     0.137       138\n",
      "  Block_256      0.688     0.176     0.280       125\n",
      "  Block_512      0.500     0.081     0.139        62\n",
      " Block_1024      0.778     0.135     0.230        52\n",
      " Block_2048      0.962     0.805     0.876       220\n",
      "    Blosclz      0.959     0.858     0.906       275\n",
      "        Lz4      0.961     0.923     0.942       455\n",
      "      Lz4hc      0.950     0.835     0.889       115\n",
      "     Snappy      0.000     0.000     0.000         0\n",
      "       Zstd      0.991     0.973     0.982       333\n",
      "    Shuffle      0.946     0.934     0.940       409\n",
      " Bitshuffle      0.802     0.775     0.789        89\n",
      "        CL1      0.823     0.710     0.762       334\n",
      "        CL2      0.690     0.212     0.324       137\n",
      "        CL3      0.444     0.042     0.077        95\n",
      "        CL4      0.875     0.206     0.333        68\n",
      "        CL5      1.000     0.048     0.091        42\n",
      "        CL6      0.857     0.303     0.448        99\n",
      "        CL7      0.545     0.092     0.158        65\n",
      "        CL8      0.806     0.234     0.362       107\n",
      "        CL9      0.882     0.584     0.703       231\n",
      "\n",
      "avg / total      0.806     0.573     0.630      4032\n",
      "\n"
     ]
    },
    {
     "name": "stderr",
     "output_type": "stream",
     "text": [
      "C:\\Users\\Shurberto\\Anaconda3\\lib\\site-packages\\sklearn\\metrics\\classification.py:1113: UndefinedMetricWarning: Precision and F-score are ill-defined and being set to 0.0 in labels with no predicted samples.\n",
      "  'precision', 'predicted', average, warn_for)\n",
      "C:\\Users\\Shurberto\\Anaconda3\\lib\\site-packages\\sklearn\\metrics\\classification.py:1115: UndefinedMetricWarning: Recall and F-score are ill-defined and being set to 0.0 in labels with no true samples.\n",
      "  'recall', 'true', average, warn_for)\n"
     ]
    }
   ],
   "source": [
    "from sklearn import metrics\n",
    "print(metrics.classification_report(Ytest, Ypred, digits=3, target_names=OUT_OPTIONS))"
   ]
  },
  {
   "cell_type": "code",
   "execution_count": 10,
   "metadata": {
    "collapsed": false
   },
   "outputs": [
    {
     "data": {
      "text/plain": [
       "0.17996604414261461"
      ]
     },
     "execution_count": 10,
     "metadata": {},
     "output_type": "execute_result"
    }
   ],
   "source": [
    "clf.score(Xtest, Ytest)"
   ]
  },
  {
   "cell_type": "code",
   "execution_count": 11,
   "metadata": {
    "collapsed": false
   },
   "outputs": [
    {
     "name": "stdout",
     "output_type": "stream",
     "text": [
      "0.1799660441426146\n"
     ]
    }
   ],
   "source": [
    "count = 0\n",
    "for i in range(Ytest.shape[0]):\n",
    "    if (Ytest[i,:] == Ypred[i,:]).all():\n",
    "        count += 1\n",
    "print(count/Ytest.shape[0])"
   ]
  },
  {
   "cell_type": "code",
   "execution_count": 12,
   "metadata": {
    "collapsed": false
   },
   "outputs": [
    {
     "name": "stderr",
     "output_type": "stream",
     "text": [
      "C:\\Users\\Shurberto\\Anaconda3\\lib\\site-packages\\sklearn\\metrics\\classification.py:1113: UndefinedMetricWarning: F-score is ill-defined and being set to 0.0 in labels with no predicted samples.\n",
      "  'precision', 'predicted', average, warn_for)\n",
      "C:\\Users\\Shurberto\\Anaconda3\\lib\\site-packages\\sklearn\\metrics\\classification.py:1115: UndefinedMetricWarning: F-score is ill-defined and being set to 0.0 in labels with no true samples.\n",
      "  'recall', 'true', average, warn_for)\n"
     ]
    },
    {
     "data": {
      "text/plain": [
       "0.63001015846405417"
      ]
     },
     "execution_count": 12,
     "metadata": {},
     "output_type": "execute_result"
    }
   ],
   "source": [
    "from sklearn.metrics import f1_score\n",
    "f1_score(Ytest, Ypred, average='weighted')"
   ]
  },
  {
   "cell_type": "code",
   "execution_count": 13,
   "metadata": {
    "collapsed": false
   },
   "outputs": [
    {
     "data": {
      "text/plain": [
       "['Block_0',\n",
       " 'Block_8',\n",
       " 'Block_16',\n",
       " 'Block_32',\n",
       " 'Block_64',\n",
       " 'Block_128',\n",
       " 'Block_256',\n",
       " 'Block_512',\n",
       " 'Block_1024',\n",
       " 'Block_2048',\n",
       " 'Blosclz',\n",
       " 'Lz4',\n",
       " 'Lz4hc',\n",
       " 'Snappy',\n",
       " 'Zstd',\n",
       " 'Shuffle',\n",
       " 'Bitshuffle',\n",
       " 'CL1',\n",
       " 'CL2',\n",
       " 'CL3',\n",
       " 'CL4',\n",
       " 'CL5',\n",
       " 'CL6',\n",
       " 'CL7',\n",
       " 'CL8',\n",
       " 'CL9']"
      ]
     },
     "execution_count": 13,
     "metadata": {},
     "output_type": "execute_result"
    }
   ],
   "source": [
    "OUT_OPTIONS"
   ]
  },
  {
   "cell_type": "code",
   "execution_count": 14,
   "metadata": {
    "collapsed": false
   },
   "outputs": [
    {
     "data": {
      "text/plain": [
       "0.6889643463497516"
      ]
     },
     "execution_count": 14,
     "metadata": {},
     "output_type": "execute_result"
    }
   ],
   "source": [
    "def my_score(Yreal, Ypred):\n",
    "    score = 0\n",
    "    for i in range(Yreal.shape[0]):\n",
    "        if (Ytest[i,0:10] == Ypred[i,0:10]).all():\n",
    "            score += 0.2\n",
    "        if (Ytest[i,10:15] == Ypred[i,10:15]).all():\n",
    "            score += 0.4\n",
    "        if (Ytest[i,15:17] == Ypred[i,15:17]).all():\n",
    "            score += 0.2\n",
    "        if (Ytest[i,17:26] == Ypred[i,17:26]).all():\n",
    "            score += 0.2\n",
    "    return score/Yreal.shape[0]\n",
    "my_score(Ytest, Ypred)"
   ]
  },
  {
   "cell_type": "markdown",
   "metadata": {},
   "source": [
    "Demasiada buena puntuación, busquemos algo más exigente."
   ]
  },
  {
   "cell_type": "code",
   "execution_count": 15,
   "metadata": {
    "collapsed": false
   },
   "outputs": [
    {
     "data": {
      "text/plain": [
       "0.5292869269949066"
      ]
     },
     "execution_count": 15,
     "metadata": {},
     "output_type": "execute_result"
    }
   ],
   "source": [
    "def my_score2(Yreal, Ypred):\n",
    "    score = 0\n",
    "    for i in range(Yreal.shape[0]):\n",
    "        if (Ytest[i,0:10] == Ypred[i,0:10]).all() and (Ytest[i,17:26] == Ypred[i,17:26]).all():\n",
    "            score += 0.5\n",
    "        if (Ytest[i,10:15] == Ypred[i,10:15]).all() and (Ytest[i,15:17] == Ypred[i,15:17]).all():\n",
    "            score += 0.5\n",
    "    return score/Yreal.shape[0]\n",
    "my_score2(Ytest, Ypred)"
   ]
  },
  {
   "cell_type": "code",
   "execution_count": 16,
   "metadata": {
    "collapsed": false
   },
   "outputs": [
    {
     "data": {
      "text/plain": [
       "0.93470027425884161"
      ]
     },
     "execution_count": 16,
     "metadata": {},
     "output_type": "execute_result"
    }
   ],
   "source": [
    "def my_score3(Yreal, Ypred):\n",
    "    score = 0\n",
    "    for i in range(Yreal.shape[0]):\n",
    "        score += (Ytest[i,:] == Ypred[i,:]).astype(int).sum()/26\n",
    "    return score/Yreal.shape[0]\n",
    "my_score3(Ytest, Ypred)"
   ]
  },
  {
   "cell_type": "code",
   "execution_count": 21,
   "metadata": {
    "collapsed": false
   },
   "outputs": [],
   "source": [
    "from sklearn.model_selection import ShuffleSplit\n",
    "from sklearn.model_selection import GridSearchCV\n",
    "from sklearn.model_selection import RandomizedSearchCV\n",
    "from scipy.stats import randint as sp_randint\n",
    "X, Y = df[IN_OPTIONS].values, df[OUT_OPTIONS].values\n",
    "\n",
    "param_grid = {'n_estimators': [100, 500],\n",
    "              'criterion': ['gini', 'entropy'],\n",
    "              'bootstrap': [True, False],\n",
    "              'max_features': [1, 5, 10],\n",
    "              'min_samples_leaf': [1, 5],\n",
    "              'class_weight': [None, 'balanced']}\n",
    "\n",
    "param_dist = {'n_estimators': [100, 200, 500],\n",
    "              'criterion': ['gini', 'entropy'],\n",
    "              'bootstrap': [True, False],\n",
    "              'max_features': sp_randint(1, 10),\n",
    "              'min_samples_leaf': sp_randint(1, 5),\n",
    "              'class_weight': [None, 'balanced']}\n",
    "ss = ShuffleSplit(n_splits=1, test_size=0.5)\n",
    "rfc = RandomForestClassifier(n_jobs=-1)\n",
    "grid_rfc = GridSearchCV(estimator=rfc, param_grid=param_grid, cv=ss, verbose=10, n_jobs=-1)\n",
    "rgrid_rfc = RandomizedSearchCV(estimator=rfc, param_distributions=param_dist, cv=ss, verbose=10, n_jobs=-1)"
   ]
  },
  {
   "cell_type": "code",
   "execution_count": 22,
   "metadata": {
    "collapsed": false
   },
   "outputs": [
    {
     "name": "stdout",
     "output_type": "stream",
     "text": [
      "Fitting 1 folds for each of 96 candidates, totalling 96 fits\n"
     ]
    },
    {
     "name": "stderr",
     "output_type": "stream",
     "text": [
      "[Parallel(n_jobs=-1)]: Done   5 tasks      | elapsed:   17.3s\n",
      "[Parallel(n_jobs=-1)]: Done  10 tasks      | elapsed:   34.2s\n",
      "[Parallel(n_jobs=-1)]: Done  17 tasks      | elapsed:  1.1min\n",
      "[Parallel(n_jobs=-1)]: Done  24 tasks      | elapsed:  2.0min\n",
      "[Parallel(n_jobs=-1)]: Done  33 tasks      | elapsed:  3.0min\n",
      "[Parallel(n_jobs=-1)]: Done  42 tasks      | elapsed:  3.8min\n",
      "[Parallel(n_jobs=-1)]: Done  53 tasks      | elapsed:  5.4min\n",
      "[Parallel(n_jobs=-1)]: Done  64 tasks      | elapsed:  6.4min\n",
      "[Parallel(n_jobs=-1)]: Done  77 tasks      | elapsed:  8.5min\n",
      "[Parallel(n_jobs=-1)]: Done  96 out of  96 | elapsed: 12.1min finished\n"
     ]
    },
    {
     "name": "stdout",
     "output_type": "stream",
     "text": [
      "Wall time: 12min 36s\n"
     ]
    },
    {
     "data": {
      "text/plain": [
       "GridSearchCV(cv=ShuffleSplit(n_splits=1, random_state=None, test_size=0.5, train_size=None),\n",
       "       error_score='raise',\n",
       "       estimator=RandomForestClassifier(bootstrap=True, class_weight=None, criterion='gini',\n",
       "            max_depth=None, max_features='auto', max_leaf_nodes=None,\n",
       "            min_impurity_split=1e-07, min_samples_leaf=1,\n",
       "            min_samples_split=2, min_weight_fraction_leaf=0.0,\n",
       "            n_estimators=10, n_jobs=1, oob_score=False, random_state=None,\n",
       "            verbose=0, warm_start=False),\n",
       "       fit_params={}, iid=True, n_jobs=-1,\n",
       "       param_grid={'max_features': [1, 5, 10], 'n_estimators': [100, 500], 'class_weight': [None, 'balanced'], 'criterion': ['gini', 'entropy'], 'min_samples_leaf': [1, 5], 'bootstrap': [True, False]},\n",
       "       pre_dispatch='2*n_jobs', refit=True, return_train_score=True,\n",
       "       scoring=None, verbose=10)"
      ]
     },
     "execution_count": 22,
     "metadata": {},
     "output_type": "execute_result"
    }
   ],
   "source": [
    "grid_rfc.fit(X, Y)"
   ]
  },
  {
   "cell_type": "code",
   "execution_count": 69,
   "metadata": {
    "collapsed": false
   },
   "outputs": [
    {
     "data": {
      "text/html": [
       "<table><tr><td>0.192699490662</td><td>{'max_features': 10, 'n_estimators': 100, 'class_weight': None, 'criterion': 'gini', 'min_samples_leaf': 1, 'bootstrap': True}</td></tr><tr><td>0.195246179966</td><td>{'max_features': 10, 'n_estimators': 500, 'class_weight': None, 'min_samples_leaf': 1, 'criterion': 'gini', 'bootstrap': True}</td></tr><tr><td>0.199066213922</td><td>{'max_features': 10, 'n_estimators': 100, 'class_weight': None, 'min_samples_leaf': 1, 'criterion': 'entropy', 'bootstrap': True}</td></tr><tr><td>0.196095076401</td><td>{'max_features': 10, 'n_estimators': 500, 'class_weight': None, 'criterion': 'entropy', 'min_samples_leaf': 1, 'bootstrap': True}</td></tr><tr><td>0.227504244482</td><td>{'max_features': 10, 'n_estimators': 100, 'class_weight': None, 'criterion': 'gini', 'min_samples_leaf': 1, 'bootstrap': False}</td></tr><tr><td>0.227504244482</td><td>{'max_features': 10, 'n_estimators': 500, 'class_weight': None, 'min_samples_leaf': 1, 'criterion': 'gini', 'bootstrap': False}</td></tr><tr><td>0.230050933786</td><td>{'max_features': 10, 'n_estimators': 100, 'class_weight': None, 'min_samples_leaf': 1, 'criterion': 'entropy', 'bootstrap': False}</td></tr><tr><td>0.227928692699</td><td>{'max_features': 10, 'n_estimators': 500, 'class_weight': None, 'criterion': 'entropy', 'min_samples_leaf': 1, 'bootstrap': False}</td></tr><tr><td>0.212224108659</td><td>{'max_features': 10, 'n_estimators': 100, 'class_weight': 'balanced', 'criterion': 'gini', 'min_samples_leaf': 1, 'bootstrap': False}</td></tr><tr><td>0.216468590832</td><td>{'max_features': 10, 'n_estimators': 500, 'class_weight': 'balanced', 'min_samples_leaf': 1, 'criterion': 'gini', 'bootstrap': False}</td></tr><tr><td>0.20882852292</td><td>{'max_features': 10, 'n_estimators': 100, 'class_weight': 'balanced', 'min_samples_leaf': 1, 'criterion': 'entropy', 'bootstrap': False}</td></tr><tr><td>0.210101867572</td><td>{'max_features': 10, 'n_estimators': 500, 'class_weight': 'balanced', 'min_samples_leaf': 1, 'criterion': 'entropy', 'bootstrap': False}</td></tr></table>"
      ],
      "text/plain": [
       "<IPython.core.display.HTML object>"
      ]
     },
     "metadata": {},
     "output_type": "display_data"
    }
   ],
   "source": [
    "from IPython.display import HTML, display\n",
    "score_param = []\n",
    "for i in range(len(grid_rfc.cv_results_['mean_test_score'])):\n",
    "    if grid_rfc.cv_results_['mean_test_score'][i] > 0.19:\n",
    "        tup = (grid_rfc.cv_results_['mean_test_score'][i], grid_rfc.cv_results_['params'][i])\n",
    "        score_param += [tup]\n",
    "display(HTML(\n",
    "    '<table><tr>{}</tr></table>'.format(\n",
    "        '</tr><tr>'.join(\n",
    "            '<td>{}</td>'.format('</td><td>'.join(str(_) for _ in row)) for row in score_param)\n",
    "        )\n",
    " ))"
   ]
  },
  {
   "cell_type": "code",
   "execution_count": 102,
   "metadata": {
    "collapsed": false
   },
   "outputs": [],
   "source": [
    "dtc = grid_rfc.best_estimator_.estimators_[0]"
   ]
  },
  {
   "cell_type": "code",
   "execution_count": null,
   "metadata": {
    "collapsed": false
   },
   "outputs": [],
   "source": [
    "import pydotplus\n",
    "from IPython.display import Image\n",
    "from sklearn import tree\n",
    "dot_data = tree.export_graphviz(dtc, out_file=None, \n",
    "                         feature_names=IN_OPTIONS,  \n",
    "                         class_names=OUT_OPTIONS,  \n",
    "                         filled=True, rounded=True,  \n",
    "                         special_characters=True)  \n",
    "graph = pydotplus.graph_from_dot_data(dot_data)  \n",
    "Image(graph.create_png())"
   ]
  },
  {
   "cell_type": "code",
   "execution_count": 71,
   "metadata": {
    "collapsed": false
   },
   "outputs": [
    {
     "name": "stdout",
     "output_type": "stream",
     "text": [
      "Fitting 1 folds for each of 10 candidates, totalling 10 fits\n"
     ]
    },
    {
     "name": "stderr",
     "output_type": "stream",
     "text": [
      "[Parallel(n_jobs=-1)]: Done   5 out of  10 | elapsed:   59.2s remaining:   59.2s\n",
      "[Parallel(n_jobs=-1)]: Done   7 out of  10 | elapsed:  1.2min remaining:   29.9s\n",
      "[Parallel(n_jobs=-1)]: Done  10 out of  10 | elapsed:  1.5min finished\n"
     ]
    },
    {
     "data": {
      "text/plain": [
       "RandomizedSearchCV(cv=ShuffleSplit(n_splits=1, random_state=None, test_size=0.5, train_size=None),\n",
       "          error_score='raise',\n",
       "          estimator=RandomForestClassifier(bootstrap=True, class_weight=None, criterion='gini',\n",
       "            max_depth=None, max_features='auto', max_leaf_nodes=None,\n",
       "            min_impurity_split=1e-07, min_samples_leaf=1,\n",
       "            min_samples_split=2, min_weight_fraction_leaf=0.0,\n",
       "            n_estimators=10, n_jobs=1, oob_score=False, random_state=None,\n",
       "            verbose=0, warm_start=False),\n",
       "          fit_params={}, iid=True, n_iter=10, n_jobs=-1,\n",
       "          param_distributions={'max_features': <scipy.stats._distn_infrastructure.rv_frozen object at 0x000001989D374B70>, 'n_estimators': [100, 200, 500], 'class_weight': [None, 'balanced'], 'criterion': ['gini', 'entropy'], 'min_samples_leaf': <scipy.stats._distn_infrastructure.rv_frozen object at 0x000001989D374D68>, 'bootstrap': [True, False]},\n",
       "          pre_dispatch='2*n_jobs', random_state=None, refit=True,\n",
       "          return_train_score=True, scoring=None, verbose=10)"
      ]
     },
     "execution_count": 71,
     "metadata": {},
     "output_type": "execute_result"
    }
   ],
   "source": [
    "rgrid_rfc.fit(X, Y)"
   ]
  },
  {
   "cell_type": "code",
   "execution_count": null,
   "metadata": {
    "collapsed": true
   },
   "outputs": [],
   "source": []
  }
 ],
 "metadata": {
  "anaconda-cloud": {},
  "kernelspec": {
   "display_name": "Python [conda root]",
   "language": "python",
   "name": "conda-root-py"
  },
  "language_info": {
   "codemirror_mode": {
    "name": "ipython",
    "version": 3
   },
   "file_extension": ".py",
   "mimetype": "text/x-python",
   "name": "python",
   "nbconvert_exporter": "python",
   "pygments_lexer": "ipython3",
   "version": "3.5.2"
  }
 },
 "nbformat": 4,
 "nbformat_minor": 1
}
