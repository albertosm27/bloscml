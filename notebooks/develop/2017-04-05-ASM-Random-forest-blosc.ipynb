{
 "cells": [
  {
   "cell_type": "markdown",
   "metadata": {
    "deletable": true,
    "editable": true
   },
   "source": [
    "# Reordenando ideas"
   ]
  },
  {
   "cell_type": "code",
   "execution_count": 1,
   "metadata": {
    "collapsed": false,
    "deletable": true,
    "editable": true
   },
   "outputs": [
    {
     "data": {
      "application/json": {
       "Software versions": [
        {
         "module": "Python",
         "version": "3.5.3 64bit [GCC 4.4.7 20120313 (Red Hat 4.4.7-1)]"
        },
        {
         "module": "IPython",
         "version": "5.1.0"
        },
        {
         "module": "OS",
         "version": "Linux 4.9.16 gentoo x86_64 with debian stretch sid"
        },
        {
         "module": "numpy",
         "version": "1.12.1"
        },
        {
         "module": "scipy",
         "version": "0.19.0"
        },
        {
         "module": "matplotlib",
         "version": "2.0.0"
        },
        {
         "module": "pandas",
         "version": "0.19.2"
        },
        {
         "module": "scikit-learn",
         "version": "0.18.1"
        }
       ]
      },
      "text/html": [
       "<table><tr><th>Software</th><th>Version</th></tr><tr><td>Python</td><td>3.5.3 64bit [GCC 4.4.7 20120313 (Red Hat 4.4.7-1)]</td></tr><tr><td>IPython</td><td>5.1.0</td></tr><tr><td>OS</td><td>Linux 4.9.16 gentoo x86_64 with debian stretch sid</td></tr><tr><td>numpy</td><td>1.12.1</td></tr><tr><td>scipy</td><td>0.19.0</td></tr><tr><td>matplotlib</td><td>2.0.0</td></tr><tr><td>pandas</td><td>0.19.2</td></tr><tr><td>scikit-learn</td><td>0.18.1</td></tr><tr><td colspan='2'>Wed Apr 05 14:50:01 2017 UTC</td></tr></table>"
      ],
      "text/latex": [
       "\\begin{tabular}{|l|l|}\\hline\n",
       "{\\bf Software} & {\\bf Version} \\\\ \\hline\\hline\n",
       "Python & 3.5.3 64bit [GCC 4.4.7 20120313 (Red Hat 4.4.7-1)] \\\\ \\hline\n",
       "IPython & 5.1.0 \\\\ \\hline\n",
       "OS & Linux 4.9.16 gentoo x86\\_64 with debian stretch sid \\\\ \\hline\n",
       "numpy & 1.12.1 \\\\ \\hline\n",
       "scipy & 0.19.0 \\\\ \\hline\n",
       "matplotlib & 2.0.0 \\\\ \\hline\n",
       "pandas & 0.19.2 \\\\ \\hline\n",
       "scikit-learn & 0.18.1 \\\\ \\hline\n",
       "\\hline \\multicolumn{2}{|l|}{Wed Apr 05 14:50:01 2017 UTC} \\\\ \\hline\n",
       "\\end{tabular}\n"
      ],
      "text/plain": [
       "Software versions\n",
       "Python 3.5.3 64bit [GCC 4.4.7 20120313 (Red Hat 4.4.7-1)]\n",
       "IPython 5.1.0\n",
       "OS Linux 4.9.16 gentoo x86_64 with debian stretch sid\n",
       "numpy 1.12.1\n",
       "scipy 0.19.0\n",
       "matplotlib 2.0.0\n",
       "pandas 0.19.2\n",
       "scikit-learn 0.18.1\n",
       "Wed Apr 05 14:50:01 2017 UTC"
      ]
     },
     "execution_count": 1,
     "metadata": {},
     "output_type": "execute_result"
    }
   ],
   "source": [
    "%matplotlib inline\n",
    "%config InlineBackend.figure_format='retina'\n",
    "\n",
    "%load_ext autoreload\n",
    "%autoreload 2\n",
    "\n",
    "%load_ext version_information\n",
    "%version_information numpy, scipy, matplotlib, pandas, scikit-learn"
   ]
  },
  {
   "cell_type": "code",
   "execution_count": 2,
   "metadata": {
    "collapsed": true,
    "deletable": true,
    "editable": true
   },
   "outputs": [],
   "source": [
    "import os\n",
    "import sys\n",
    "sys.path.append(\"../src/\")\n",
    "\n",
    "from IPython.display import display\n",
    "import matplotlib\n",
    "from matplotlib import pyplot as plt\n",
    "import numpy as np\n",
    "import pandas as pd\n",
    "import seaborn as sns; sns.set()\n",
    "from sklearn.externals import joblib\n",
    "from sklearn.model_selection import GridSearchCV\n",
    "from sklearn.ensemble import RandomForestClassifier\n",
    "from sklearn.model_selection import cross_val_score\n",
    "from sklearn.model_selection import ShuffleSplit\n",
    "from sklearn.metrics import brier_score_loss\n",
    "\n",
    "pd.options.display.float_format = '{:,.3f}'.format\n",
    "matplotlib.rcParams.update({'font.size': 12})"
   ]
  },
  {
   "cell_type": "code",
   "execution_count": 3,
   "metadata": {
    "collapsed": true,
    "deletable": true,
    "editable": true
   },
   "outputs": [],
   "source": [
    "df = pd.read_csv('../data/training_data.csv', sep='\\t')"
   ]
  },
  {
   "cell_type": "code",
   "execution_count": 7,
   "metadata": {
    "collapsed": true,
    "deletable": true,
    "editable": true
   },
   "outputs": [],
   "source": [
    "IN_OPTIONS = ['IN_CR', 'IN_CS', 'IN_DS', 'is_Table', 'is_Columnar', 'is_Int', 'is_Float', 'is_String', 'Type_Size', 'Chunk_Size',\n",
    "              'Mean', 'Median', 'Sd', 'Skew', 'Kurt', 'Min', 'Max', 'Q1', 'Q3', 'BLZ_CRate', 'BLZ_CSpeed', 'BLZ_DSpeed', 'LZ4_CRate',\n",
    "              'LZ4_CSpeed', 'LZ4_DSpeed']\n",
    "IN2_OPTIONS = ['IN_1', 'IN_2', 'IN_3', 'IN_4', 'IN_5', 'IN_6', 'IN_7', 'is_Array', 'is_Table', 'is_Columnar', 'is_Int', 'is_Float', 'is_String', 'Type_Size', 'Chunk_Size',\n",
    "              'Mean', 'Median', 'Sd', 'Skew', 'Kurt', 'Min', 'Max', 'Q1', 'Q3', 'BLZ_CRate', 'BLZ_CSpeed', 'BLZ_DSpeed', 'LZ4_CRate',\n",
    "              'LZ4_CSpeed', 'LZ4_DSpeed']\n",
    "OUT_CODEC = ['Blosclz', 'Lz4', 'Lz4hc', 'Snappy', 'Zstd']\n",
    "OUT_FILTER = ['Noshuffle', 'Shuffle', 'Bitshuffle'] \n",
    "OUT_LEVELS = ['CL1', 'CL2', 'CL3', 'CL4', 'CL5', 'CL6', 'CL7', 'CL8', 'CL9']\n",
    "OUT_BLOCKS = ['Block_8', 'Block_16', 'Block_32', 'Block_64', 'Block_128', 'Block_256', 'Block_512', 'Block_1024', 'Block_2048']\n",
    "OUT_OPTIONS = OUT_CODEC + OUT_FILTER + OUT_LEVELS + OUT_BLOCKS"
   ]
  },
  {
   "cell_type": "code",
   "execution_count": 10,
   "metadata": {
    "collapsed": false
   },
   "outputs": [],
   "source": [
    "df = df.assign(IN_1=((df.IN_CR == 1) & (df.IN_CS == 0) & (df.IN_DS == 0)).astype(int),\n",
    "          IN_2=((df.IN_CR == 0) & (df.IN_CS == 1) & (df.IN_DS == 0)).astype(int),\n",
    "          IN_3=((df.IN_CR == 0) & (df.IN_CS == 0) & (df.IN_DS == 1)).astype(int),\n",
    "          IN_4=((df.IN_CR == 1) & (df.IN_CS == 1) & (df.IN_DS == 0)).astype(int),\n",
    "          IN_5=((df.IN_CR == 1) & (df.IN_CS == 0) & (df.IN_DS == 1)).astype(int),\n",
    "          IN_6=((df.IN_CR == 0) & (df.IN_CS == 1) & (df.IN_DS == 1)).astype(int),\n",
    "          IN_7=((df.IN_CR == 1) & (df.IN_CS == 1) & (df.IN_DS == 1)).astype(int),\n",
    "          is_Array=(df.Table == 0).astype(int), is_Table=(df.Table == 1).astype(int))\n",
    "df['Noshuffle'] = (df['Filter'] == 'noshuffle').astype(int)"
   ]
  },
  {
   "cell_type": "code",
   "execution_count": 11,
   "metadata": {
    "collapsed": false,
    "deletable": true,
    "editable": true
   },
   "outputs": [],
   "source": [
    "X, Y = df[IN2_OPTIONS].values, df[OUT_OPTIONS].values"
   ]
  },
  {
   "cell_type": "code",
   "execution_count": 14,
   "metadata": {
    "collapsed": false,
    "deletable": true,
    "editable": true
   },
   "outputs": [],
   "source": [
    "ss = ShuffleSplit(n_splits=10, test_size=0.25)\n",
    "rfc = RandomForestClassifier(n_estimators=70, bootstrap=False, class_weight=None, criterion='entropy',\n",
    "                             max_features=15, max_depth=20, n_jobs=-1)\n",
    "scores = cross_val_score(rfc, X, Y, cv=ss)"
   ]
  },
  {
   "cell_type": "code",
   "execution_count": 15,
   "metadata": {
    "collapsed": false,
    "deletable": true,
    "editable": true
   },
   "outputs": [
    {
     "name": "stdout",
     "output_type": "stream",
     "text": [
      "Accuracy: 0.32 (+/- 0.03)\n"
     ]
    }
   ],
   "source": [
    "print(\"Accuracy: %0.2f (+/- %0.2f)\" % (scores.mean(), scores.std() * 2))"
   ]
  },
  {
   "cell_type": "code",
   "execution_count": 18,
   "metadata": {
    "collapsed": false,
    "deletable": true,
    "editable": true
   },
   "outputs": [
    {
     "name": "stdout",
     "output_type": "stream",
     "text": [
      "Accuracy: 0.54 (+/- 0.03)\n"
     ]
    }
   ],
   "source": [
    "X, Y = df[IN_OPTIONS].values, df[OUT_CODEC + OUT_FILTER + OUT_LEVELS].values\n",
    "ss = ShuffleSplit(n_splits=10, test_size=0.25)\n",
    "rfc = RandomForestClassifier(n_estimators=70, bootstrap=False, class_weight=None, criterion='entropy',\n",
    "                             max_features=15, max_depth=20, n_jobs=-1)\n",
    "scores = cross_val_score(rfc, X, Y, cv=ss)\n",
    "print(\"Accuracy: %0.2f (+/- %0.2f)\" % (scores.mean(), scores.std() * 2))"
   ]
  },
  {
   "cell_type": "code",
   "execution_count": 19,
   "metadata": {
    "collapsed": false,
    "deletable": true,
    "editable": true
   },
   "outputs": [
    {
     "name": "stdout",
     "output_type": "stream",
     "text": [
      "Accuracy: 0.53 (+/- 0.03)\n"
     ]
    }
   ],
   "source": [
    "X, Y = df[IN_OPTIONS].values, df[OUT_BLOCKS].values\n",
    "ss = ShuffleSplit(n_splits=10, test_size=0.25)\n",
    "rfc = RandomForestClassifier(n_estimators=70, bootstrap=False, class_weight=None, criterion='entropy',\n",
    "                             max_features=15, max_depth=20, n_jobs=-1)\n",
    "scores = cross_val_score(rfc, X, Y, cv=ss)\n",
    "print(\"Accuracy: %0.2f (+/- %0.2f)\" % (scores.mean(), scores.std() * 2))"
   ]
  },
  {
   "cell_type": "code",
   "execution_count": 131,
   "metadata": {
    "collapsed": true,
    "deletable": true,
    "editable": true
   },
   "outputs": [],
   "source": [
    "chunks_df = df.drop_duplicates(subset=['DataSet', 'Table', 'Chunk_Number'])\n",
    "train_data = pd.DataFrame(columns=df.columns.values)\n",
    "test_data = pd.DataFrame(columns=df.columns.values)\n",
    "spliter = ShuffleSplit(n_splits=1, test_size=0.4)\n",
    "for i_train, i_test in spliter.split(chunks_df.values):\n",
    "    aux_train = chunks_df.iloc[i_train][['DataSet', 'Table', 'Chunk_Number']]\n",
    "    aux_test = chunks_df.iloc[i_test][['DataSet', 'Table', 'Chunk_Number']]\n",
    "    for index, row in aux_train.iterrows():\n",
    "        train_data = train_data.append(df[(df.DataSet == row['DataSet']) & (df.Table == row['Table']) &\n",
    "                             (df.Chunk_Number == row['Chunk_Number'])])\n",
    "    for index, row in aux_test.iterrows():\n",
    "        test_data = test_data.append(df[(df.DataSet == row['DataSet']) & (df.Table == row['Table']) &\n",
    "                             (df.Chunk_Number == row['Chunk_Number'])])"
   ]
  },
  {
   "cell_type": "code",
   "execution_count": 132,
   "metadata": {
    "collapsed": false,
    "deletable": true,
    "editable": true
   },
   "outputs": [],
   "source": [
    "X, Y = train_data[IN_OPTIONS].values, train_data[OUT_OPTIONS].values"
   ]
  },
  {
   "cell_type": "code",
   "execution_count": 133,
   "metadata": {
    "collapsed": true,
    "deletable": true,
    "editable": true
   },
   "outputs": [],
   "source": [
    "Xtest, Ytest = test_data[IN_OPTIONS].values, test_data[OUT_OPTIONS].values"
   ]
  },
  {
   "cell_type": "code",
   "execution_count": 134,
   "metadata": {
    "collapsed": false,
    "deletable": true,
    "editable": true
   },
   "outputs": [
    {
     "data": {
      "text/plain": [
       "RandomForestClassifier(bootstrap=False, class_weight=None,\n",
       "            criterion='entropy', max_depth=20, max_features=15,\n",
       "            max_leaf_nodes=None, min_impurity_split=1e-07,\n",
       "            min_samples_leaf=1, min_samples_split=2,\n",
       "            min_weight_fraction_leaf=0.0, n_estimators=70, n_jobs=-1,\n",
       "            oob_score=False, random_state=None, verbose=0,\n",
       "            warm_start=False)"
      ]
     },
     "execution_count": 134,
     "metadata": {},
     "output_type": "execute_result"
    }
   ],
   "source": [
    "rfc.fit(X, Y)"
   ]
  },
  {
   "cell_type": "code",
   "execution_count": 65,
   "metadata": {
    "collapsed": false,
    "deletable": true,
    "editable": true
   },
   "outputs": [
    {
     "data": {
      "text/plain": [
       "array([ 1.,  0.,  0., ...,  0.,  0.,  0.])"
      ]
     },
     "execution_count": 65,
     "metadata": {},
     "output_type": "execute_result"
    }
   ],
   "source": [
    "rfc.predict_proba(Xtest)[0][:,1]"
   ]
  },
  {
   "cell_type": "code",
   "execution_count": 124,
   "metadata": {
    "collapsed": false,
    "deletable": true,
    "editable": true
   },
   "outputs": [
    {
     "data": {
      "text/plain": [
       "array([[ 0.98571429,  0.01428571],\n",
       "       [ 0.98571429,  0.01428571],\n",
       "       [ 0.98571429,  0.01428571],\n",
       "       ..., \n",
       "       [ 0.88571429,  0.11428571],\n",
       "       [ 0.02857143,  0.97142857],\n",
       "       [ 0.45714286,  0.54285714]])"
      ]
     },
     "execution_count": 124,
     "metadata": {},
     "output_type": "execute_result"
    }
   ],
   "source": [
    "prob = rfc.predict_proba(Xtest)"
   ]
  },
  {
   "cell_type": "code",
   "execution_count": 126,
   "metadata": {
    "collapsed": false,
    "deletable": true,
    "editable": true
   },
   "outputs": [
    {
     "data": {
      "text/plain": [
       "array([ 1.,  0.,  0.,  0.,  0.,  1.,  0.,  0.,  0.,  0.,  1.,  0.,  0.,\n",
       "        0.,  0.,  0.,  0.,  0.,  0.,  0.,  1.,  0.,  0.,  0.,  0.,  0.])"
      ]
     },
     "execution_count": 126,
     "metadata": {},
     "output_type": "execute_result"
    }
   ],
   "source": [
    "codec_probs = []\n",
    "filter_probs = []\n",
    "clevel_probs = []\n",
    "bloc_probs = []\n",
    "for i in range(len(prob[0])):\n",
    "    codec_probs.append([prob[j][i][1] for j in range(5)])\n",
    "    filter_probs.append([prob[j][i][1] for j in range(5, 8)])\n",
    "    clevel_probs.append([prob[j][i][1] for j in range(8, 17)])\n",
    "    bloc_probs.append([prob[j][i][1] for j in range(17, 26)])"
   ]
  },
  {
   "cell_type": "code",
   "execution_count": 46,
   "metadata": {
    "collapsed": false,
    "deletable": true,
    "editable": true
   },
   "outputs": [
    {
     "name": "stdout",
     "output_type": "stream",
     "text": [
      "No calibration: 0.019\n"
     ]
    }
   ],
   "source": [
    "clf_score = brier_score_loss(Ytest[:,0], prob)\n",
    "print(\"No calibration: %1.3f\" % clf_score)"
   ]
  },
  {
   "cell_type": "code",
   "execution_count": 128,
   "metadata": {
    "collapsed": false,
    "deletable": true,
    "editable": true
   },
   "outputs": [],
   "source": [
    "def my_brier_scorer(predictor, X, y):\n",
    "    probs = predictor.predict_proba(X)\n",
    "    sorted_probs = []\n",
    "    score = 0\n",
    "    for i in range(len(prob[0])):\n",
    "        sorted_probs.append([prob[j][i][1] for j in range(26)])\n",
    "    for i in range(y.shape[0]):\n",
    "        aux = np.square(sorted_probs[i] - y[i])\n",
    "        score += np.mean(aux[0:5]) + np.mean(aux[5:8]) + np.mean(aux[8:17]) + np.mean(aux[17:26])\n",
    "    return score/y.shape[0]"
   ]
  },
  {
   "cell_type": "code",
   "execution_count": 136,
   "metadata": {
    "collapsed": true,
    "deletable": true,
    "editable": true
   },
   "outputs": [],
   "source": [
    "ss = ShuffleSplit(n_splits=10, test_size=0.25)"
   ]
  },
  {
   "cell_type": "code",
   "execution_count": 137,
   "metadata": {
    "collapsed": false,
    "deletable": true,
    "editable": true
   },
   "outputs": [
    {
     "data": {
      "text/plain": [
       "array([ 0.87815505,  0.886838  ,  0.91711229,  0.89926362,  0.90162164,\n",
       "        0.86880384,  0.89789865,  0.87567728,  0.88336032,  0.91036033])"
      ]
     },
     "execution_count": 137,
     "metadata": {},
     "output_type": "execute_result"
    }
   ],
   "source": [
    "cross_val_score(rfc, X, Y, cv=ss, scoring=my_brier_scorer)"
   ]
  },
  {
   "cell_type": "code",
   "execution_count": 8,
   "metadata": {
    "collapsed": false,
    "deletable": true,
    "editable": true
   },
   "outputs": [],
   "source": [
    "df['Noshuffle'] = (df['Filter'] == 'noshuffle').astype(int)"
   ]
  },
  {
   "cell_type": "code",
   "execution_count": 129,
   "metadata": {
    "collapsed": false,
    "deletable": true,
    "editable": true
   },
   "outputs": [
    {
     "name": "stdout",
     "output_type": "stream",
     "text": [
      "Accuracy: 0.96 (+/- 0.01)\n"
     ]
    }
   ],
   "source": [
    "X, Y = df[IN_OPTIONS].values, df[OUT_FILTER2].values\n",
    "ss = ShuffleSplit(n_splits=100, test_size=0.25)\n",
    "rfc = RandomForestClassifier(n_estimators=70, bootstrap=False, class_weight=None, criterion='entropy',\n",
    "                             max_features=15, max_depth=20, n_jobs=-1)\n",
    "scores = cross_val_score(rfc, X, Y, cv=ss)\n",
    "print(\"Accuracy: %0.2f (+/- %0.2f)\" % (scores.mean(), scores.std() * 2))"
   ]
  },
  {
   "cell_type": "code",
   "execution_count": 59,
   "metadata": {
    "collapsed": false,
    "deletable": true,
    "editable": true
   },
   "outputs": [
    {
     "name": "stdout",
     "output_type": "stream",
     "text": [
      "Accuracy: 0.95 (+/- 0.01)\n"
     ]
    }
   ],
   "source": [
    "X, Y = df[IN_OPTIONS].values, df[OUT_FILTER].values\n",
    "ss = ShuffleSplit(n_splits=100, test_size=0.25)\n",
    "rfc = RandomForestClassifier(n_estimators=70, bootstrap=False, class_weight=None, criterion='entropy',\n",
    "                             max_features=15, max_depth=20, n_jobs=-1)\n",
    "scores = cross_val_score(rfc, X, Y, cv=ss)\n",
    "print(\"Accuracy: %0.2f (+/- %0.2f)\" % (scores.mean(), scores.std() * 2))"
   ]
  },
  {
   "cell_type": "code",
   "execution_count": null,
   "metadata": {
    "collapsed": true,
    "deletable": true,
    "editable": true
   },
   "outputs": [],
   "source": []
  }
 ],
 "metadata": {
  "kernelspec": {
   "display_name": "Python 3",
   "language": "python",
   "name": "python3"
  },
  "language_info": {
   "codemirror_mode": {
    "name": "ipython",
    "version": 3
   },
   "file_extension": ".py",
   "mimetype": "text/x-python",
   "name": "python",
   "nbconvert_exporter": "python",
   "pygments_lexer": "ipython3",
   "version": "3.5.3"
  }
 },
 "nbformat": 4,
 "nbformat_minor": 2
}
