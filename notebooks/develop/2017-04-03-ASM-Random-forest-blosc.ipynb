{
 "cells": [
  {
   "cell_type": "markdown",
   "metadata": {
    "deletable": true,
    "editable": true
   },
   "source": [
    "# Primeros pickle"
   ]
  },
  {
   "cell_type": "code",
   "execution_count": 1,
   "metadata": {
    "collapsed": false,
    "deletable": true,
    "editable": true
   },
   "outputs": [
    {
     "data": {
      "application/json": {
       "Software versions": [
        {
         "module": "Python",
         "version": "3.5.3 64bit [GCC 4.4.7 20120313 (Red Hat 4.4.7-1)]"
        },
        {
         "module": "IPython",
         "version": "5.1.0"
        },
        {
         "module": "OS",
         "version": "Linux 4.9.16 gentoo x86_64 with debian stretch sid"
        },
        {
         "module": "numpy",
         "version": "1.12.1"
        },
        {
         "module": "scipy",
         "version": "0.19.0"
        },
        {
         "module": "matplotlib",
         "version": "2.0.0"
        },
        {
         "module": "pandas",
         "version": "0.19.2"
        },
        {
         "module": "scikit-learn",
         "version": "0.18.1"
        }
       ]
      },
      "text/html": [
       "<table><tr><th>Software</th><th>Version</th></tr><tr><td>Python</td><td>3.5.3 64bit [GCC 4.4.7 20120313 (Red Hat 4.4.7-1)]</td></tr><tr><td>IPython</td><td>5.1.0</td></tr><tr><td>OS</td><td>Linux 4.9.16 gentoo x86_64 with debian stretch sid</td></tr><tr><td>numpy</td><td>1.12.1</td></tr><tr><td>scipy</td><td>0.19.0</td></tr><tr><td>matplotlib</td><td>2.0.0</td></tr><tr><td>pandas</td><td>0.19.2</td></tr><tr><td>scikit-learn</td><td>0.18.1</td></tr><tr><td colspan='2'>Tue Apr 04 07:09:55 2017 UTC</td></tr></table>"
      ],
      "text/latex": [
       "\\begin{tabular}{|l|l|}\\hline\n",
       "{\\bf Software} & {\\bf Version} \\\\ \\hline\\hline\n",
       "Python & 3.5.3 64bit [GCC 4.4.7 20120313 (Red Hat 4.4.7-1)] \\\\ \\hline\n",
       "IPython & 5.1.0 \\\\ \\hline\n",
       "OS & Linux 4.9.16 gentoo x86\\_64 with debian stretch sid \\\\ \\hline\n",
       "numpy & 1.12.1 \\\\ \\hline\n",
       "scipy & 0.19.0 \\\\ \\hline\n",
       "matplotlib & 2.0.0 \\\\ \\hline\n",
       "pandas & 0.19.2 \\\\ \\hline\n",
       "scikit-learn & 0.18.1 \\\\ \\hline\n",
       "\\hline \\multicolumn{2}{|l|}{Tue Apr 04 07:09:55 2017 UTC} \\\\ \\hline\n",
       "\\end{tabular}\n"
      ],
      "text/plain": [
       "Software versions\n",
       "Python 3.5.3 64bit [GCC 4.4.7 20120313 (Red Hat 4.4.7-1)]\n",
       "IPython 5.1.0\n",
       "OS Linux 4.9.16 gentoo x86_64 with debian stretch sid\n",
       "numpy 1.12.1\n",
       "scipy 0.19.0\n",
       "matplotlib 2.0.0\n",
       "pandas 0.19.2\n",
       "scikit-learn 0.18.1\n",
       "Tue Apr 04 07:09:55 2017 UTC"
      ]
     },
     "execution_count": 1,
     "metadata": {},
     "output_type": "execute_result"
    }
   ],
   "source": [
    "%matplotlib inline\n",
    "%config InlineBackend.figure_format='retina'\n",
    "\n",
    "%load_ext autoreload\n",
    "%autoreload 2\n",
    "\n",
    "%load_ext version_information\n",
    "%version_information numpy, scipy, matplotlib, pandas, scikit-learn"
   ]
  },
  {
   "cell_type": "code",
   "execution_count": 2,
   "metadata": {
    "collapsed": true,
    "deletable": true,
    "editable": true
   },
   "outputs": [],
   "source": [
    "import os\n",
    "import sys\n",
    "sys.path.append(\"../src/\")\n",
    "\n",
    "from IPython.display import display\n",
    "import matplotlib\n",
    "from matplotlib import pyplot as plt\n",
    "import numpy as np\n",
    "import pandas as pd\n",
    "import seaborn as sns; sns.set()\n",
    "from sklearn.externals import joblib\n",
    "from sklearn.model_selection import GridSearchCV\n",
    "from sklearn.ensemble import RandomForestClassifier\n",
    "\n",
    "pd.options.display.float_format = '{:,.3f}'.format\n",
    "matplotlib.rcParams.update({'font.size': 12})"
   ]
  },
  {
   "cell_type": "code",
   "execution_count": 3,
   "metadata": {
    "collapsed": true,
    "deletable": true,
    "editable": true
   },
   "outputs": [],
   "source": [
    "def my_ponderated_scorer(predictor, X, y):\n",
    "    ypred = predictor.predict(X)\n",
    "    score = 0\n",
    "    for i in range(y.shape[0]):\n",
    "        if (y[i,0:10] == ypred[i,0:10]).all():\n",
    "            score += 0.2\n",
    "        if (y[i,10:15] == ypred[i,10:15]).all():\n",
    "            score += 0.4\n",
    "        if (y[i,15:17] == ypred[i,15:17]).all():\n",
    "            score += 0.2\n",
    "        if (y[i,17:26] == ypred[i,17:26]).all():\n",
    "            score += 0.2\n",
    "    return score/y.shape[0]\n",
    "\n",
    "def my_balanced_scorer(predictor, X, y):\n",
    "    ypred = predictor.predict(X)\n",
    "    score = 0\n",
    "    for i in range(y.shape[0]):\n",
    "        if (y[i,0:10] == ypred[i,0:10]).all():\n",
    "            score += 0.25\n",
    "        if (y[i,10:15] == ypred[i,10:15]).all():\n",
    "            score += 0.25\n",
    "        if (y[i,15:17] == ypred[i,15:17]).all():\n",
    "            score += 0.25\n",
    "        if (y[i,17:26] == ypred[i,17:26]).all():\n",
    "            score += 0.25\n",
    "    return score/y.shape[0]\n",
    "\n",
    "def my_2paired_scorer(predictor, X, y):\n",
    "    ypred = predictor.predict(X)\n",
    "    score = 0\n",
    "    for i in range(y.shape[0]):\n",
    "        if (y[i,0:10] == ypred[i,0:10]).all() and (y[i,17:26] == ypred[i,17:26]).all():\n",
    "            score += 0.5\n",
    "        if (y[i,10:15] == ypred[i,10:15]).all() and (y[i,15:17] == ypred[i,15:17]).all():\n",
    "            score += 0.5\n",
    "    return score/y.shape[0]"
   ]
  },
  {
   "cell_type": "code",
   "execution_count": 4,
   "metadata": {
    "collapsed": false,
    "deletable": true,
    "editable": true
   },
   "outputs": [],
   "source": [
    "grid = joblib.load('grid_rfc_depth_default_scorer.pkl.gz')"
   ]
  },
  {
   "cell_type": "code",
   "execution_count": 5,
   "metadata": {
    "collapsed": false,
    "deletable": true,
    "editable": true
   },
   "outputs": [
    {
     "data": {
      "text/plain": [
       "{'bootstrap': [True, False],\n",
       " 'class_weight': [None, 'balanced'],\n",
       " 'criterion': ['gini', 'entropy'],\n",
       " 'max_depth': [None, 5, 10, 15],\n",
       " 'max_features': [7, 10, 15],\n",
       " 'n_estimators': [20, 30, 40, 50, 60, 70, 80, 90]}"
      ]
     },
     "execution_count": 5,
     "metadata": {},
     "output_type": "execute_result"
    }
   ],
   "source": [
    "grid.param_grid"
   ]
  },
  {
   "cell_type": "code",
   "execution_count": 6,
   "metadata": {
    "collapsed": false,
    "deletable": true,
    "editable": true
   },
   "outputs": [
    {
     "data": {
      "text/plain": [
       "0.24087436332767403"
      ]
     },
     "execution_count": 6,
     "metadata": {},
     "output_type": "execute_result"
    }
   ],
   "source": [
    "grid.best_score_"
   ]
  },
  {
   "cell_type": "code",
   "execution_count": 7,
   "metadata": {
    "collapsed": false,
    "deletable": true,
    "editable": true
   },
   "outputs": [
    {
     "name": "stderr",
     "output_type": "stream",
     "text": [
      "/home/shurberto/miniconda3/lib/python3.5/site-packages/ipykernel/__main__.py:10: FutureWarning: sort(columns=....) is deprecated, use sort_values(by=.....)\n"
     ]
    },
    {
     "data": {
      "text/html": [
       "<div>\n",
       "<table border=\"1\" class=\"dataframe\">\n",
       "  <thead>\n",
       "    <tr style=\"text-align: right;\">\n",
       "      <th></th>\n",
       "      <th>Score</th>\n",
       "      <th>bootstrap</th>\n",
       "      <th>n_estimators</th>\n",
       "      <th>class_weight</th>\n",
       "      <th>criterion</th>\n",
       "      <th>max_features</th>\n",
       "      <th>max_depth</th>\n",
       "    </tr>\n",
       "  </thead>\n",
       "  <tbody>\n",
       "    <tr>\n",
       "      <th>574</th>\n",
       "      <td>0.241</td>\n",
       "      <td>False</td>\n",
       "      <td>80</td>\n",
       "      <td>None</td>\n",
       "      <td>entropy</td>\n",
       "      <td>15</td>\n",
       "      <td>15.000</td>\n",
       "    </tr>\n",
       "    <tr>\n",
       "      <th>575</th>\n",
       "      <td>0.240</td>\n",
       "      <td>False</td>\n",
       "      <td>90</td>\n",
       "      <td>None</td>\n",
       "      <td>entropy</td>\n",
       "      <td>15</td>\n",
       "      <td>15.000</td>\n",
       "    </tr>\n",
       "    <tr>\n",
       "      <th>502</th>\n",
       "      <td>0.240</td>\n",
       "      <td>False</td>\n",
       "      <td>80</td>\n",
       "      <td>None</td>\n",
       "      <td>entropy</td>\n",
       "      <td>15</td>\n",
       "      <td>nan</td>\n",
       "    </tr>\n",
       "    <tr>\n",
       "      <th>501</th>\n",
       "      <td>0.239</td>\n",
       "      <td>False</td>\n",
       "      <td>70</td>\n",
       "      <td>None</td>\n",
       "      <td>entropy</td>\n",
       "      <td>15</td>\n",
       "      <td>nan</td>\n",
       "    </tr>\n",
       "    <tr>\n",
       "      <th>573</th>\n",
       "      <td>0.239</td>\n",
       "      <td>False</td>\n",
       "      <td>70</td>\n",
       "      <td>None</td>\n",
       "      <td>entropy</td>\n",
       "      <td>15</td>\n",
       "      <td>15.000</td>\n",
       "    </tr>\n",
       "    <tr>\n",
       "      <th>407</th>\n",
       "      <td>0.239</td>\n",
       "      <td>False</td>\n",
       "      <td>90</td>\n",
       "      <td>None</td>\n",
       "      <td>gini</td>\n",
       "      <td>15</td>\n",
       "      <td>nan</td>\n",
       "    </tr>\n",
       "    <tr>\n",
       "      <th>405</th>\n",
       "      <td>0.239</td>\n",
       "      <td>False</td>\n",
       "      <td>70</td>\n",
       "      <td>None</td>\n",
       "      <td>gini</td>\n",
       "      <td>15</td>\n",
       "      <td>nan</td>\n",
       "    </tr>\n",
       "    <tr>\n",
       "      <th>500</th>\n",
       "      <td>0.238</td>\n",
       "      <td>False</td>\n",
       "      <td>60</td>\n",
       "      <td>None</td>\n",
       "      <td>entropy</td>\n",
       "      <td>15</td>\n",
       "      <td>nan</td>\n",
       "    </tr>\n",
       "    <tr>\n",
       "      <th>572</th>\n",
       "      <td>0.238</td>\n",
       "      <td>False</td>\n",
       "      <td>60</td>\n",
       "      <td>None</td>\n",
       "      <td>entropy</td>\n",
       "      <td>15</td>\n",
       "      <td>15.000</td>\n",
       "    </tr>\n",
       "    <tr>\n",
       "      <th>503</th>\n",
       "      <td>0.238</td>\n",
       "      <td>False</td>\n",
       "      <td>90</td>\n",
       "      <td>None</td>\n",
       "      <td>entropy</td>\n",
       "      <td>15</td>\n",
       "      <td>nan</td>\n",
       "    </tr>\n",
       "    <tr>\n",
       "      <th>403</th>\n",
       "      <td>0.238</td>\n",
       "      <td>False</td>\n",
       "      <td>50</td>\n",
       "      <td>None</td>\n",
       "      <td>gini</td>\n",
       "      <td>15</td>\n",
       "      <td>nan</td>\n",
       "    </tr>\n",
       "    <tr>\n",
       "      <th>570</th>\n",
       "      <td>0.238</td>\n",
       "      <td>False</td>\n",
       "      <td>40</td>\n",
       "      <td>None</td>\n",
       "      <td>entropy</td>\n",
       "      <td>15</td>\n",
       "      <td>15.000</td>\n",
       "    </tr>\n",
       "    <tr>\n",
       "      <th>499</th>\n",
       "      <td>0.238</td>\n",
       "      <td>False</td>\n",
       "      <td>50</td>\n",
       "      <td>None</td>\n",
       "      <td>entropy</td>\n",
       "      <td>15</td>\n",
       "      <td>nan</td>\n",
       "    </tr>\n",
       "    <tr>\n",
       "      <th>406</th>\n",
       "      <td>0.238</td>\n",
       "      <td>False</td>\n",
       "      <td>80</td>\n",
       "      <td>None</td>\n",
       "      <td>gini</td>\n",
       "      <td>15</td>\n",
       "      <td>nan</td>\n",
       "    </tr>\n",
       "    <tr>\n",
       "      <th>404</th>\n",
       "      <td>0.238</td>\n",
       "      <td>False</td>\n",
       "      <td>60</td>\n",
       "      <td>None</td>\n",
       "      <td>gini</td>\n",
       "      <td>15</td>\n",
       "      <td>nan</td>\n",
       "    </tr>\n",
       "    <tr>\n",
       "      <th>498</th>\n",
       "      <td>0.238</td>\n",
       "      <td>False</td>\n",
       "      <td>40</td>\n",
       "      <td>None</td>\n",
       "      <td>entropy</td>\n",
       "      <td>15</td>\n",
       "      <td>nan</td>\n",
       "    </tr>\n",
       "    <tr>\n",
       "      <th>479</th>\n",
       "      <td>0.237</td>\n",
       "      <td>False</td>\n",
       "      <td>90</td>\n",
       "      <td>None</td>\n",
       "      <td>gini</td>\n",
       "      <td>15</td>\n",
       "      <td>15.000</td>\n",
       "    </tr>\n",
       "    <tr>\n",
       "      <th>478</th>\n",
       "      <td>0.237</td>\n",
       "      <td>False</td>\n",
       "      <td>80</td>\n",
       "      <td>None</td>\n",
       "      <td>gini</td>\n",
       "      <td>15</td>\n",
       "      <td>15.000</td>\n",
       "    </tr>\n",
       "    <tr>\n",
       "      <th>571</th>\n",
       "      <td>0.237</td>\n",
       "      <td>False</td>\n",
       "      <td>50</td>\n",
       "      <td>None</td>\n",
       "      <td>entropy</td>\n",
       "      <td>15</td>\n",
       "      <td>15.000</td>\n",
       "    </tr>\n",
       "    <tr>\n",
       "      <th>477</th>\n",
       "      <td>0.237</td>\n",
       "      <td>False</td>\n",
       "      <td>70</td>\n",
       "      <td>None</td>\n",
       "      <td>gini</td>\n",
       "      <td>15</td>\n",
       "      <td>15.000</td>\n",
       "    </tr>\n",
       "    <tr>\n",
       "      <th>475</th>\n",
       "      <td>0.236</td>\n",
       "      <td>False</td>\n",
       "      <td>50</td>\n",
       "      <td>None</td>\n",
       "      <td>gini</td>\n",
       "      <td>15</td>\n",
       "      <td>15.000</td>\n",
       "    </tr>\n",
       "    <tr>\n",
       "      <th>497</th>\n",
       "      <td>0.236</td>\n",
       "      <td>False</td>\n",
       "      <td>30</td>\n",
       "      <td>None</td>\n",
       "      <td>entropy</td>\n",
       "      <td>15</td>\n",
       "      <td>nan</td>\n",
       "    </tr>\n",
       "    <tr>\n",
       "      <th>476</th>\n",
       "      <td>0.236</td>\n",
       "      <td>False</td>\n",
       "      <td>60</td>\n",
       "      <td>None</td>\n",
       "      <td>gini</td>\n",
       "      <td>15</td>\n",
       "      <td>15.000</td>\n",
       "    </tr>\n",
       "    <tr>\n",
       "      <th>401</th>\n",
       "      <td>0.236</td>\n",
       "      <td>False</td>\n",
       "      <td>30</td>\n",
       "      <td>None</td>\n",
       "      <td>gini</td>\n",
       "      <td>15</td>\n",
       "      <td>nan</td>\n",
       "    </tr>\n",
       "    <tr>\n",
       "      <th>474</th>\n",
       "      <td>0.236</td>\n",
       "      <td>False</td>\n",
       "      <td>40</td>\n",
       "      <td>None</td>\n",
       "      <td>gini</td>\n",
       "      <td>15</td>\n",
       "      <td>15.000</td>\n",
       "    </tr>\n",
       "    <tr>\n",
       "      <th>402</th>\n",
       "      <td>0.235</td>\n",
       "      <td>False</td>\n",
       "      <td>40</td>\n",
       "      <td>None</td>\n",
       "      <td>gini</td>\n",
       "      <td>15</td>\n",
       "      <td>nan</td>\n",
       "    </tr>\n",
       "    <tr>\n",
       "      <th>569</th>\n",
       "      <td>0.235</td>\n",
       "      <td>False</td>\n",
       "      <td>30</td>\n",
       "      <td>None</td>\n",
       "      <td>entropy</td>\n",
       "      <td>15</td>\n",
       "      <td>15.000</td>\n",
       "    </tr>\n",
       "    <tr>\n",
       "      <th>496</th>\n",
       "      <td>0.235</td>\n",
       "      <td>False</td>\n",
       "      <td>20</td>\n",
       "      <td>None</td>\n",
       "      <td>entropy</td>\n",
       "      <td>15</td>\n",
       "      <td>nan</td>\n",
       "    </tr>\n",
       "    <tr>\n",
       "      <th>473</th>\n",
       "      <td>0.235</td>\n",
       "      <td>False</td>\n",
       "      <td>30</td>\n",
       "      <td>None</td>\n",
       "      <td>gini</td>\n",
       "      <td>15</td>\n",
       "      <td>15.000</td>\n",
       "    </tr>\n",
       "    <tr>\n",
       "      <th>472</th>\n",
       "      <td>0.234</td>\n",
       "      <td>False</td>\n",
       "      <td>20</td>\n",
       "      <td>None</td>\n",
       "      <td>gini</td>\n",
       "      <td>15</td>\n",
       "      <td>15.000</td>\n",
       "    </tr>\n",
       "    <tr>\n",
       "      <th>568</th>\n",
       "      <td>0.234</td>\n",
       "      <td>False</td>\n",
       "      <td>20</td>\n",
       "      <td>None</td>\n",
       "      <td>entropy</td>\n",
       "      <td>15</td>\n",
       "      <td>15.000</td>\n",
       "    </tr>\n",
       "    <tr>\n",
       "      <th>400</th>\n",
       "      <td>0.232</td>\n",
       "      <td>False</td>\n",
       "      <td>20</td>\n",
       "      <td>None</td>\n",
       "      <td>gini</td>\n",
       "      <td>15</td>\n",
       "      <td>nan</td>\n",
       "    </tr>\n",
       "    <tr>\n",
       "      <th>694</th>\n",
       "      <td>0.232</td>\n",
       "      <td>False</td>\n",
       "      <td>80</td>\n",
       "      <td>balanced</td>\n",
       "      <td>entropy</td>\n",
       "      <td>15</td>\n",
       "      <td>nan</td>\n",
       "    </tr>\n",
       "    <tr>\n",
       "      <th>494</th>\n",
       "      <td>0.231</td>\n",
       "      <td>False</td>\n",
       "      <td>80</td>\n",
       "      <td>None</td>\n",
       "      <td>entropy</td>\n",
       "      <td>10</td>\n",
       "      <td>nan</td>\n",
       "    </tr>\n",
       "    <tr>\n",
       "      <th>567</th>\n",
       "      <td>0.231</td>\n",
       "      <td>False</td>\n",
       "      <td>90</td>\n",
       "      <td>None</td>\n",
       "      <td>entropy</td>\n",
       "      <td>10</td>\n",
       "      <td>15.000</td>\n",
       "    </tr>\n",
       "    <tr>\n",
       "      <th>490</th>\n",
       "      <td>0.231</td>\n",
       "      <td>False</td>\n",
       "      <td>40</td>\n",
       "      <td>None</td>\n",
       "      <td>entropy</td>\n",
       "      <td>10</td>\n",
       "      <td>nan</td>\n",
       "    </tr>\n",
       "    <tr>\n",
       "      <th>598</th>\n",
       "      <td>0.231</td>\n",
       "      <td>False</td>\n",
       "      <td>80</td>\n",
       "      <td>balanced</td>\n",
       "      <td>gini</td>\n",
       "      <td>15</td>\n",
       "      <td>nan</td>\n",
       "    </tr>\n",
       "    <tr>\n",
       "      <th>566</th>\n",
       "      <td>0.230</td>\n",
       "      <td>False</td>\n",
       "      <td>80</td>\n",
       "      <td>None</td>\n",
       "      <td>entropy</td>\n",
       "      <td>10</td>\n",
       "      <td>15.000</td>\n",
       "    </tr>\n",
       "    <tr>\n",
       "      <th>495</th>\n",
       "      <td>0.230</td>\n",
       "      <td>False</td>\n",
       "      <td>90</td>\n",
       "      <td>None</td>\n",
       "      <td>entropy</td>\n",
       "      <td>10</td>\n",
       "      <td>nan</td>\n",
       "    </tr>\n",
       "    <tr>\n",
       "      <th>492</th>\n",
       "      <td>0.230</td>\n",
       "      <td>False</td>\n",
       "      <td>60</td>\n",
       "      <td>None</td>\n",
       "      <td>entropy</td>\n",
       "      <td>10</td>\n",
       "      <td>nan</td>\n",
       "    </tr>\n",
       "    <tr>\n",
       "      <th>695</th>\n",
       "      <td>0.230</td>\n",
       "      <td>False</td>\n",
       "      <td>90</td>\n",
       "      <td>balanced</td>\n",
       "      <td>entropy</td>\n",
       "      <td>15</td>\n",
       "      <td>nan</td>\n",
       "    </tr>\n",
       "    <tr>\n",
       "      <th>691</th>\n",
       "      <td>0.230</td>\n",
       "      <td>False</td>\n",
       "      <td>50</td>\n",
       "      <td>balanced</td>\n",
       "      <td>entropy</td>\n",
       "      <td>15</td>\n",
       "      <td>nan</td>\n",
       "    </tr>\n",
       "  </tbody>\n",
       "</table>\n",
       "</div>"
      ],
      "text/plain": [
       "     Score bootstrap  n_estimators class_weight criterion  max_features  \\\n",
       "574  0.241     False            80         None   entropy            15   \n",
       "575  0.240     False            90         None   entropy            15   \n",
       "502  0.240     False            80         None   entropy            15   \n",
       "501  0.239     False            70         None   entropy            15   \n",
       "573  0.239     False            70         None   entropy            15   \n",
       "407  0.239     False            90         None      gini            15   \n",
       "405  0.239     False            70         None      gini            15   \n",
       "500  0.238     False            60         None   entropy            15   \n",
       "572  0.238     False            60         None   entropy            15   \n",
       "503  0.238     False            90         None   entropy            15   \n",
       "403  0.238     False            50         None      gini            15   \n",
       "570  0.238     False            40         None   entropy            15   \n",
       "499  0.238     False            50         None   entropy            15   \n",
       "406  0.238     False            80         None      gini            15   \n",
       "404  0.238     False            60         None      gini            15   \n",
       "498  0.238     False            40         None   entropy            15   \n",
       "479  0.237     False            90         None      gini            15   \n",
       "478  0.237     False            80         None      gini            15   \n",
       "571  0.237     False            50         None   entropy            15   \n",
       "477  0.237     False            70         None      gini            15   \n",
       "475  0.236     False            50         None      gini            15   \n",
       "497  0.236     False            30         None   entropy            15   \n",
       "476  0.236     False            60         None      gini            15   \n",
       "401  0.236     False            30         None      gini            15   \n",
       "474  0.236     False            40         None      gini            15   \n",
       "402  0.235     False            40         None      gini            15   \n",
       "569  0.235     False            30         None   entropy            15   \n",
       "496  0.235     False            20         None   entropy            15   \n",
       "473  0.235     False            30         None      gini            15   \n",
       "472  0.234     False            20         None      gini            15   \n",
       "568  0.234     False            20         None   entropy            15   \n",
       "400  0.232     False            20         None      gini            15   \n",
       "694  0.232     False            80     balanced   entropy            15   \n",
       "494  0.231     False            80         None   entropy            10   \n",
       "567  0.231     False            90         None   entropy            10   \n",
       "490  0.231     False            40         None   entropy            10   \n",
       "598  0.231     False            80     balanced      gini            15   \n",
       "566  0.230     False            80         None   entropy            10   \n",
       "495  0.230     False            90         None   entropy            10   \n",
       "492  0.230     False            60         None   entropy            10   \n",
       "695  0.230     False            90     balanced   entropy            15   \n",
       "691  0.230     False            50     balanced   entropy            15   \n",
       "\n",
       "     max_depth  \n",
       "574     15.000  \n",
       "575     15.000  \n",
       "502        nan  \n",
       "501        nan  \n",
       "573     15.000  \n",
       "407        nan  \n",
       "405        nan  \n",
       "500        nan  \n",
       "572     15.000  \n",
       "503        nan  \n",
       "403        nan  \n",
       "570     15.000  \n",
       "499        nan  \n",
       "406        nan  \n",
       "404        nan  \n",
       "498        nan  \n",
       "479     15.000  \n",
       "478     15.000  \n",
       "571     15.000  \n",
       "477     15.000  \n",
       "475     15.000  \n",
       "497        nan  \n",
       "476     15.000  \n",
       "401        nan  \n",
       "474     15.000  \n",
       "402        nan  \n",
       "569     15.000  \n",
       "496        nan  \n",
       "473     15.000  \n",
       "472     15.000  \n",
       "568     15.000  \n",
       "400        nan  \n",
       "694        nan  \n",
       "494        nan  \n",
       "567     15.000  \n",
       "490        nan  \n",
       "598        nan  \n",
       "566     15.000  \n",
       "495        nan  \n",
       "492        nan  \n",
       "695        nan  \n",
       "691        nan  "
      ]
     },
     "execution_count": 7,
     "metadata": {},
     "output_type": "execute_result"
    }
   ],
   "source": [
    "data = []\n",
    "indices = []\n",
    "for i in range(len(grid.cv_results_['mean_test_score'])):\n",
    "    if grid.cv_results_['mean_test_score'][i] > 0.23:\n",
    "        row = np.append(grid.cv_results_['mean_test_score'][i], list(grid.cv_results_['params'][i].values()))\n",
    "        data.append(row)\n",
    "        indices += [i]\n",
    "grid_best_df = pd.DataFrame(data=data,columns=['Score'] + list(grid.param_grid.keys()), index=indices)\n",
    "grid_best_df['Score'] = grid_best_df['Score'].astype(float)\n",
    "grid_best_df.sort(columns=['Score'], ascending=False)"
   ]
  },
  {
   "cell_type": "code",
   "execution_count": 8,
   "metadata": {
    "collapsed": false,
    "deletable": true,
    "editable": true
   },
   "outputs": [],
   "source": [
    "grid = joblib.load('grid_rfc_depth_default_my_balanced_scorer.pkl.gz')"
   ]
  },
  {
   "cell_type": "code",
   "execution_count": 9,
   "metadata": {
    "collapsed": false,
    "deletable": true,
    "editable": true
   },
   "outputs": [
    {
     "data": {
      "text/plain": [
       "{'bootstrap': [True, False],\n",
       " 'class_weight': [None, 'balanced'],\n",
       " 'criterion': ['gini', 'entropy'],\n",
       " 'max_depth': [None, 5, 10, 15],\n",
       " 'max_features': [7, 10, 15],\n",
       " 'n_estimators': [20, 30, 40, 50, 60, 70, 80, 90]}"
      ]
     },
     "execution_count": 9,
     "metadata": {},
     "output_type": "execute_result"
    }
   ],
   "source": [
    "grid.param_grid"
   ]
  },
  {
   "cell_type": "code",
   "execution_count": 10,
   "metadata": {
    "collapsed": false,
    "deletable": true,
    "editable": true
   },
   "outputs": [
    {
     "data": {
      "text/plain": [
       "0.67710101867572159"
      ]
     },
     "execution_count": 10,
     "metadata": {},
     "output_type": "execute_result"
    }
   ],
   "source": [
    "grid.best_score_"
   ]
  },
  {
   "cell_type": "code",
   "execution_count": 11,
   "metadata": {
    "collapsed": false,
    "deletable": true,
    "editable": true
   },
   "outputs": [
    {
     "name": "stderr",
     "output_type": "stream",
     "text": [
      "/home/shurberto/miniconda3/lib/python3.5/site-packages/ipykernel/__main__.py:10: FutureWarning: sort(columns=....) is deprecated, use sort_values(by=.....)\n"
     ]
    },
    {
     "data": {
      "text/html": [
       "<div>\n",
       "<table border=\"1\" class=\"dataframe\">\n",
       "  <thead>\n",
       "    <tr style=\"text-align: right;\">\n",
       "      <th></th>\n",
       "      <th>Score</th>\n",
       "      <th>bootstrap</th>\n",
       "      <th>n_estimators</th>\n",
       "      <th>class_weight</th>\n",
       "      <th>criterion</th>\n",
       "      <th>max_features</th>\n",
       "      <th>max_depth</th>\n",
       "    </tr>\n",
       "  </thead>\n",
       "  <tbody>\n",
       "    <tr>\n",
       "      <th>502</th>\n",
       "      <td>0.677</td>\n",
       "      <td>False</td>\n",
       "      <td>80</td>\n",
       "      <td>None</td>\n",
       "      <td>entropy</td>\n",
       "      <td>15</td>\n",
       "      <td>nan</td>\n",
       "    </tr>\n",
       "    <tr>\n",
       "      <th>573</th>\n",
       "      <td>0.677</td>\n",
       "      <td>False</td>\n",
       "      <td>70</td>\n",
       "      <td>None</td>\n",
       "      <td>entropy</td>\n",
       "      <td>15</td>\n",
       "      <td>15.000</td>\n",
       "    </tr>\n",
       "    <tr>\n",
       "      <th>503</th>\n",
       "      <td>0.677</td>\n",
       "      <td>False</td>\n",
       "      <td>90</td>\n",
       "      <td>None</td>\n",
       "      <td>entropy</td>\n",
       "      <td>15</td>\n",
       "      <td>nan</td>\n",
       "    </tr>\n",
       "    <tr>\n",
       "      <th>575</th>\n",
       "      <td>0.677</td>\n",
       "      <td>False</td>\n",
       "      <td>90</td>\n",
       "      <td>None</td>\n",
       "      <td>entropy</td>\n",
       "      <td>15</td>\n",
       "      <td>15.000</td>\n",
       "    </tr>\n",
       "    <tr>\n",
       "      <th>574</th>\n",
       "      <td>0.676</td>\n",
       "      <td>False</td>\n",
       "      <td>80</td>\n",
       "      <td>None</td>\n",
       "      <td>entropy</td>\n",
       "      <td>15</td>\n",
       "      <td>15.000</td>\n",
       "    </tr>\n",
       "    <tr>\n",
       "      <th>501</th>\n",
       "      <td>0.676</td>\n",
       "      <td>False</td>\n",
       "      <td>70</td>\n",
       "      <td>None</td>\n",
       "      <td>entropy</td>\n",
       "      <td>15</td>\n",
       "      <td>nan</td>\n",
       "    </tr>\n",
       "    <tr>\n",
       "      <th>406</th>\n",
       "      <td>0.676</td>\n",
       "      <td>False</td>\n",
       "      <td>80</td>\n",
       "      <td>None</td>\n",
       "      <td>gini</td>\n",
       "      <td>15</td>\n",
       "      <td>nan</td>\n",
       "    </tr>\n",
       "    <tr>\n",
       "      <th>500</th>\n",
       "      <td>0.676</td>\n",
       "      <td>False</td>\n",
       "      <td>60</td>\n",
       "      <td>None</td>\n",
       "      <td>entropy</td>\n",
       "      <td>15</td>\n",
       "      <td>nan</td>\n",
       "    </tr>\n",
       "    <tr>\n",
       "      <th>498</th>\n",
       "      <td>0.676</td>\n",
       "      <td>False</td>\n",
       "      <td>40</td>\n",
       "      <td>None</td>\n",
       "      <td>entropy</td>\n",
       "      <td>15</td>\n",
       "      <td>nan</td>\n",
       "    </tr>\n",
       "    <tr>\n",
       "      <th>405</th>\n",
       "      <td>0.676</td>\n",
       "      <td>False</td>\n",
       "      <td>70</td>\n",
       "      <td>None</td>\n",
       "      <td>gini</td>\n",
       "      <td>15</td>\n",
       "      <td>nan</td>\n",
       "    </tr>\n",
       "    <tr>\n",
       "      <th>407</th>\n",
       "      <td>0.676</td>\n",
       "      <td>False</td>\n",
       "      <td>90</td>\n",
       "      <td>None</td>\n",
       "      <td>gini</td>\n",
       "      <td>15</td>\n",
       "      <td>nan</td>\n",
       "    </tr>\n",
       "    <tr>\n",
       "      <th>404</th>\n",
       "      <td>0.676</td>\n",
       "      <td>False</td>\n",
       "      <td>60</td>\n",
       "      <td>None</td>\n",
       "      <td>gini</td>\n",
       "      <td>15</td>\n",
       "      <td>nan</td>\n",
       "    </tr>\n",
       "    <tr>\n",
       "      <th>572</th>\n",
       "      <td>0.676</td>\n",
       "      <td>False</td>\n",
       "      <td>60</td>\n",
       "      <td>None</td>\n",
       "      <td>entropy</td>\n",
       "      <td>15</td>\n",
       "      <td>15.000</td>\n",
       "    </tr>\n",
       "    <tr>\n",
       "      <th>402</th>\n",
       "      <td>0.675</td>\n",
       "      <td>False</td>\n",
       "      <td>40</td>\n",
       "      <td>None</td>\n",
       "      <td>gini</td>\n",
       "      <td>15</td>\n",
       "      <td>nan</td>\n",
       "    </tr>\n",
       "    <tr>\n",
       "      <th>571</th>\n",
       "      <td>0.675</td>\n",
       "      <td>False</td>\n",
       "      <td>50</td>\n",
       "      <td>None</td>\n",
       "      <td>entropy</td>\n",
       "      <td>15</td>\n",
       "      <td>15.000</td>\n",
       "    </tr>\n",
       "    <tr>\n",
       "      <th>476</th>\n",
       "      <td>0.675</td>\n",
       "      <td>False</td>\n",
       "      <td>60</td>\n",
       "      <td>None</td>\n",
       "      <td>gini</td>\n",
       "      <td>15</td>\n",
       "      <td>15.000</td>\n",
       "    </tr>\n",
       "    <tr>\n",
       "      <th>477</th>\n",
       "      <td>0.675</td>\n",
       "      <td>False</td>\n",
       "      <td>70</td>\n",
       "      <td>None</td>\n",
       "      <td>gini</td>\n",
       "      <td>15</td>\n",
       "      <td>15.000</td>\n",
       "    </tr>\n",
       "    <tr>\n",
       "      <th>499</th>\n",
       "      <td>0.675</td>\n",
       "      <td>False</td>\n",
       "      <td>50</td>\n",
       "      <td>None</td>\n",
       "      <td>entropy</td>\n",
       "      <td>15</td>\n",
       "      <td>nan</td>\n",
       "    </tr>\n",
       "    <tr>\n",
       "      <th>478</th>\n",
       "      <td>0.675</td>\n",
       "      <td>False</td>\n",
       "      <td>80</td>\n",
       "      <td>None</td>\n",
       "      <td>gini</td>\n",
       "      <td>15</td>\n",
       "      <td>15.000</td>\n",
       "    </tr>\n",
       "    <tr>\n",
       "      <th>570</th>\n",
       "      <td>0.675</td>\n",
       "      <td>False</td>\n",
       "      <td>40</td>\n",
       "      <td>None</td>\n",
       "      <td>entropy</td>\n",
       "      <td>15</td>\n",
       "      <td>15.000</td>\n",
       "    </tr>\n",
       "    <tr>\n",
       "      <th>479</th>\n",
       "      <td>0.675</td>\n",
       "      <td>False</td>\n",
       "      <td>90</td>\n",
       "      <td>None</td>\n",
       "      <td>gini</td>\n",
       "      <td>15</td>\n",
       "      <td>15.000</td>\n",
       "    </tr>\n",
       "    <tr>\n",
       "      <th>403</th>\n",
       "      <td>0.675</td>\n",
       "      <td>False</td>\n",
       "      <td>50</td>\n",
       "      <td>None</td>\n",
       "      <td>gini</td>\n",
       "      <td>15</td>\n",
       "      <td>nan</td>\n",
       "    </tr>\n",
       "    <tr>\n",
       "      <th>475</th>\n",
       "      <td>0.674</td>\n",
       "      <td>False</td>\n",
       "      <td>50</td>\n",
       "      <td>None</td>\n",
       "      <td>gini</td>\n",
       "      <td>15</td>\n",
       "      <td>15.000</td>\n",
       "    </tr>\n",
       "    <tr>\n",
       "      <th>569</th>\n",
       "      <td>0.674</td>\n",
       "      <td>False</td>\n",
       "      <td>30</td>\n",
       "      <td>None</td>\n",
       "      <td>entropy</td>\n",
       "      <td>15</td>\n",
       "      <td>15.000</td>\n",
       "    </tr>\n",
       "    <tr>\n",
       "      <th>401</th>\n",
       "      <td>0.673</td>\n",
       "      <td>False</td>\n",
       "      <td>30</td>\n",
       "      <td>None</td>\n",
       "      <td>gini</td>\n",
       "      <td>15</td>\n",
       "      <td>nan</td>\n",
       "    </tr>\n",
       "    <tr>\n",
       "      <th>497</th>\n",
       "      <td>0.673</td>\n",
       "      <td>False</td>\n",
       "      <td>30</td>\n",
       "      <td>None</td>\n",
       "      <td>entropy</td>\n",
       "      <td>15</td>\n",
       "      <td>nan</td>\n",
       "    </tr>\n",
       "    <tr>\n",
       "      <th>568</th>\n",
       "      <td>0.673</td>\n",
       "      <td>False</td>\n",
       "      <td>20</td>\n",
       "      <td>None</td>\n",
       "      <td>entropy</td>\n",
       "      <td>15</td>\n",
       "      <td>15.000</td>\n",
       "    </tr>\n",
       "    <tr>\n",
       "      <th>474</th>\n",
       "      <td>0.673</td>\n",
       "      <td>False</td>\n",
       "      <td>40</td>\n",
       "      <td>None</td>\n",
       "      <td>gini</td>\n",
       "      <td>15</td>\n",
       "      <td>15.000</td>\n",
       "    </tr>\n",
       "    <tr>\n",
       "      <th>473</th>\n",
       "      <td>0.672</td>\n",
       "      <td>False</td>\n",
       "      <td>30</td>\n",
       "      <td>None</td>\n",
       "      <td>gini</td>\n",
       "      <td>15</td>\n",
       "      <td>15.000</td>\n",
       "    </tr>\n",
       "    <tr>\n",
       "      <th>472</th>\n",
       "      <td>0.672</td>\n",
       "      <td>False</td>\n",
       "      <td>20</td>\n",
       "      <td>None</td>\n",
       "      <td>gini</td>\n",
       "      <td>15</td>\n",
       "      <td>15.000</td>\n",
       "    </tr>\n",
       "    <tr>\n",
       "      <th>567</th>\n",
       "      <td>0.672</td>\n",
       "      <td>False</td>\n",
       "      <td>90</td>\n",
       "      <td>None</td>\n",
       "      <td>entropy</td>\n",
       "      <td>10</td>\n",
       "      <td>15.000</td>\n",
       "    </tr>\n",
       "    <tr>\n",
       "      <th>495</th>\n",
       "      <td>0.671</td>\n",
       "      <td>False</td>\n",
       "      <td>90</td>\n",
       "      <td>None</td>\n",
       "      <td>entropy</td>\n",
       "      <td>10</td>\n",
       "      <td>nan</td>\n",
       "    </tr>\n",
       "    <tr>\n",
       "      <th>496</th>\n",
       "      <td>0.671</td>\n",
       "      <td>False</td>\n",
       "      <td>20</td>\n",
       "      <td>None</td>\n",
       "      <td>entropy</td>\n",
       "      <td>15</td>\n",
       "      <td>nan</td>\n",
       "    </tr>\n",
       "    <tr>\n",
       "      <th>400</th>\n",
       "      <td>0.671</td>\n",
       "      <td>False</td>\n",
       "      <td>20</td>\n",
       "      <td>None</td>\n",
       "      <td>gini</td>\n",
       "      <td>15</td>\n",
       "      <td>nan</td>\n",
       "    </tr>\n",
       "    <tr>\n",
       "      <th>494</th>\n",
       "      <td>0.671</td>\n",
       "      <td>False</td>\n",
       "      <td>80</td>\n",
       "      <td>None</td>\n",
       "      <td>entropy</td>\n",
       "      <td>10</td>\n",
       "      <td>nan</td>\n",
       "    </tr>\n",
       "    <tr>\n",
       "      <th>492</th>\n",
       "      <td>0.671</td>\n",
       "      <td>False</td>\n",
       "      <td>60</td>\n",
       "      <td>None</td>\n",
       "      <td>entropy</td>\n",
       "      <td>10</td>\n",
       "      <td>nan</td>\n",
       "    </tr>\n",
       "    <tr>\n",
       "      <th>565</th>\n",
       "      <td>0.671</td>\n",
       "      <td>False</td>\n",
       "      <td>70</td>\n",
       "      <td>None</td>\n",
       "      <td>entropy</td>\n",
       "      <td>10</td>\n",
       "      <td>15.000</td>\n",
       "    </tr>\n",
       "    <tr>\n",
       "      <th>566</th>\n",
       "      <td>0.670</td>\n",
       "      <td>False</td>\n",
       "      <td>80</td>\n",
       "      <td>None</td>\n",
       "      <td>entropy</td>\n",
       "      <td>10</td>\n",
       "      <td>15.000</td>\n",
       "    </tr>\n",
       "    <tr>\n",
       "      <th>399</th>\n",
       "      <td>0.670</td>\n",
       "      <td>False</td>\n",
       "      <td>90</td>\n",
       "      <td>None</td>\n",
       "      <td>gini</td>\n",
       "      <td>10</td>\n",
       "      <td>nan</td>\n",
       "    </tr>\n",
       "    <tr>\n",
       "      <th>563</th>\n",
       "      <td>0.670</td>\n",
       "      <td>False</td>\n",
       "      <td>50</td>\n",
       "      <td>None</td>\n",
       "      <td>entropy</td>\n",
       "      <td>10</td>\n",
       "      <td>15.000</td>\n",
       "    </tr>\n",
       "    <tr>\n",
       "      <th>564</th>\n",
       "      <td>0.670</td>\n",
       "      <td>False</td>\n",
       "      <td>60</td>\n",
       "      <td>None</td>\n",
       "      <td>entropy</td>\n",
       "      <td>10</td>\n",
       "      <td>15.000</td>\n",
       "    </tr>\n",
       "    <tr>\n",
       "      <th>493</th>\n",
       "      <td>0.670</td>\n",
       "      <td>False</td>\n",
       "      <td>70</td>\n",
       "      <td>None</td>\n",
       "      <td>entropy</td>\n",
       "      <td>10</td>\n",
       "      <td>nan</td>\n",
       "    </tr>\n",
       "  </tbody>\n",
       "</table>\n",
       "</div>"
      ],
      "text/plain": [
       "     Score bootstrap  n_estimators class_weight criterion  max_features  \\\n",
       "502  0.677     False            80         None   entropy            15   \n",
       "573  0.677     False            70         None   entropy            15   \n",
       "503  0.677     False            90         None   entropy            15   \n",
       "575  0.677     False            90         None   entropy            15   \n",
       "574  0.676     False            80         None   entropy            15   \n",
       "501  0.676     False            70         None   entropy            15   \n",
       "406  0.676     False            80         None      gini            15   \n",
       "500  0.676     False            60         None   entropy            15   \n",
       "498  0.676     False            40         None   entropy            15   \n",
       "405  0.676     False            70         None      gini            15   \n",
       "407  0.676     False            90         None      gini            15   \n",
       "404  0.676     False            60         None      gini            15   \n",
       "572  0.676     False            60         None   entropy            15   \n",
       "402  0.675     False            40         None      gini            15   \n",
       "571  0.675     False            50         None   entropy            15   \n",
       "476  0.675     False            60         None      gini            15   \n",
       "477  0.675     False            70         None      gini            15   \n",
       "499  0.675     False            50         None   entropy            15   \n",
       "478  0.675     False            80         None      gini            15   \n",
       "570  0.675     False            40         None   entropy            15   \n",
       "479  0.675     False            90         None      gini            15   \n",
       "403  0.675     False            50         None      gini            15   \n",
       "475  0.674     False            50         None      gini            15   \n",
       "569  0.674     False            30         None   entropy            15   \n",
       "401  0.673     False            30         None      gini            15   \n",
       "497  0.673     False            30         None   entropy            15   \n",
       "568  0.673     False            20         None   entropy            15   \n",
       "474  0.673     False            40         None      gini            15   \n",
       "473  0.672     False            30         None      gini            15   \n",
       "472  0.672     False            20         None      gini            15   \n",
       "567  0.672     False            90         None   entropy            10   \n",
       "495  0.671     False            90         None   entropy            10   \n",
       "496  0.671     False            20         None   entropy            15   \n",
       "400  0.671     False            20         None      gini            15   \n",
       "494  0.671     False            80         None   entropy            10   \n",
       "492  0.671     False            60         None   entropy            10   \n",
       "565  0.671     False            70         None   entropy            10   \n",
       "566  0.670     False            80         None   entropy            10   \n",
       "399  0.670     False            90         None      gini            10   \n",
       "563  0.670     False            50         None   entropy            10   \n",
       "564  0.670     False            60         None   entropy            10   \n",
       "493  0.670     False            70         None   entropy            10   \n",
       "\n",
       "     max_depth  \n",
       "502        nan  \n",
       "573     15.000  \n",
       "503        nan  \n",
       "575     15.000  \n",
       "574     15.000  \n",
       "501        nan  \n",
       "406        nan  \n",
       "500        nan  \n",
       "498        nan  \n",
       "405        nan  \n",
       "407        nan  \n",
       "404        nan  \n",
       "572     15.000  \n",
       "402        nan  \n",
       "571     15.000  \n",
       "476     15.000  \n",
       "477     15.000  \n",
       "499        nan  \n",
       "478     15.000  \n",
       "570     15.000  \n",
       "479     15.000  \n",
       "403        nan  \n",
       "475     15.000  \n",
       "569     15.000  \n",
       "401        nan  \n",
       "497        nan  \n",
       "568     15.000  \n",
       "474     15.000  \n",
       "473     15.000  \n",
       "472     15.000  \n",
       "567     15.000  \n",
       "495        nan  \n",
       "496        nan  \n",
       "400        nan  \n",
       "494        nan  \n",
       "492        nan  \n",
       "565     15.000  \n",
       "566     15.000  \n",
       "399        nan  \n",
       "563     15.000  \n",
       "564     15.000  \n",
       "493        nan  "
      ]
     },
     "execution_count": 11,
     "metadata": {},
     "output_type": "execute_result"
    }
   ],
   "source": [
    "data = []\n",
    "indices = []\n",
    "for i in range(len(grid.cv_results_['mean_test_score'])):\n",
    "    if grid.cv_results_['mean_test_score'][i] > 0.67:\n",
    "        row = np.append(grid.cv_results_['mean_test_score'][i], list(grid.cv_results_['params'][i].values()))\n",
    "        data.append(row)\n",
    "        indices += [i]\n",
    "grid_best_df = pd.DataFrame(data=data,columns=['Score'] + list(grid.param_grid.keys()), index=indices)\n",
    "grid_best_df['Score'] = grid_best_df['Score'].astype(float)\n",
    "grid_best_df.sort(columns=['Score'], ascending=False)"
   ]
  },
  {
   "cell_type": "code",
   "execution_count": 12,
   "metadata": {
    "collapsed": true,
    "deletable": true,
    "editable": true
   },
   "outputs": [],
   "source": [
    "grid = joblib.load('grid_rfc_depth_default_my_ponderated_scorer.pkl.gz')"
   ]
  },
  {
   "cell_type": "code",
   "execution_count": 13,
   "metadata": {
    "collapsed": false,
    "deletable": true,
    "editable": true
   },
   "outputs": [
    {
     "data": {
      "text/plain": [
       "{'bootstrap': [True, False],\n",
       " 'class_weight': [None, 'balanced'],\n",
       " 'criterion': ['gini', 'entropy'],\n",
       " 'max_depth': [None, 5, 10, 15],\n",
       " 'max_features': [7, 10, 15],\n",
       " 'n_estimators': [20, 30, 40, 50, 60, 70, 80, 90]}"
      ]
     },
     "execution_count": 13,
     "metadata": {},
     "output_type": "execute_result"
    }
   ],
   "source": [
    "grid.param_grid"
   ]
  },
  {
   "cell_type": "code",
   "execution_count": 14,
   "metadata": {
    "collapsed": false,
    "deletable": true,
    "editable": true
   },
   "outputs": [
    {
     "data": {
      "text/plain": [
       "0.72949066213929681"
      ]
     },
     "execution_count": 14,
     "metadata": {},
     "output_type": "execute_result"
    }
   ],
   "source": [
    "grid.best_score_"
   ]
  },
  {
   "cell_type": "code",
   "execution_count": 15,
   "metadata": {
    "collapsed": false,
    "deletable": true,
    "editable": true
   },
   "outputs": [
    {
     "name": "stderr",
     "output_type": "stream",
     "text": [
      "/home/shurberto/miniconda3/lib/python3.5/site-packages/ipykernel/__main__.py:10: FutureWarning: sort(columns=....) is deprecated, use sort_values(by=.....)\n"
     ]
    },
    {
     "data": {
      "text/html": [
       "<div>\n",
       "<table border=\"1\" class=\"dataframe\">\n",
       "  <thead>\n",
       "    <tr style=\"text-align: right;\">\n",
       "      <th></th>\n",
       "      <th>Score</th>\n",
       "      <th>bootstrap</th>\n",
       "      <th>n_estimators</th>\n",
       "      <th>class_weight</th>\n",
       "      <th>criterion</th>\n",
       "      <th>max_features</th>\n",
       "      <th>max_depth</th>\n",
       "    </tr>\n",
       "  </thead>\n",
       "  <tbody>\n",
       "    <tr>\n",
       "      <th>503</th>\n",
       "      <td>0.729</td>\n",
       "      <td>False</td>\n",
       "      <td>90</td>\n",
       "      <td>None</td>\n",
       "      <td>entropy</td>\n",
       "      <td>15</td>\n",
       "      <td>nan</td>\n",
       "    </tr>\n",
       "    <tr>\n",
       "      <th>574</th>\n",
       "      <td>0.729</td>\n",
       "      <td>False</td>\n",
       "      <td>80</td>\n",
       "      <td>None</td>\n",
       "      <td>entropy</td>\n",
       "      <td>15</td>\n",
       "      <td>15.000</td>\n",
       "    </tr>\n",
       "    <tr>\n",
       "      <th>501</th>\n",
       "      <td>0.729</td>\n",
       "      <td>False</td>\n",
       "      <td>70</td>\n",
       "      <td>None</td>\n",
       "      <td>entropy</td>\n",
       "      <td>15</td>\n",
       "      <td>nan</td>\n",
       "    </tr>\n",
       "    <tr>\n",
       "      <th>575</th>\n",
       "      <td>0.729</td>\n",
       "      <td>False</td>\n",
       "      <td>90</td>\n",
       "      <td>None</td>\n",
       "      <td>entropy</td>\n",
       "      <td>15</td>\n",
       "      <td>15.000</td>\n",
       "    </tr>\n",
       "    <tr>\n",
       "      <th>502</th>\n",
       "      <td>0.729</td>\n",
       "      <td>False</td>\n",
       "      <td>80</td>\n",
       "      <td>None</td>\n",
       "      <td>entropy</td>\n",
       "      <td>15</td>\n",
       "      <td>nan</td>\n",
       "    </tr>\n",
       "    <tr>\n",
       "      <th>573</th>\n",
       "      <td>0.729</td>\n",
       "      <td>False</td>\n",
       "      <td>70</td>\n",
       "      <td>None</td>\n",
       "      <td>entropy</td>\n",
       "      <td>15</td>\n",
       "      <td>15.000</td>\n",
       "    </tr>\n",
       "    <tr>\n",
       "      <th>572</th>\n",
       "      <td>0.729</td>\n",
       "      <td>False</td>\n",
       "      <td>60</td>\n",
       "      <td>None</td>\n",
       "      <td>entropy</td>\n",
       "      <td>15</td>\n",
       "      <td>15.000</td>\n",
       "    </tr>\n",
       "    <tr>\n",
       "      <th>406</th>\n",
       "      <td>0.728</td>\n",
       "      <td>False</td>\n",
       "      <td>80</td>\n",
       "      <td>None</td>\n",
       "      <td>gini</td>\n",
       "      <td>15</td>\n",
       "      <td>nan</td>\n",
       "    </tr>\n",
       "    <tr>\n",
       "      <th>571</th>\n",
       "      <td>0.728</td>\n",
       "      <td>False</td>\n",
       "      <td>50</td>\n",
       "      <td>None</td>\n",
       "      <td>entropy</td>\n",
       "      <td>15</td>\n",
       "      <td>15.000</td>\n",
       "    </tr>\n",
       "    <tr>\n",
       "      <th>405</th>\n",
       "      <td>0.728</td>\n",
       "      <td>False</td>\n",
       "      <td>70</td>\n",
       "      <td>None</td>\n",
       "      <td>gini</td>\n",
       "      <td>15</td>\n",
       "      <td>nan</td>\n",
       "    </tr>\n",
       "    <tr>\n",
       "      <th>499</th>\n",
       "      <td>0.728</td>\n",
       "      <td>False</td>\n",
       "      <td>50</td>\n",
       "      <td>None</td>\n",
       "      <td>entropy</td>\n",
       "      <td>15</td>\n",
       "      <td>nan</td>\n",
       "    </tr>\n",
       "    <tr>\n",
       "      <th>478</th>\n",
       "      <td>0.728</td>\n",
       "      <td>False</td>\n",
       "      <td>80</td>\n",
       "      <td>None</td>\n",
       "      <td>gini</td>\n",
       "      <td>15</td>\n",
       "      <td>15.000</td>\n",
       "    </tr>\n",
       "    <tr>\n",
       "      <th>407</th>\n",
       "      <td>0.728</td>\n",
       "      <td>False</td>\n",
       "      <td>90</td>\n",
       "      <td>None</td>\n",
       "      <td>gini</td>\n",
       "      <td>15</td>\n",
       "      <td>nan</td>\n",
       "    </tr>\n",
       "    <tr>\n",
       "      <th>479</th>\n",
       "      <td>0.728</td>\n",
       "      <td>False</td>\n",
       "      <td>90</td>\n",
       "      <td>None</td>\n",
       "      <td>gini</td>\n",
       "      <td>15</td>\n",
       "      <td>15.000</td>\n",
       "    </tr>\n",
       "    <tr>\n",
       "      <th>570</th>\n",
       "      <td>0.728</td>\n",
       "      <td>False</td>\n",
       "      <td>40</td>\n",
       "      <td>None</td>\n",
       "      <td>entropy</td>\n",
       "      <td>15</td>\n",
       "      <td>15.000</td>\n",
       "    </tr>\n",
       "    <tr>\n",
       "      <th>500</th>\n",
       "      <td>0.727</td>\n",
       "      <td>False</td>\n",
       "      <td>60</td>\n",
       "      <td>None</td>\n",
       "      <td>entropy</td>\n",
       "      <td>15</td>\n",
       "      <td>nan</td>\n",
       "    </tr>\n",
       "    <tr>\n",
       "      <th>477</th>\n",
       "      <td>0.727</td>\n",
       "      <td>False</td>\n",
       "      <td>70</td>\n",
       "      <td>None</td>\n",
       "      <td>gini</td>\n",
       "      <td>15</td>\n",
       "      <td>15.000</td>\n",
       "    </tr>\n",
       "    <tr>\n",
       "      <th>476</th>\n",
       "      <td>0.727</td>\n",
       "      <td>False</td>\n",
       "      <td>60</td>\n",
       "      <td>None</td>\n",
       "      <td>gini</td>\n",
       "      <td>15</td>\n",
       "      <td>15.000</td>\n",
       "    </tr>\n",
       "    <tr>\n",
       "      <th>404</th>\n",
       "      <td>0.727</td>\n",
       "      <td>False</td>\n",
       "      <td>60</td>\n",
       "      <td>None</td>\n",
       "      <td>gini</td>\n",
       "      <td>15</td>\n",
       "      <td>nan</td>\n",
       "    </tr>\n",
       "    <tr>\n",
       "      <th>498</th>\n",
       "      <td>0.727</td>\n",
       "      <td>False</td>\n",
       "      <td>40</td>\n",
       "      <td>None</td>\n",
       "      <td>entropy</td>\n",
       "      <td>15</td>\n",
       "      <td>nan</td>\n",
       "    </tr>\n",
       "    <tr>\n",
       "      <th>475</th>\n",
       "      <td>0.727</td>\n",
       "      <td>False</td>\n",
       "      <td>50</td>\n",
       "      <td>None</td>\n",
       "      <td>gini</td>\n",
       "      <td>15</td>\n",
       "      <td>15.000</td>\n",
       "    </tr>\n",
       "    <tr>\n",
       "      <th>474</th>\n",
       "      <td>0.727</td>\n",
       "      <td>False</td>\n",
       "      <td>40</td>\n",
       "      <td>None</td>\n",
       "      <td>gini</td>\n",
       "      <td>15</td>\n",
       "      <td>15.000</td>\n",
       "    </tr>\n",
       "    <tr>\n",
       "      <th>569</th>\n",
       "      <td>0.727</td>\n",
       "      <td>False</td>\n",
       "      <td>30</td>\n",
       "      <td>None</td>\n",
       "      <td>entropy</td>\n",
       "      <td>15</td>\n",
       "      <td>15.000</td>\n",
       "    </tr>\n",
       "    <tr>\n",
       "      <th>403</th>\n",
       "      <td>0.727</td>\n",
       "      <td>False</td>\n",
       "      <td>50</td>\n",
       "      <td>None</td>\n",
       "      <td>gini</td>\n",
       "      <td>15</td>\n",
       "      <td>nan</td>\n",
       "    </tr>\n",
       "    <tr>\n",
       "      <th>473</th>\n",
       "      <td>0.726</td>\n",
       "      <td>False</td>\n",
       "      <td>30</td>\n",
       "      <td>None</td>\n",
       "      <td>gini</td>\n",
       "      <td>15</td>\n",
       "      <td>15.000</td>\n",
       "    </tr>\n",
       "    <tr>\n",
       "      <th>401</th>\n",
       "      <td>0.726</td>\n",
       "      <td>False</td>\n",
       "      <td>30</td>\n",
       "      <td>None</td>\n",
       "      <td>gini</td>\n",
       "      <td>15</td>\n",
       "      <td>nan</td>\n",
       "    </tr>\n",
       "    <tr>\n",
       "      <th>497</th>\n",
       "      <td>0.726</td>\n",
       "      <td>False</td>\n",
       "      <td>30</td>\n",
       "      <td>None</td>\n",
       "      <td>entropy</td>\n",
       "      <td>15</td>\n",
       "      <td>nan</td>\n",
       "    </tr>\n",
       "    <tr>\n",
       "      <th>402</th>\n",
       "      <td>0.726</td>\n",
       "      <td>False</td>\n",
       "      <td>40</td>\n",
       "      <td>None</td>\n",
       "      <td>gini</td>\n",
       "      <td>15</td>\n",
       "      <td>nan</td>\n",
       "    </tr>\n",
       "    <tr>\n",
       "      <th>494</th>\n",
       "      <td>0.725</td>\n",
       "      <td>False</td>\n",
       "      <td>80</td>\n",
       "      <td>None</td>\n",
       "      <td>entropy</td>\n",
       "      <td>10</td>\n",
       "      <td>nan</td>\n",
       "    </tr>\n",
       "    <tr>\n",
       "      <th>568</th>\n",
       "      <td>0.725</td>\n",
       "      <td>False</td>\n",
       "      <td>20</td>\n",
       "      <td>None</td>\n",
       "      <td>entropy</td>\n",
       "      <td>15</td>\n",
       "      <td>15.000</td>\n",
       "    </tr>\n",
       "    <tr>\n",
       "      <th>...</th>\n",
       "      <td>...</td>\n",
       "      <td>...</td>\n",
       "      <td>...</td>\n",
       "      <td>...</td>\n",
       "      <td>...</td>\n",
       "      <td>...</td>\n",
       "      <td>...</td>\n",
       "    </tr>\n",
       "    <tr>\n",
       "      <th>566</th>\n",
       "      <td>0.725</td>\n",
       "      <td>False</td>\n",
       "      <td>80</td>\n",
       "      <td>None</td>\n",
       "      <td>entropy</td>\n",
       "      <td>10</td>\n",
       "      <td>15.000</td>\n",
       "    </tr>\n",
       "    <tr>\n",
       "      <th>567</th>\n",
       "      <td>0.725</td>\n",
       "      <td>False</td>\n",
       "      <td>90</td>\n",
       "      <td>None</td>\n",
       "      <td>entropy</td>\n",
       "      <td>10</td>\n",
       "      <td>15.000</td>\n",
       "    </tr>\n",
       "    <tr>\n",
       "      <th>472</th>\n",
       "      <td>0.724</td>\n",
       "      <td>False</td>\n",
       "      <td>20</td>\n",
       "      <td>None</td>\n",
       "      <td>gini</td>\n",
       "      <td>15</td>\n",
       "      <td>15.000</td>\n",
       "    </tr>\n",
       "    <tr>\n",
       "      <th>397</th>\n",
       "      <td>0.724</td>\n",
       "      <td>False</td>\n",
       "      <td>70</td>\n",
       "      <td>None</td>\n",
       "      <td>gini</td>\n",
       "      <td>10</td>\n",
       "      <td>nan</td>\n",
       "    </tr>\n",
       "    <tr>\n",
       "      <th>565</th>\n",
       "      <td>0.724</td>\n",
       "      <td>False</td>\n",
       "      <td>70</td>\n",
       "      <td>None</td>\n",
       "      <td>entropy</td>\n",
       "      <td>10</td>\n",
       "      <td>15.000</td>\n",
       "    </tr>\n",
       "    <tr>\n",
       "      <th>564</th>\n",
       "      <td>0.724</td>\n",
       "      <td>False</td>\n",
       "      <td>60</td>\n",
       "      <td>None</td>\n",
       "      <td>entropy</td>\n",
       "      <td>10</td>\n",
       "      <td>15.000</td>\n",
       "    </tr>\n",
       "    <tr>\n",
       "      <th>493</th>\n",
       "      <td>0.724</td>\n",
       "      <td>False</td>\n",
       "      <td>70</td>\n",
       "      <td>None</td>\n",
       "      <td>entropy</td>\n",
       "      <td>10</td>\n",
       "      <td>nan</td>\n",
       "    </tr>\n",
       "    <tr>\n",
       "      <th>492</th>\n",
       "      <td>0.724</td>\n",
       "      <td>False</td>\n",
       "      <td>60</td>\n",
       "      <td>None</td>\n",
       "      <td>entropy</td>\n",
       "      <td>10</td>\n",
       "      <td>nan</td>\n",
       "    </tr>\n",
       "    <tr>\n",
       "      <th>495</th>\n",
       "      <td>0.724</td>\n",
       "      <td>False</td>\n",
       "      <td>90</td>\n",
       "      <td>None</td>\n",
       "      <td>entropy</td>\n",
       "      <td>10</td>\n",
       "      <td>nan</td>\n",
       "    </tr>\n",
       "    <tr>\n",
       "      <th>563</th>\n",
       "      <td>0.724</td>\n",
       "      <td>False</td>\n",
       "      <td>50</td>\n",
       "      <td>None</td>\n",
       "      <td>entropy</td>\n",
       "      <td>10</td>\n",
       "      <td>15.000</td>\n",
       "    </tr>\n",
       "    <tr>\n",
       "      <th>470</th>\n",
       "      <td>0.724</td>\n",
       "      <td>False</td>\n",
       "      <td>80</td>\n",
       "      <td>None</td>\n",
       "      <td>gini</td>\n",
       "      <td>10</td>\n",
       "      <td>15.000</td>\n",
       "    </tr>\n",
       "    <tr>\n",
       "      <th>491</th>\n",
       "      <td>0.724</td>\n",
       "      <td>False</td>\n",
       "      <td>50</td>\n",
       "      <td>None</td>\n",
       "      <td>entropy</td>\n",
       "      <td>10</td>\n",
       "      <td>nan</td>\n",
       "    </tr>\n",
       "    <tr>\n",
       "      <th>562</th>\n",
       "      <td>0.724</td>\n",
       "      <td>False</td>\n",
       "      <td>40</td>\n",
       "      <td>None</td>\n",
       "      <td>entropy</td>\n",
       "      <td>10</td>\n",
       "      <td>15.000</td>\n",
       "    </tr>\n",
       "    <tr>\n",
       "      <th>561</th>\n",
       "      <td>0.724</td>\n",
       "      <td>False</td>\n",
       "      <td>30</td>\n",
       "      <td>None</td>\n",
       "      <td>entropy</td>\n",
       "      <td>10</td>\n",
       "      <td>15.000</td>\n",
       "    </tr>\n",
       "    <tr>\n",
       "      <th>398</th>\n",
       "      <td>0.724</td>\n",
       "      <td>False</td>\n",
       "      <td>80</td>\n",
       "      <td>None</td>\n",
       "      <td>gini</td>\n",
       "      <td>10</td>\n",
       "      <td>nan</td>\n",
       "    </tr>\n",
       "    <tr>\n",
       "      <th>396</th>\n",
       "      <td>0.724</td>\n",
       "      <td>False</td>\n",
       "      <td>60</td>\n",
       "      <td>None</td>\n",
       "      <td>gini</td>\n",
       "      <td>10</td>\n",
       "      <td>nan</td>\n",
       "    </tr>\n",
       "    <tr>\n",
       "      <th>469</th>\n",
       "      <td>0.724</td>\n",
       "      <td>False</td>\n",
       "      <td>70</td>\n",
       "      <td>None</td>\n",
       "      <td>gini</td>\n",
       "      <td>10</td>\n",
       "      <td>15.000</td>\n",
       "    </tr>\n",
       "    <tr>\n",
       "      <th>471</th>\n",
       "      <td>0.723</td>\n",
       "      <td>False</td>\n",
       "      <td>90</td>\n",
       "      <td>None</td>\n",
       "      <td>gini</td>\n",
       "      <td>10</td>\n",
       "      <td>15.000</td>\n",
       "    </tr>\n",
       "    <tr>\n",
       "      <th>400</th>\n",
       "      <td>0.723</td>\n",
       "      <td>False</td>\n",
       "      <td>20</td>\n",
       "      <td>None</td>\n",
       "      <td>gini</td>\n",
       "      <td>15</td>\n",
       "      <td>nan</td>\n",
       "    </tr>\n",
       "    <tr>\n",
       "      <th>399</th>\n",
       "      <td>0.723</td>\n",
       "      <td>False</td>\n",
       "      <td>90</td>\n",
       "      <td>None</td>\n",
       "      <td>gini</td>\n",
       "      <td>10</td>\n",
       "      <td>nan</td>\n",
       "    </tr>\n",
       "    <tr>\n",
       "      <th>395</th>\n",
       "      <td>0.723</td>\n",
       "      <td>False</td>\n",
       "      <td>50</td>\n",
       "      <td>None</td>\n",
       "      <td>gini</td>\n",
       "      <td>10</td>\n",
       "      <td>nan</td>\n",
       "    </tr>\n",
       "    <tr>\n",
       "      <th>490</th>\n",
       "      <td>0.723</td>\n",
       "      <td>False</td>\n",
       "      <td>40</td>\n",
       "      <td>None</td>\n",
       "      <td>entropy</td>\n",
       "      <td>10</td>\n",
       "      <td>nan</td>\n",
       "    </tr>\n",
       "    <tr>\n",
       "      <th>467</th>\n",
       "      <td>0.723</td>\n",
       "      <td>False</td>\n",
       "      <td>50</td>\n",
       "      <td>None</td>\n",
       "      <td>gini</td>\n",
       "      <td>10</td>\n",
       "      <td>15.000</td>\n",
       "    </tr>\n",
       "    <tr>\n",
       "      <th>468</th>\n",
       "      <td>0.723</td>\n",
       "      <td>False</td>\n",
       "      <td>60</td>\n",
       "      <td>None</td>\n",
       "      <td>gini</td>\n",
       "      <td>10</td>\n",
       "      <td>15.000</td>\n",
       "    </tr>\n",
       "    <tr>\n",
       "      <th>466</th>\n",
       "      <td>0.722</td>\n",
       "      <td>False</td>\n",
       "      <td>40</td>\n",
       "      <td>None</td>\n",
       "      <td>gini</td>\n",
       "      <td>10</td>\n",
       "      <td>15.000</td>\n",
       "    </tr>\n",
       "    <tr>\n",
       "      <th>394</th>\n",
       "      <td>0.722</td>\n",
       "      <td>False</td>\n",
       "      <td>40</td>\n",
       "      <td>None</td>\n",
       "      <td>gini</td>\n",
       "      <td>10</td>\n",
       "      <td>nan</td>\n",
       "    </tr>\n",
       "    <tr>\n",
       "      <th>393</th>\n",
       "      <td>0.722</td>\n",
       "      <td>False</td>\n",
       "      <td>30</td>\n",
       "      <td>None</td>\n",
       "      <td>gini</td>\n",
       "      <td>10</td>\n",
       "      <td>nan</td>\n",
       "    </tr>\n",
       "    <tr>\n",
       "      <th>489</th>\n",
       "      <td>0.721</td>\n",
       "      <td>False</td>\n",
       "      <td>30</td>\n",
       "      <td>None</td>\n",
       "      <td>entropy</td>\n",
       "      <td>10</td>\n",
       "      <td>nan</td>\n",
       "    </tr>\n",
       "    <tr>\n",
       "      <th>465</th>\n",
       "      <td>0.721</td>\n",
       "      <td>False</td>\n",
       "      <td>30</td>\n",
       "      <td>None</td>\n",
       "      <td>gini</td>\n",
       "      <td>10</td>\n",
       "      <td>15.000</td>\n",
       "    </tr>\n",
       "    <tr>\n",
       "      <th>560</th>\n",
       "      <td>0.721</td>\n",
       "      <td>False</td>\n",
       "      <td>20</td>\n",
       "      <td>None</td>\n",
       "      <td>entropy</td>\n",
       "      <td>10</td>\n",
       "      <td>15.000</td>\n",
       "    </tr>\n",
       "  </tbody>\n",
       "</table>\n",
       "<p>61 rows × 7 columns</p>\n",
       "</div>"
      ],
      "text/plain": [
       "     Score bootstrap  n_estimators class_weight criterion  max_features  \\\n",
       "503  0.729     False            90         None   entropy            15   \n",
       "574  0.729     False            80         None   entropy            15   \n",
       "501  0.729     False            70         None   entropy            15   \n",
       "575  0.729     False            90         None   entropy            15   \n",
       "502  0.729     False            80         None   entropy            15   \n",
       "573  0.729     False            70         None   entropy            15   \n",
       "572  0.729     False            60         None   entropy            15   \n",
       "406  0.728     False            80         None      gini            15   \n",
       "571  0.728     False            50         None   entropy            15   \n",
       "405  0.728     False            70         None      gini            15   \n",
       "499  0.728     False            50         None   entropy            15   \n",
       "478  0.728     False            80         None      gini            15   \n",
       "407  0.728     False            90         None      gini            15   \n",
       "479  0.728     False            90         None      gini            15   \n",
       "570  0.728     False            40         None   entropy            15   \n",
       "500  0.727     False            60         None   entropy            15   \n",
       "477  0.727     False            70         None      gini            15   \n",
       "476  0.727     False            60         None      gini            15   \n",
       "404  0.727     False            60         None      gini            15   \n",
       "498  0.727     False            40         None   entropy            15   \n",
       "475  0.727     False            50         None      gini            15   \n",
       "474  0.727     False            40         None      gini            15   \n",
       "569  0.727     False            30         None   entropy            15   \n",
       "403  0.727     False            50         None      gini            15   \n",
       "473  0.726     False            30         None      gini            15   \n",
       "401  0.726     False            30         None      gini            15   \n",
       "497  0.726     False            30         None   entropy            15   \n",
       "402  0.726     False            40         None      gini            15   \n",
       "494  0.725     False            80         None   entropy            10   \n",
       "568  0.725     False            20         None   entropy            15   \n",
       "..     ...       ...           ...          ...       ...           ...   \n",
       "566  0.725     False            80         None   entropy            10   \n",
       "567  0.725     False            90         None   entropy            10   \n",
       "472  0.724     False            20         None      gini            15   \n",
       "397  0.724     False            70         None      gini            10   \n",
       "565  0.724     False            70         None   entropy            10   \n",
       "564  0.724     False            60         None   entropy            10   \n",
       "493  0.724     False            70         None   entropy            10   \n",
       "492  0.724     False            60         None   entropy            10   \n",
       "495  0.724     False            90         None   entropy            10   \n",
       "563  0.724     False            50         None   entropy            10   \n",
       "470  0.724     False            80         None      gini            10   \n",
       "491  0.724     False            50         None   entropy            10   \n",
       "562  0.724     False            40         None   entropy            10   \n",
       "561  0.724     False            30         None   entropy            10   \n",
       "398  0.724     False            80         None      gini            10   \n",
       "396  0.724     False            60         None      gini            10   \n",
       "469  0.724     False            70         None      gini            10   \n",
       "471  0.723     False            90         None      gini            10   \n",
       "400  0.723     False            20         None      gini            15   \n",
       "399  0.723     False            90         None      gini            10   \n",
       "395  0.723     False            50         None      gini            10   \n",
       "490  0.723     False            40         None   entropy            10   \n",
       "467  0.723     False            50         None      gini            10   \n",
       "468  0.723     False            60         None      gini            10   \n",
       "466  0.722     False            40         None      gini            10   \n",
       "394  0.722     False            40         None      gini            10   \n",
       "393  0.722     False            30         None      gini            10   \n",
       "489  0.721     False            30         None   entropy            10   \n",
       "465  0.721     False            30         None      gini            10   \n",
       "560  0.721     False            20         None   entropy            10   \n",
       "\n",
       "     max_depth  \n",
       "503        nan  \n",
       "574     15.000  \n",
       "501        nan  \n",
       "575     15.000  \n",
       "502        nan  \n",
       "573     15.000  \n",
       "572     15.000  \n",
       "406        nan  \n",
       "571     15.000  \n",
       "405        nan  \n",
       "499        nan  \n",
       "478     15.000  \n",
       "407        nan  \n",
       "479     15.000  \n",
       "570     15.000  \n",
       "500        nan  \n",
       "477     15.000  \n",
       "476     15.000  \n",
       "404        nan  \n",
       "498        nan  \n",
       "475     15.000  \n",
       "474     15.000  \n",
       "569     15.000  \n",
       "403        nan  \n",
       "473     15.000  \n",
       "401        nan  \n",
       "497        nan  \n",
       "402        nan  \n",
       "494        nan  \n",
       "568     15.000  \n",
       "..         ...  \n",
       "566     15.000  \n",
       "567     15.000  \n",
       "472     15.000  \n",
       "397        nan  \n",
       "565     15.000  \n",
       "564     15.000  \n",
       "493        nan  \n",
       "492        nan  \n",
       "495        nan  \n",
       "563     15.000  \n",
       "470     15.000  \n",
       "491        nan  \n",
       "562     15.000  \n",
       "561     15.000  \n",
       "398        nan  \n",
       "396        nan  \n",
       "469     15.000  \n",
       "471     15.000  \n",
       "400        nan  \n",
       "399        nan  \n",
       "395        nan  \n",
       "490        nan  \n",
       "467     15.000  \n",
       "468     15.000  \n",
       "466     15.000  \n",
       "394        nan  \n",
       "393        nan  \n",
       "489        nan  \n",
       "465     15.000  \n",
       "560     15.000  \n",
       "\n",
       "[61 rows x 7 columns]"
      ]
     },
     "execution_count": 15,
     "metadata": {},
     "output_type": "execute_result"
    }
   ],
   "source": [
    "data = []\n",
    "indices = []\n",
    "for i in range(len(grid.cv_results_['mean_test_score'])):\n",
    "    if grid.cv_results_['mean_test_score'][i] > 0.72:\n",
    "        row = np.append(grid.cv_results_['mean_test_score'][i], list(grid.cv_results_['params'][i].values()))\n",
    "        data.append(row)\n",
    "        indices += [i]\n",
    "grid_best_df = pd.DataFrame(data=data,columns=['Score'] + list(grid.param_grid.keys()), index=indices)\n",
    "grid_best_df['Score'] = grid_best_df['Score'].astype(float)\n",
    "grid_best_df.sort(columns=['Score'], ascending=False)"
   ]
  },
  {
   "cell_type": "code",
   "execution_count": 16,
   "metadata": {
    "collapsed": true,
    "deletable": true,
    "editable": true
   },
   "outputs": [],
   "source": [
    "grid = joblib.load('grid_rfc_depth_default_my_2paired_scorer.pkl.gz')"
   ]
  },
  {
   "cell_type": "code",
   "execution_count": 17,
   "metadata": {
    "collapsed": false,
    "deletable": true,
    "editable": true
   },
   "outputs": [
    {
     "data": {
      "text/plain": [
       "{'bootstrap': [True, False],\n",
       " 'class_weight': [None, 'balanced'],\n",
       " 'criterion': ['gini', 'entropy'],\n",
       " 'max_depth': [None, 5, 10, 15],\n",
       " 'max_features': [7, 10, 15],\n",
       " 'n_estimators': [20, 30, 40, 50, 60, 70, 80, 90]}"
      ]
     },
     "execution_count": 17,
     "metadata": {},
     "output_type": "execute_result"
    }
   ],
   "source": [
    "grid.param_grid"
   ]
  },
  {
   "cell_type": "code",
   "execution_count": 18,
   "metadata": {
    "collapsed": false,
    "deletable": true,
    "editable": true
   },
   "outputs": [
    {
     "data": {
      "text/plain": [
       "0.56428268251273339"
      ]
     },
     "execution_count": 18,
     "metadata": {},
     "output_type": "execute_result"
    }
   ],
   "source": [
    "grid.best_score_"
   ]
  },
  {
   "cell_type": "code",
   "execution_count": 19,
   "metadata": {
    "collapsed": false,
    "deletable": true,
    "editable": true
   },
   "outputs": [
    {
     "name": "stderr",
     "output_type": "stream",
     "text": [
      "/home/shurberto/miniconda3/lib/python3.5/site-packages/ipykernel/__main__.py:10: FutureWarning: sort(columns=....) is deprecated, use sort_values(by=.....)\n"
     ]
    },
    {
     "data": {
      "text/html": [
       "<div>\n",
       "<table border=\"1\" class=\"dataframe\">\n",
       "  <thead>\n",
       "    <tr style=\"text-align: right;\">\n",
       "      <th></th>\n",
       "      <th>Score</th>\n",
       "      <th>bootstrap</th>\n",
       "      <th>n_estimators</th>\n",
       "      <th>class_weight</th>\n",
       "      <th>criterion</th>\n",
       "      <th>max_features</th>\n",
       "      <th>max_depth</th>\n",
       "    </tr>\n",
       "  </thead>\n",
       "  <tbody>\n",
       "    <tr>\n",
       "      <th>575</th>\n",
       "      <td>0.564</td>\n",
       "      <td>False</td>\n",
       "      <td>90</td>\n",
       "      <td>None</td>\n",
       "      <td>entropy</td>\n",
       "      <td>15</td>\n",
       "      <td>15.000</td>\n",
       "    </tr>\n",
       "    <tr>\n",
       "      <th>407</th>\n",
       "      <td>0.564</td>\n",
       "      <td>False</td>\n",
       "      <td>90</td>\n",
       "      <td>None</td>\n",
       "      <td>gini</td>\n",
       "      <td>15</td>\n",
       "      <td>nan</td>\n",
       "    </tr>\n",
       "    <tr>\n",
       "      <th>574</th>\n",
       "      <td>0.564</td>\n",
       "      <td>False</td>\n",
       "      <td>80</td>\n",
       "      <td>None</td>\n",
       "      <td>entropy</td>\n",
       "      <td>15</td>\n",
       "      <td>15.000</td>\n",
       "    </tr>\n",
       "    <tr>\n",
       "      <th>503</th>\n",
       "      <td>0.564</td>\n",
       "      <td>False</td>\n",
       "      <td>90</td>\n",
       "      <td>None</td>\n",
       "      <td>entropy</td>\n",
       "      <td>15</td>\n",
       "      <td>nan</td>\n",
       "    </tr>\n",
       "    <tr>\n",
       "      <th>573</th>\n",
       "      <td>0.563</td>\n",
       "      <td>False</td>\n",
       "      <td>70</td>\n",
       "      <td>None</td>\n",
       "      <td>entropy</td>\n",
       "      <td>15</td>\n",
       "      <td>15.000</td>\n",
       "    </tr>\n",
       "    <tr>\n",
       "      <th>406</th>\n",
       "      <td>0.563</td>\n",
       "      <td>False</td>\n",
       "      <td>80</td>\n",
       "      <td>None</td>\n",
       "      <td>gini</td>\n",
       "      <td>15</td>\n",
       "      <td>nan</td>\n",
       "    </tr>\n",
       "    <tr>\n",
       "      <th>572</th>\n",
       "      <td>0.563</td>\n",
       "      <td>False</td>\n",
       "      <td>60</td>\n",
       "      <td>None</td>\n",
       "      <td>entropy</td>\n",
       "      <td>15</td>\n",
       "      <td>15.000</td>\n",
       "    </tr>\n",
       "    <tr>\n",
       "      <th>502</th>\n",
       "      <td>0.563</td>\n",
       "      <td>False</td>\n",
       "      <td>80</td>\n",
       "      <td>None</td>\n",
       "      <td>entropy</td>\n",
       "      <td>15</td>\n",
       "      <td>nan</td>\n",
       "    </tr>\n",
       "    <tr>\n",
       "      <th>479</th>\n",
       "      <td>0.563</td>\n",
       "      <td>False</td>\n",
       "      <td>90</td>\n",
       "      <td>None</td>\n",
       "      <td>gini</td>\n",
       "      <td>15</td>\n",
       "      <td>15.000</td>\n",
       "    </tr>\n",
       "    <tr>\n",
       "      <th>500</th>\n",
       "      <td>0.563</td>\n",
       "      <td>False</td>\n",
       "      <td>60</td>\n",
       "      <td>None</td>\n",
       "      <td>entropy</td>\n",
       "      <td>15</td>\n",
       "      <td>nan</td>\n",
       "    </tr>\n",
       "    <tr>\n",
       "      <th>405</th>\n",
       "      <td>0.563</td>\n",
       "      <td>False</td>\n",
       "      <td>70</td>\n",
       "      <td>None</td>\n",
       "      <td>gini</td>\n",
       "      <td>15</td>\n",
       "      <td>nan</td>\n",
       "    </tr>\n",
       "    <tr>\n",
       "      <th>501</th>\n",
       "      <td>0.563</td>\n",
       "      <td>False</td>\n",
       "      <td>70</td>\n",
       "      <td>None</td>\n",
       "      <td>entropy</td>\n",
       "      <td>15</td>\n",
       "      <td>nan</td>\n",
       "    </tr>\n",
       "    <tr>\n",
       "      <th>478</th>\n",
       "      <td>0.563</td>\n",
       "      <td>False</td>\n",
       "      <td>80</td>\n",
       "      <td>None</td>\n",
       "      <td>gini</td>\n",
       "      <td>15</td>\n",
       "      <td>15.000</td>\n",
       "    </tr>\n",
       "    <tr>\n",
       "      <th>475</th>\n",
       "      <td>0.563</td>\n",
       "      <td>False</td>\n",
       "      <td>50</td>\n",
       "      <td>None</td>\n",
       "      <td>gini</td>\n",
       "      <td>15</td>\n",
       "      <td>15.000</td>\n",
       "    </tr>\n",
       "    <tr>\n",
       "      <th>477</th>\n",
       "      <td>0.562</td>\n",
       "      <td>False</td>\n",
       "      <td>70</td>\n",
       "      <td>None</td>\n",
       "      <td>gini</td>\n",
       "      <td>15</td>\n",
       "      <td>15.000</td>\n",
       "    </tr>\n",
       "    <tr>\n",
       "      <th>404</th>\n",
       "      <td>0.562</td>\n",
       "      <td>False</td>\n",
       "      <td>60</td>\n",
       "      <td>None</td>\n",
       "      <td>gini</td>\n",
       "      <td>15</td>\n",
       "      <td>nan</td>\n",
       "    </tr>\n",
       "    <tr>\n",
       "      <th>566</th>\n",
       "      <td>0.562</td>\n",
       "      <td>False</td>\n",
       "      <td>80</td>\n",
       "      <td>None</td>\n",
       "      <td>entropy</td>\n",
       "      <td>10</td>\n",
       "      <td>15.000</td>\n",
       "    </tr>\n",
       "    <tr>\n",
       "      <th>499</th>\n",
       "      <td>0.562</td>\n",
       "      <td>False</td>\n",
       "      <td>50</td>\n",
       "      <td>None</td>\n",
       "      <td>entropy</td>\n",
       "      <td>15</td>\n",
       "      <td>nan</td>\n",
       "    </tr>\n",
       "    <tr>\n",
       "      <th>571</th>\n",
       "      <td>0.562</td>\n",
       "      <td>False</td>\n",
       "      <td>50</td>\n",
       "      <td>None</td>\n",
       "      <td>entropy</td>\n",
       "      <td>15</td>\n",
       "      <td>15.000</td>\n",
       "    </tr>\n",
       "    <tr>\n",
       "      <th>563</th>\n",
       "      <td>0.562</td>\n",
       "      <td>False</td>\n",
       "      <td>50</td>\n",
       "      <td>None</td>\n",
       "      <td>entropy</td>\n",
       "      <td>10</td>\n",
       "      <td>15.000</td>\n",
       "    </tr>\n",
       "    <tr>\n",
       "      <th>495</th>\n",
       "      <td>0.562</td>\n",
       "      <td>False</td>\n",
       "      <td>90</td>\n",
       "      <td>None</td>\n",
       "      <td>entropy</td>\n",
       "      <td>10</td>\n",
       "      <td>nan</td>\n",
       "    </tr>\n",
       "    <tr>\n",
       "      <th>474</th>\n",
       "      <td>0.562</td>\n",
       "      <td>False</td>\n",
       "      <td>40</td>\n",
       "      <td>None</td>\n",
       "      <td>gini</td>\n",
       "      <td>15</td>\n",
       "      <td>15.000</td>\n",
       "    </tr>\n",
       "    <tr>\n",
       "      <th>498</th>\n",
       "      <td>0.562</td>\n",
       "      <td>False</td>\n",
       "      <td>40</td>\n",
       "      <td>None</td>\n",
       "      <td>entropy</td>\n",
       "      <td>15</td>\n",
       "      <td>nan</td>\n",
       "    </tr>\n",
       "    <tr>\n",
       "      <th>565</th>\n",
       "      <td>0.562</td>\n",
       "      <td>False</td>\n",
       "      <td>70</td>\n",
       "      <td>None</td>\n",
       "      <td>entropy</td>\n",
       "      <td>10</td>\n",
       "      <td>15.000</td>\n",
       "    </tr>\n",
       "    <tr>\n",
       "      <th>570</th>\n",
       "      <td>0.562</td>\n",
       "      <td>False</td>\n",
       "      <td>40</td>\n",
       "      <td>None</td>\n",
       "      <td>entropy</td>\n",
       "      <td>15</td>\n",
       "      <td>15.000</td>\n",
       "    </tr>\n",
       "    <tr>\n",
       "      <th>402</th>\n",
       "      <td>0.562</td>\n",
       "      <td>False</td>\n",
       "      <td>40</td>\n",
       "      <td>None</td>\n",
       "      <td>gini</td>\n",
       "      <td>15</td>\n",
       "      <td>nan</td>\n",
       "    </tr>\n",
       "    <tr>\n",
       "      <th>403</th>\n",
       "      <td>0.562</td>\n",
       "      <td>False</td>\n",
       "      <td>50</td>\n",
       "      <td>None</td>\n",
       "      <td>gini</td>\n",
       "      <td>15</td>\n",
       "      <td>nan</td>\n",
       "    </tr>\n",
       "    <tr>\n",
       "      <th>564</th>\n",
       "      <td>0.562</td>\n",
       "      <td>False</td>\n",
       "      <td>60</td>\n",
       "      <td>None</td>\n",
       "      <td>entropy</td>\n",
       "      <td>10</td>\n",
       "      <td>15.000</td>\n",
       "    </tr>\n",
       "    <tr>\n",
       "      <th>567</th>\n",
       "      <td>0.561</td>\n",
       "      <td>False</td>\n",
       "      <td>90</td>\n",
       "      <td>None</td>\n",
       "      <td>entropy</td>\n",
       "      <td>10</td>\n",
       "      <td>15.000</td>\n",
       "    </tr>\n",
       "    <tr>\n",
       "      <th>476</th>\n",
       "      <td>0.561</td>\n",
       "      <td>False</td>\n",
       "      <td>60</td>\n",
       "      <td>None</td>\n",
       "      <td>gini</td>\n",
       "      <td>15</td>\n",
       "      <td>15.000</td>\n",
       "    </tr>\n",
       "    <tr>\n",
       "      <th>494</th>\n",
       "      <td>0.561</td>\n",
       "      <td>False</td>\n",
       "      <td>80</td>\n",
       "      <td>None</td>\n",
       "      <td>entropy</td>\n",
       "      <td>10</td>\n",
       "      <td>nan</td>\n",
       "    </tr>\n",
       "    <tr>\n",
       "      <th>493</th>\n",
       "      <td>0.561</td>\n",
       "      <td>False</td>\n",
       "      <td>70</td>\n",
       "      <td>None</td>\n",
       "      <td>entropy</td>\n",
       "      <td>10</td>\n",
       "      <td>nan</td>\n",
       "    </tr>\n",
       "    <tr>\n",
       "      <th>569</th>\n",
       "      <td>0.561</td>\n",
       "      <td>False</td>\n",
       "      <td>30</td>\n",
       "      <td>None</td>\n",
       "      <td>entropy</td>\n",
       "      <td>15</td>\n",
       "      <td>15.000</td>\n",
       "    </tr>\n",
       "    <tr>\n",
       "      <th>399</th>\n",
       "      <td>0.561</td>\n",
       "      <td>False</td>\n",
       "      <td>90</td>\n",
       "      <td>None</td>\n",
       "      <td>gini</td>\n",
       "      <td>10</td>\n",
       "      <td>nan</td>\n",
       "    </tr>\n",
       "    <tr>\n",
       "      <th>562</th>\n",
       "      <td>0.561</td>\n",
       "      <td>False</td>\n",
       "      <td>40</td>\n",
       "      <td>None</td>\n",
       "      <td>entropy</td>\n",
       "      <td>10</td>\n",
       "      <td>15.000</td>\n",
       "    </tr>\n",
       "    <tr>\n",
       "      <th>398</th>\n",
       "      <td>0.561</td>\n",
       "      <td>False</td>\n",
       "      <td>80</td>\n",
       "      <td>None</td>\n",
       "      <td>gini</td>\n",
       "      <td>10</td>\n",
       "      <td>nan</td>\n",
       "    </tr>\n",
       "    <tr>\n",
       "      <th>492</th>\n",
       "      <td>0.560</td>\n",
       "      <td>False</td>\n",
       "      <td>60</td>\n",
       "      <td>None</td>\n",
       "      <td>entropy</td>\n",
       "      <td>10</td>\n",
       "      <td>nan</td>\n",
       "    </tr>\n",
       "    <tr>\n",
       "      <th>397</th>\n",
       "      <td>0.560</td>\n",
       "      <td>False</td>\n",
       "      <td>70</td>\n",
       "      <td>None</td>\n",
       "      <td>gini</td>\n",
       "      <td>10</td>\n",
       "      <td>nan</td>\n",
       "    </tr>\n",
       "    <tr>\n",
       "      <th>471</th>\n",
       "      <td>0.560</td>\n",
       "      <td>False</td>\n",
       "      <td>90</td>\n",
       "      <td>None</td>\n",
       "      <td>gini</td>\n",
       "      <td>10</td>\n",
       "      <td>15.000</td>\n",
       "    </tr>\n",
       "  </tbody>\n",
       "</table>\n",
       "</div>"
      ],
      "text/plain": [
       "     Score bootstrap  n_estimators class_weight criterion  max_features  \\\n",
       "575  0.564     False            90         None   entropy            15   \n",
       "407  0.564     False            90         None      gini            15   \n",
       "574  0.564     False            80         None   entropy            15   \n",
       "503  0.564     False            90         None   entropy            15   \n",
       "573  0.563     False            70         None   entropy            15   \n",
       "406  0.563     False            80         None      gini            15   \n",
       "572  0.563     False            60         None   entropy            15   \n",
       "502  0.563     False            80         None   entropy            15   \n",
       "479  0.563     False            90         None      gini            15   \n",
       "500  0.563     False            60         None   entropy            15   \n",
       "405  0.563     False            70         None      gini            15   \n",
       "501  0.563     False            70         None   entropy            15   \n",
       "478  0.563     False            80         None      gini            15   \n",
       "475  0.563     False            50         None      gini            15   \n",
       "477  0.562     False            70         None      gini            15   \n",
       "404  0.562     False            60         None      gini            15   \n",
       "566  0.562     False            80         None   entropy            10   \n",
       "499  0.562     False            50         None   entropy            15   \n",
       "571  0.562     False            50         None   entropy            15   \n",
       "563  0.562     False            50         None   entropy            10   \n",
       "495  0.562     False            90         None   entropy            10   \n",
       "474  0.562     False            40         None      gini            15   \n",
       "498  0.562     False            40         None   entropy            15   \n",
       "565  0.562     False            70         None   entropy            10   \n",
       "570  0.562     False            40         None   entropy            15   \n",
       "402  0.562     False            40         None      gini            15   \n",
       "403  0.562     False            50         None      gini            15   \n",
       "564  0.562     False            60         None   entropy            10   \n",
       "567  0.561     False            90         None   entropy            10   \n",
       "476  0.561     False            60         None      gini            15   \n",
       "494  0.561     False            80         None   entropy            10   \n",
       "493  0.561     False            70         None   entropy            10   \n",
       "569  0.561     False            30         None   entropy            15   \n",
       "399  0.561     False            90         None      gini            10   \n",
       "562  0.561     False            40         None   entropy            10   \n",
       "398  0.561     False            80         None      gini            10   \n",
       "492  0.560     False            60         None   entropy            10   \n",
       "397  0.560     False            70         None      gini            10   \n",
       "471  0.560     False            90         None      gini            10   \n",
       "\n",
       "     max_depth  \n",
       "575     15.000  \n",
       "407        nan  \n",
       "574     15.000  \n",
       "503        nan  \n",
       "573     15.000  \n",
       "406        nan  \n",
       "572     15.000  \n",
       "502        nan  \n",
       "479     15.000  \n",
       "500        nan  \n",
       "405        nan  \n",
       "501        nan  \n",
       "478     15.000  \n",
       "475     15.000  \n",
       "477     15.000  \n",
       "404        nan  \n",
       "566     15.000  \n",
       "499        nan  \n",
       "571     15.000  \n",
       "563     15.000  \n",
       "495        nan  \n",
       "474     15.000  \n",
       "498        nan  \n",
       "565     15.000  \n",
       "570     15.000  \n",
       "402        nan  \n",
       "403        nan  \n",
       "564     15.000  \n",
       "567     15.000  \n",
       "476     15.000  \n",
       "494        nan  \n",
       "493        nan  \n",
       "569     15.000  \n",
       "399        nan  \n",
       "562     15.000  \n",
       "398        nan  \n",
       "492        nan  \n",
       "397        nan  \n",
       "471     15.000  "
      ]
     },
     "execution_count": 19,
     "metadata": {},
     "output_type": "execute_result"
    }
   ],
   "source": [
    "data = []\n",
    "indices = []\n",
    "for i in range(len(grid.cv_results_['mean_test_score'])):\n",
    "    if grid.cv_results_['mean_test_score'][i] > 0.56:\n",
    "        row = np.append(grid.cv_results_['mean_test_score'][i], list(grid.cv_results_['params'][i].values()))\n",
    "        data.append(row)\n",
    "        indices += [i]\n",
    "grid_best_df = pd.DataFrame(data=data,columns=['Score'] + list(grid.param_grid.keys()), index=indices)\n",
    "grid_best_df['Score'] = grid_best_df['Score'].astype(float)\n",
    "grid_best_df.sort(columns=['Score'], ascending=False)"
   ]
  },
  {
   "cell_type": "code",
   "execution_count": 21,
   "metadata": {
    "collapsed": true,
    "deletable": true,
    "editable": true
   },
   "outputs": [],
   "source": [
    "df = pd.read_csv('../data/training_data.csv', sep='\\t')"
   ]
  },
  {
   "cell_type": "code",
   "execution_count": 22,
   "metadata": {
    "collapsed": false,
    "deletable": true,
    "editable": true
   },
   "outputs": [],
   "source": [
    "from sklearn.preprocessing import binarize \n",
    "from sklearn.preprocessing import OneHotEncoder\n",
    "df = df.assign(is_Table=binarize(df['Table'].values.reshape(-1,1), 0), \n",
    "               is_Columnar=binarize(df['Table'].values.reshape(-1,1), 1),\n",
    "               is_Int=df['DType'].str.contains('int').astype(int),\n",
    "               is_Float=df['DType'].str.contains('float').astype(int),\n",
    "               is_String=(df['DType'].str.contains('S') | df['DType'].str.contains('U')).astype(int))\n",
    "import re\n",
    "def aux_func(s):\n",
    "    n = int(re.findall('\\d+', s)[0])\n",
    "    isNum = re.findall('int|float', s)\n",
    "    if len(isNum) > 0:\n",
    "        return n // 8\n",
    "    else:\n",
    "        return n\n",
    "df['Type_Size'] = [aux_func(s) for s in df['DType']]"
   ]
  },
  {
   "cell_type": "code",
   "execution_count": 23,
   "metadata": {
    "collapsed": true,
    "deletable": true,
    "editable": true
   },
   "outputs": [],
   "source": [
    "df = df.assign(Blosclz=(df['Codec'] == 'blosclz').astype(int),\n",
    "               Lz4=(df['Codec'] == 'lz4').astype(int),\n",
    "               Lz4hc=(df['Codec'] == 'lz4hc').astype(int),\n",
    "               Snappy=(df['Codec'] == 'snappy').astype(int),\n",
    "               Zstd=(df['Codec'] == 'zstd').astype(int),\n",
    "               Shuffle=(df['Filter'] == 'shuffle').astype(int),\n",
    "               Bitshuffle=(df['Filter'] == 'bitshuffle').astype(int))\n",
    "enc_cl = OneHotEncoder()\n",
    "enc_cl.fit(df['CL'].values.reshape(-1, 1))\n",
    "new_cls = enc_cl.transform(df['CL'].values.reshape(-1, 1)).toarray()\n",
    "enc_block = OneHotEncoder()\n",
    "enc_block.fit(df['Block_Size'].values.reshape(-1, 1))\n",
    "new_blocks = enc_block.transform(df['Block_Size'].values.reshape(-1, 1)).toarray()\n",
    "block_sizes = [0, 8, 16, 32, 64, 128, 256, 512, 1024]\n",
    "for i in range(9):\n",
    "    cl_label = 'CL' + str(i+1)\n",
    "    block_label = 'Block_' + str(block_sizes[i])\n",
    "    df[cl_label] = new_cls[:, i]\n",
    "    df[block_label] = new_blocks[:, i]\n",
    "df['Block_2048'] = new_blocks[:, 9]"
   ]
  },
  {
   "cell_type": "code",
   "execution_count": 24,
   "metadata": {
    "collapsed": true,
    "deletable": true,
    "editable": true
   },
   "outputs": [],
   "source": [
    "IN_OPTIONS = ['IN_CR', 'IN_CS', 'IN_DS', 'is_Table', 'is_Columnar', 'is_Int', 'is_Float', 'is_String', 'Type_Size', 'Chunk_Size',\n",
    "              'Mean', 'Median', 'Sd', 'Skew', 'Kurt', 'Min', 'Max', 'Q1', 'Q3', 'BLZ_CRate', 'BLZ_CSpeed', 'BLZ_DSpeed', 'LZ4_CRate',\n",
    "              'LZ4_CSpeed', 'LZ4_DSpeed']\n",
    "OUT_OPTIONS = ['Block_0', 'Block_8', 'Block_16', 'Block_32', 'Block_64', 'Block_128', 'Block_256', 'Block_512', 'Block_1024', 'Block_2048',,\n",
    "               'Blosclz', 'Lz4', 'Lz4hc', 'Snappy', 'Zstd', 'Shuffle', 'Bitshuffle',\n",
    "               'CL1', 'CL2', 'CL3', 'CL4', 'CL5', 'CL6', 'CL7', 'CL8', 'CL9']\n",
    "OUT_CODEC = ['Blosclz', 'Lz4', 'Lz4hc', 'Snappy', 'Zstd']"
   ]
  },
  {
   "cell_type": "code",
   "execution_count": 142,
   "metadata": {
    "collapsed": true,
    "deletable": true,
    "editable": true
   },
   "outputs": [],
   "source": [
    "X, Y = df[IN_OPTIONS].values, df[OUT_CODEC].values"
   ]
  },
  {
   "cell_type": "code",
   "execution_count": 26,
   "metadata": {
    "collapsed": false,
    "deletable": true,
    "editable": true
   },
   "outputs": [],
   "source": [
    "from sklearn.model_selection import ShuffleSplit\n",
    "param_grid = {'n_estimators': [60, 70, 80, 90, 100],\n",
    "              'max_depth': [None, 15, 20, 25, 30],\n",
    "              'criterion': ['entropy'],\n",
    "              'bootstrap': [False],\n",
    "              'max_features': [15, 20, 25],\n",
    "              'class_weight': [None]}\n",
    "ss = ShuffleSplit(n_splits=10, test_size=0.25)\n",
    "rfc = RandomForestClassifier(n_jobs=-1)\n",
    "grid_rfc = GridSearchCV(estimator=rfc, param_grid=param_grid, cv=ss, verbose=1, n_jobs=-1)"
   ]
  },
  {
   "cell_type": "code",
   "execution_count": 27,
   "metadata": {
    "collapsed": false,
    "deletable": true,
    "editable": true
   },
   "outputs": [
    {
     "name": "stdout",
     "output_type": "stream",
     "text": [
      "Fitting 10 folds for each of 75 candidates, totalling 750 fits\n"
     ]
    },
    {
     "name": "stderr",
     "output_type": "stream",
     "text": [
      "[Parallel(n_jobs=-1)]: Done  34 tasks      | elapsed:   21.9s\n",
      "[Parallel(n_jobs=-1)]: Done 184 tasks      | elapsed:  2.2min\n",
      "[Parallel(n_jobs=-1)]: Done 434 tasks      | elapsed:  5.3min\n",
      "[Parallel(n_jobs=-1)]: Done 750 out of 750 | elapsed:  9.3min finished\n"
     ]
    },
    {
     "data": {
      "text/plain": [
       "GridSearchCV(cv=ShuffleSplit(n_splits=10, random_state=None, test_size=0.25, train_size=None),\n",
       "       error_score='raise',\n",
       "       estimator=RandomForestClassifier(bootstrap=True, class_weight=None, criterion='gini',\n",
       "            max_depth=None, max_features='auto', max_leaf_nodes=None,\n",
       "            min_impurity_split=1e-07, min_samples_leaf=1,\n",
       "            min_samples_split=2, min_weight_fraction_leaf=0.0,\n",
       "            n_estimators=10, n_jobs=-1, oob_score=False, random_state=None,\n",
       "            verbose=0, warm_start=False),\n",
       "       fit_params={}, iid=True, n_jobs=-1,\n",
       "       param_grid={'n_estimators': [60, 70, 80, 90, 100], 'bootstrap': [False], 'class_weight': [None], 'criterion': ['entropy'], 'max_features': [15, 20, 25], 'max_depth': [None, 15, 20, 25, 30]},\n",
       "       pre_dispatch='2*n_jobs', refit=True, return_train_score=True,\n",
       "       scoring=None, verbose=1)"
      ]
     },
     "execution_count": 27,
     "metadata": {},
     "output_type": "execute_result"
    }
   ],
   "source": [
    "grid_rfc.fit(X, Y)"
   ]
  },
  {
   "cell_type": "code",
   "execution_count": 28,
   "metadata": {
    "collapsed": false,
    "deletable": true,
    "editable": true
   },
   "outputs": [
    {
     "data": {
      "text/plain": [
       "0.9623938879456706"
      ]
     },
     "execution_count": 28,
     "metadata": {},
     "output_type": "execute_result"
    }
   ],
   "source": [
    "grid_rfc.best_score_"
   ]
  },
  {
   "cell_type": "code",
   "execution_count": 29,
   "metadata": {
    "collapsed": false,
    "deletable": true,
    "editable": true
   },
   "outputs": [
    {
     "data": {
      "text/plain": [
       "{'bootstrap': False,\n",
       " 'class_weight': None,\n",
       " 'criterion': 'entropy',\n",
       " 'max_depth': 20,\n",
       " 'max_features': 15,\n",
       " 'n_estimators': 100}"
      ]
     },
     "execution_count": 29,
     "metadata": {},
     "output_type": "execute_result"
    }
   ],
   "source": [
    "grid_rfc.best_params_"
   ]
  },
  {
   "cell_type": "code",
   "execution_count": 31,
   "metadata": {
    "collapsed": false,
    "deletable": true,
    "editable": true
   },
   "outputs": [
    {
     "name": "stderr",
     "output_type": "stream",
     "text": [
      "/home/shurberto/miniconda3/lib/python3.5/site-packages/ipykernel/__main__.py:11: FutureWarning: sort(columns=....) is deprecated, use sort_values(by=.....)\n"
     ]
    },
    {
     "data": {
      "text/html": [
       "<div>\n",
       "<table border=\"1\" class=\"dataframe\">\n",
       "  <thead>\n",
       "    <tr style=\"text-align: right;\">\n",
       "      <th></th>\n",
       "      <th>Score</th>\n",
       "      <th>n_estimators</th>\n",
       "      <th>bootstrap</th>\n",
       "      <th>class_weight</th>\n",
       "      <th>criterion</th>\n",
       "      <th>max_features</th>\n",
       "      <th>max_depth</th>\n",
       "    </tr>\n",
       "  </thead>\n",
       "  <tbody>\n",
       "    <tr>\n",
       "      <th>34</th>\n",
       "      <td>0.962</td>\n",
       "      <td>False</td>\n",
       "      <td>100</td>\n",
       "      <td>None</td>\n",
       "      <td>entropy</td>\n",
       "      <td>15</td>\n",
       "      <td>20.000</td>\n",
       "    </tr>\n",
       "    <tr>\n",
       "      <th>19</th>\n",
       "      <td>0.962</td>\n",
       "      <td>False</td>\n",
       "      <td>100</td>\n",
       "      <td>None</td>\n",
       "      <td>entropy</td>\n",
       "      <td>15</td>\n",
       "      <td>15.000</td>\n",
       "    </tr>\n",
       "    <tr>\n",
       "      <th>61</th>\n",
       "      <td>0.962</td>\n",
       "      <td>False</td>\n",
       "      <td>70</td>\n",
       "      <td>None</td>\n",
       "      <td>entropy</td>\n",
       "      <td>15</td>\n",
       "      <td>30.000</td>\n",
       "    </tr>\n",
       "    <tr>\n",
       "      <th>4</th>\n",
       "      <td>0.962</td>\n",
       "      <td>False</td>\n",
       "      <td>100</td>\n",
       "      <td>None</td>\n",
       "      <td>entropy</td>\n",
       "      <td>15</td>\n",
       "      <td>nan</td>\n",
       "    </tr>\n",
       "    <tr>\n",
       "      <th>64</th>\n",
       "      <td>0.962</td>\n",
       "      <td>False</td>\n",
       "      <td>100</td>\n",
       "      <td>None</td>\n",
       "      <td>entropy</td>\n",
       "      <td>15</td>\n",
       "      <td>30.000</td>\n",
       "    </tr>\n",
       "    <tr>\n",
       "      <th>16</th>\n",
       "      <td>0.962</td>\n",
       "      <td>False</td>\n",
       "      <td>70</td>\n",
       "      <td>None</td>\n",
       "      <td>entropy</td>\n",
       "      <td>15</td>\n",
       "      <td>15.000</td>\n",
       "    </tr>\n",
       "    <tr>\n",
       "      <th>62</th>\n",
       "      <td>0.962</td>\n",
       "      <td>False</td>\n",
       "      <td>80</td>\n",
       "      <td>None</td>\n",
       "      <td>entropy</td>\n",
       "      <td>15</td>\n",
       "      <td>30.000</td>\n",
       "    </tr>\n",
       "    <tr>\n",
       "      <th>48</th>\n",
       "      <td>0.962</td>\n",
       "      <td>False</td>\n",
       "      <td>90</td>\n",
       "      <td>None</td>\n",
       "      <td>entropy</td>\n",
       "      <td>15</td>\n",
       "      <td>25.000</td>\n",
       "    </tr>\n",
       "    <tr>\n",
       "      <th>1</th>\n",
       "      <td>0.962</td>\n",
       "      <td>False</td>\n",
       "      <td>70</td>\n",
       "      <td>None</td>\n",
       "      <td>entropy</td>\n",
       "      <td>15</td>\n",
       "      <td>nan</td>\n",
       "    </tr>\n",
       "    <tr>\n",
       "      <th>32</th>\n",
       "      <td>0.962</td>\n",
       "      <td>False</td>\n",
       "      <td>80</td>\n",
       "      <td>None</td>\n",
       "      <td>entropy</td>\n",
       "      <td>15</td>\n",
       "      <td>20.000</td>\n",
       "    </tr>\n",
       "    <tr>\n",
       "      <th>31</th>\n",
       "      <td>0.962</td>\n",
       "      <td>False</td>\n",
       "      <td>70</td>\n",
       "      <td>None</td>\n",
       "      <td>entropy</td>\n",
       "      <td>15</td>\n",
       "      <td>20.000</td>\n",
       "    </tr>\n",
       "    <tr>\n",
       "      <th>33</th>\n",
       "      <td>0.962</td>\n",
       "      <td>False</td>\n",
       "      <td>90</td>\n",
       "      <td>None</td>\n",
       "      <td>entropy</td>\n",
       "      <td>15</td>\n",
       "      <td>20.000</td>\n",
       "    </tr>\n",
       "    <tr>\n",
       "      <th>15</th>\n",
       "      <td>0.962</td>\n",
       "      <td>False</td>\n",
       "      <td>60</td>\n",
       "      <td>None</td>\n",
       "      <td>entropy</td>\n",
       "      <td>15</td>\n",
       "      <td>15.000</td>\n",
       "    </tr>\n",
       "    <tr>\n",
       "      <th>45</th>\n",
       "      <td>0.961</td>\n",
       "      <td>False</td>\n",
       "      <td>60</td>\n",
       "      <td>None</td>\n",
       "      <td>entropy</td>\n",
       "      <td>15</td>\n",
       "      <td>25.000</td>\n",
       "    </tr>\n",
       "    <tr>\n",
       "      <th>60</th>\n",
       "      <td>0.961</td>\n",
       "      <td>False</td>\n",
       "      <td>60</td>\n",
       "      <td>None</td>\n",
       "      <td>entropy</td>\n",
       "      <td>15</td>\n",
       "      <td>30.000</td>\n",
       "    </tr>\n",
       "    <tr>\n",
       "      <th>47</th>\n",
       "      <td>0.961</td>\n",
       "      <td>False</td>\n",
       "      <td>80</td>\n",
       "      <td>None</td>\n",
       "      <td>entropy</td>\n",
       "      <td>15</td>\n",
       "      <td>25.000</td>\n",
       "    </tr>\n",
       "    <tr>\n",
       "      <th>18</th>\n",
       "      <td>0.961</td>\n",
       "      <td>False</td>\n",
       "      <td>90</td>\n",
       "      <td>None</td>\n",
       "      <td>entropy</td>\n",
       "      <td>15</td>\n",
       "      <td>15.000</td>\n",
       "    </tr>\n",
       "    <tr>\n",
       "      <th>2</th>\n",
       "      <td>0.961</td>\n",
       "      <td>False</td>\n",
       "      <td>80</td>\n",
       "      <td>None</td>\n",
       "      <td>entropy</td>\n",
       "      <td>15</td>\n",
       "      <td>nan</td>\n",
       "    </tr>\n",
       "    <tr>\n",
       "      <th>63</th>\n",
       "      <td>0.961</td>\n",
       "      <td>False</td>\n",
       "      <td>90</td>\n",
       "      <td>None</td>\n",
       "      <td>entropy</td>\n",
       "      <td>15</td>\n",
       "      <td>30.000</td>\n",
       "    </tr>\n",
       "    <tr>\n",
       "      <th>30</th>\n",
       "      <td>0.961</td>\n",
       "      <td>False</td>\n",
       "      <td>60</td>\n",
       "      <td>None</td>\n",
       "      <td>entropy</td>\n",
       "      <td>15</td>\n",
       "      <td>20.000</td>\n",
       "    </tr>\n",
       "    <tr>\n",
       "      <th>3</th>\n",
       "      <td>0.961</td>\n",
       "      <td>False</td>\n",
       "      <td>90</td>\n",
       "      <td>None</td>\n",
       "      <td>entropy</td>\n",
       "      <td>15</td>\n",
       "      <td>nan</td>\n",
       "    </tr>\n",
       "    <tr>\n",
       "      <th>46</th>\n",
       "      <td>0.961</td>\n",
       "      <td>False</td>\n",
       "      <td>70</td>\n",
       "      <td>None</td>\n",
       "      <td>entropy</td>\n",
       "      <td>15</td>\n",
       "      <td>25.000</td>\n",
       "    </tr>\n",
       "    <tr>\n",
       "      <th>17</th>\n",
       "      <td>0.961</td>\n",
       "      <td>False</td>\n",
       "      <td>80</td>\n",
       "      <td>None</td>\n",
       "      <td>entropy</td>\n",
       "      <td>15</td>\n",
       "      <td>15.000</td>\n",
       "    </tr>\n",
       "    <tr>\n",
       "      <th>0</th>\n",
       "      <td>0.961</td>\n",
       "      <td>False</td>\n",
       "      <td>60</td>\n",
       "      <td>None</td>\n",
       "      <td>entropy</td>\n",
       "      <td>15</td>\n",
       "      <td>nan</td>\n",
       "    </tr>\n",
       "    <tr>\n",
       "      <th>49</th>\n",
       "      <td>0.961</td>\n",
       "      <td>False</td>\n",
       "      <td>100</td>\n",
       "      <td>None</td>\n",
       "      <td>entropy</td>\n",
       "      <td>15</td>\n",
       "      <td>25.000</td>\n",
       "    </tr>\n",
       "  </tbody>\n",
       "</table>\n",
       "</div>"
      ],
      "text/plain": [
       "    Score n_estimators  bootstrap class_weight criterion  max_features  \\\n",
       "34  0.962        False        100         None   entropy            15   \n",
       "19  0.962        False        100         None   entropy            15   \n",
       "61  0.962        False         70         None   entropy            15   \n",
       "4   0.962        False        100         None   entropy            15   \n",
       "64  0.962        False        100         None   entropy            15   \n",
       "16  0.962        False         70         None   entropy            15   \n",
       "62  0.962        False         80         None   entropy            15   \n",
       "48  0.962        False         90         None   entropy            15   \n",
       "1   0.962        False         70         None   entropy            15   \n",
       "32  0.962        False         80         None   entropy            15   \n",
       "31  0.962        False         70         None   entropy            15   \n",
       "33  0.962        False         90         None   entropy            15   \n",
       "15  0.962        False         60         None   entropy            15   \n",
       "45  0.961        False         60         None   entropy            15   \n",
       "60  0.961        False         60         None   entropy            15   \n",
       "47  0.961        False         80         None   entropy            15   \n",
       "18  0.961        False         90         None   entropy            15   \n",
       "2   0.961        False         80         None   entropy            15   \n",
       "63  0.961        False         90         None   entropy            15   \n",
       "30  0.961        False         60         None   entropy            15   \n",
       "3   0.961        False         90         None   entropy            15   \n",
       "46  0.961        False         70         None   entropy            15   \n",
       "17  0.961        False         80         None   entropy            15   \n",
       "0   0.961        False         60         None   entropy            15   \n",
       "49  0.961        False        100         None   entropy            15   \n",
       "\n",
       "    max_depth  \n",
       "34     20.000  \n",
       "19     15.000  \n",
       "61     30.000  \n",
       "4         nan  \n",
       "64     30.000  \n",
       "16     15.000  \n",
       "62     30.000  \n",
       "48     25.000  \n",
       "1         nan  \n",
       "32     20.000  \n",
       "31     20.000  \n",
       "33     20.000  \n",
       "15     15.000  \n",
       "45     25.000  \n",
       "60     30.000  \n",
       "47     25.000  \n",
       "18     15.000  \n",
       "2         nan  \n",
       "63     30.000  \n",
       "30     20.000  \n",
       "3         nan  \n",
       "46     25.000  \n",
       "17     15.000  \n",
       "0         nan  \n",
       "49     25.000  "
      ]
     },
     "execution_count": 31,
     "metadata": {},
     "output_type": "execute_result"
    }
   ],
   "source": [
    "grid = grid_rfc\n",
    "data = []\n",
    "indices = []\n",
    "for i in range(len(grid.cv_results_['mean_test_score'])):\n",
    "    if grid.cv_results_['mean_test_score'][i] > 0.96:\n",
    "        row = np.append(grid.cv_results_['mean_test_score'][i], list(grid.cv_results_['params'][i].values()))\n",
    "        data.append(row)\n",
    "        indices += [i]\n",
    "grid_best_df = pd.DataFrame(data=data,columns=['Score'] + list(grid.param_grid.keys()), index=indices)\n",
    "grid_best_df['Score'] = grid_best_df['Score'].astype(float)\n",
    "grid_best_df.sort(columns=['Score'], ascending=False)"
   ]
  },
  {
   "cell_type": "code",
   "execution_count": 140,
   "metadata": {
    "collapsed": true,
    "deletable": true,
    "editable": true
   },
   "outputs": [],
   "source": [
    "rfc = RandomForestClassifier(n_estimators=70, bootstrap=False, class_weight=None, criterion='entropy',\n",
    "                             max_features=15, max_depth=20, n_jobs=-1)"
   ]
  },
  {
   "cell_type": "code",
   "execution_count": 146,
   "metadata": {
    "collapsed": true,
    "deletable": true,
    "editable": true
   },
   "outputs": [],
   "source": [
    "from sklearn.model_selection import cross_val_score\n",
    "ss = ShuffleSplit(n_splits=10, test_size=0.5)\n",
    "scores = cross_val_score(rfc, X, Y, cv=ss)"
   ]
  },
  {
   "cell_type": "code",
   "execution_count": 147,
   "metadata": {
    "collapsed": false,
    "deletable": true,
    "editable": true
   },
   "outputs": [
    {
     "data": {
      "text/plain": [
       "array([ 0.95755518,  0.9516129 ,  0.95288625,  0.95458404,  0.95755518,\n",
       "        0.9533107 ,  0.95882852,  0.94949066,  0.96052632,  0.95288625])"
      ]
     },
     "execution_count": 147,
     "metadata": {},
     "output_type": "execute_result"
    }
   ],
   "source": [
    "scores"
   ]
  },
  {
   "cell_type": "code",
   "execution_count": 148,
   "metadata": {
    "collapsed": false,
    "deletable": true,
    "editable": true
   },
   "outputs": [
    {
     "name": "stdout",
     "output_type": "stream",
     "text": [
      "Accuracy: 0.95 (+/- 0.01)\n"
     ]
    }
   ],
   "source": [
    "print(\"Accuracy: %0.2f (+/- %0.2f)\" % (scores.mean(), scores.std() * 2))"
   ]
  },
  {
   "cell_type": "code",
   "execution_count": 93,
   "metadata": {
    "collapsed": true,
    "deletable": true,
    "editable": true
   },
   "outputs": [],
   "source": [
    "from sklearn.pipeline import make_pipeline\n",
    "from sklearn import preprocessing\n",
    "clf = make_pipeline(preprocessing.StandardScaler(), rfc)\n",
    "scores = cross_val_score(clf, X, Y, cv=ss)"
   ]
  },
  {
   "cell_type": "code",
   "execution_count": 94,
   "metadata": {
    "collapsed": false,
    "deletable": true,
    "editable": true
   },
   "outputs": [
    {
     "data": {
      "text/plain": [
       "array([ 0.95755518,  0.95840407,  0.95755518,  0.95500849,  0.95840407,\n",
       "        0.96519525,  0.96095076,  0.96943973,  0.96010187,  0.96689304])"
      ]
     },
     "execution_count": 94,
     "metadata": {},
     "output_type": "execute_result"
    }
   ],
   "source": [
    "scores"
   ]
  },
  {
   "cell_type": "code",
   "execution_count": 95,
   "metadata": {
    "collapsed": false,
    "deletable": true,
    "editable": true
   },
   "outputs": [
    {
     "name": "stdout",
     "output_type": "stream",
     "text": [
      "Accuracy: 0.96 (+/- 0.01)\n"
     ]
    }
   ],
   "source": [
    "print(\"Accuracy: %0.2f (+/- %0.2f)\" % (scores.mean(), scores.std() * 2))"
   ]
  },
  {
   "cell_type": "code",
   "execution_count": 132,
   "metadata": {
    "collapsed": false,
    "deletable": true,
    "editable": true
   },
   "outputs": [
    {
     "name": "stdout",
     "output_type": "stream",
     "text": [
      "Fitting 10 folds for each of 1 candidates, totalling 10 fits\n"
     ]
    },
    {
     "name": "stderr",
     "output_type": "stream",
     "text": [
      "[Parallel(n_jobs=-1)]: Done   6 out of  10 | elapsed:    7.5s remaining:    5.0s\n",
      "[Parallel(n_jobs=-1)]: Done  10 out of  10 | elapsed:    9.9s finished\n"
     ]
    },
    {
     "data": {
      "text/plain": [
       "GridSearchCV(cv=ShuffleSplit(n_splits=10, random_state=None, test_size=0.5, train_size=None),\n",
       "       error_score='raise',\n",
       "       estimator=RandomForestClassifier(bootstrap=False, class_weight=None,\n",
       "            criterion='entropy', max_depth=20, max_features=15,\n",
       "            max_leaf_nodes=None, min_impurity_split=1e-07,\n",
       "            min_samples_leaf=1, min_samples_split=2,\n",
       "            min_weight_fraction_leaf=0.0, n_estimators=70, n_jobs=-1,\n",
       "            oob_score=False, random_state=None, verbose=0,\n",
       "            warm_start=False),\n",
       "       fit_params={}, iid=True, n_jobs=-1,\n",
       "       param_grid={'n_estimators': [80], 'bootstrap': [False], 'class_weight': [None], 'criterion': ['entropy'], 'max_features': [15], 'max_depth': [20]},\n",
       "       pre_dispatch='2*n_jobs', refit=True, return_train_score=True,\n",
       "       scoring=None, verbose=1)"
      ]
     },
     "execution_count": 132,
     "metadata": {},
     "output_type": "execute_result"
    }
   ],
   "source": [
    "param_grid = {'n_estimators': [80],\n",
    "              'max_depth': [20],\n",
    "              'criterion': ['entropy'],\n",
    "              'bootstrap': [False],\n",
    "              'max_features': [15],\n",
    "              'class_weight': [None]}\n",
    "grid_rfc = GridSearchCV(estimator=rfc, param_grid=param_grid, cv=ss, verbose=1, n_jobs=-1)\n",
    "grid_rfc.fit(X, Y)"
   ]
  },
  {
   "cell_type": "code",
   "execution_count": 133,
   "metadata": {
    "collapsed": false,
    "deletable": true,
    "editable": true
   },
   "outputs": [
    {
     "data": {
      "text/plain": [
       "1.0"
      ]
     },
     "execution_count": 133,
     "metadata": {},
     "output_type": "execute_result"
    }
   ],
   "source": [
    "grid_rfc.score(X, Y)"
   ]
  },
  {
   "cell_type": "code",
   "execution_count": 108,
   "metadata": {
    "collapsed": false,
    "deletable": true,
    "editable": true
   },
   "outputs": [],
   "source": [
    "OUT_FILTER = ['Shuffle', 'Bitshuffle']\n",
    "aux = np.empty((X.shape[0], X.shape[1]+Y.shape[1]))\n",
    "aux[:,:X.shape[1]] = X\n",
    "aux[:,X.shape[1]:X.shape[1]+Y.shape[1]] = grid_rfc.predict(X)"
   ]
  },
  {
   "cell_type": "code",
   "execution_count": 109,
   "metadata": {
    "collapsed": false,
    "deletable": true,
    "editable": true
   },
   "outputs": [],
   "source": [
    "X = aux\n",
    "Y = df[OUT_FILTER].values"
   ]
  },
  {
   "cell_type": "code",
   "execution_count": 110,
   "metadata": {
    "collapsed": true,
    "deletable": true,
    "editable": true
   },
   "outputs": [],
   "source": [
    "ss = ShuffleSplit(n_splits=10, test_size=0.25)\n",
    "scores = cross_val_score(rfc, X, Y, cv=ss)"
   ]
  },
  {
   "cell_type": "code",
   "execution_count": 111,
   "metadata": {
    "collapsed": false,
    "deletable": true,
    "editable": true
   },
   "outputs": [
    {
     "data": {
      "text/plain": [
       "array([ 0.94227504,  0.96519525,  0.96434635,  0.95415959,  0.9533107 ,\n",
       "        0.96264856,  0.95670628,  0.9533107 ,  0.94651952,  0.96774194])"
      ]
     },
     "execution_count": 111,
     "metadata": {},
     "output_type": "execute_result"
    }
   ],
   "source": [
    "scores"
   ]
  },
  {
   "cell_type": "code",
   "execution_count": 112,
   "metadata": {
    "collapsed": false,
    "deletable": true,
    "editable": true
   },
   "outputs": [
    {
     "name": "stdout",
     "output_type": "stream",
     "text": [
      "Accuracy: 0.96 (+/- 0.02)\n"
     ]
    }
   ],
   "source": [
    "print(\"Accuracy: %0.2f (+/- %0.2f)\" % (scores.mean(), scores.std() * 2))"
   ]
  },
  {
   "cell_type": "code",
   "execution_count": 113,
   "metadata": {
    "collapsed": false,
    "deletable": true,
    "editable": true
   },
   "outputs": [
    {
     "name": "stdout",
     "output_type": "stream",
     "text": [
      "Fitting 10 folds for each of 1 candidates, totalling 10 fits\n"
     ]
    },
    {
     "name": "stderr",
     "output_type": "stream",
     "text": [
      "[Parallel(n_jobs=-1)]: Done   6 out of  10 | elapsed:    2.3s remaining:    1.5s\n",
      "[Parallel(n_jobs=-1)]: Done  10 out of  10 | elapsed:    2.8s finished\n"
     ]
    },
    {
     "data": {
      "text/plain": [
       "GridSearchCV(cv=ShuffleSplit(n_splits=10, random_state=None, test_size=0.25, train_size=None),\n",
       "       error_score='raise',\n",
       "       estimator=RandomForestClassifier(bootstrap=False, class_weight=None,\n",
       "            criterion='entropy', max_depth=20, max_features=15,\n",
       "            max_leaf_nodes=None, min_impurity_split=1e-07,\n",
       "            min_samples_leaf=1, min_samples_split=2,\n",
       "            min_weight_fraction_leaf=0.0, n_estimators=70, n_jobs=-1,\n",
       "            oob_score=False, random_state=None, verbose=0,\n",
       "            warm_start=False),\n",
       "       fit_params={}, iid=True, n_jobs=-1,\n",
       "       param_grid={'n_estimators': [80], 'bootstrap': [False], 'class_weight': [None], 'criterion': ['entropy'], 'max_features': [15], 'max_depth': [20]},\n",
       "       pre_dispatch='2*n_jobs', refit=True, return_train_score=True,\n",
       "       scoring=None, verbose=1)"
      ]
     },
     "execution_count": 113,
     "metadata": {},
     "output_type": "execute_result"
    }
   ],
   "source": [
    "param_grid = {'n_estimators': [80],\n",
    "              'max_depth': [20],\n",
    "              'criterion': ['entropy'],\n",
    "              'bootstrap': [False],\n",
    "              'max_features': [15],\n",
    "              'class_weight': [None]}\n",
    "grid_rfc2 = GridSearchCV(estimator=rfc, param_grid=param_grid, cv=ss, verbose=1, n_jobs=-1)\n",
    "grid_rfc2.fit(X, Y)"
   ]
  },
  {
   "cell_type": "code",
   "execution_count": 114,
   "metadata": {
    "collapsed": false,
    "deletable": true,
    "editable": true
   },
   "outputs": [
    {
     "data": {
      "text/plain": [
       "0.95764006791171474"
      ]
     },
     "execution_count": 114,
     "metadata": {},
     "output_type": "execute_result"
    }
   ],
   "source": [
    "grid_rfc2.best_score_"
   ]
  },
  {
   "cell_type": "code",
   "execution_count": 115,
   "metadata": {
    "collapsed": false,
    "deletable": true,
    "editable": true
   },
   "outputs": [
    {
     "data": {
      "text/plain": [
       "1.0"
      ]
     },
     "execution_count": 115,
     "metadata": {},
     "output_type": "execute_result"
    }
   ],
   "source": [
    "grid_rfc2.score(X, Y)"
   ]
  },
  {
   "cell_type": "code",
   "execution_count": 116,
   "metadata": {
    "collapsed": true,
    "deletable": true,
    "editable": true
   },
   "outputs": [],
   "source": [
    "OUT_LEVELS = ['CL1', 'CL2', 'CL3', 'CL4', 'CL5', 'CL6', 'CL7', 'CL8', 'CL9']\n",
    "aux = np.empty((X.shape[0], X.shape[1]+Y.shape[1]))\n",
    "aux[:,:X.shape[1]] = X\n",
    "aux[:,X.shape[1]:X.shape[1]+Y.shape[1]] = grid_rfc2.predict(X)"
   ]
  },
  {
   "cell_type": "code",
   "execution_count": 117,
   "metadata": {
    "collapsed": true,
    "deletable": true,
    "editable": true
   },
   "outputs": [],
   "source": [
    "X = aux\n",
    "Y = df[OUT_LEVELS].values"
   ]
  },
  {
   "cell_type": "code",
   "execution_count": 118,
   "metadata": {
    "collapsed": true,
    "deletable": true,
    "editable": true
   },
   "outputs": [],
   "source": [
    "scores = cross_val_score(rfc, X, Y, cv=ss)"
   ]
  },
  {
   "cell_type": "code",
   "execution_count": 119,
   "metadata": {
    "collapsed": false,
    "deletable": true,
    "editable": true
   },
   "outputs": [
    {
     "data": {
      "text/plain": [
       "array([ 0.54923599,  0.56451613,  0.55602716,  0.54499151,  0.56960951,\n",
       "        0.56960951,  0.52207131,  0.56791171,  0.55602716,  0.56621392])"
      ]
     },
     "execution_count": 119,
     "metadata": {},
     "output_type": "execute_result"
    }
   ],
   "source": [
    "scores"
   ]
  },
  {
   "cell_type": "code",
   "execution_count": 120,
   "metadata": {
    "collapsed": false,
    "deletable": true,
    "editable": true
   },
   "outputs": [
    {
     "name": "stdout",
     "output_type": "stream",
     "text": [
      "Accuracy: 0.56 (+/- 0.03)\n"
     ]
    }
   ],
   "source": [
    "print(\"Accuracy: %0.2f (+/- %0.2f)\" % (scores.mean(), scores.std() * 2))"
   ]
  },
  {
   "cell_type": "code",
   "execution_count": 121,
   "metadata": {
    "collapsed": false,
    "deletable": true,
    "editable": true
   },
   "outputs": [
    {
     "name": "stdout",
     "output_type": "stream",
     "text": [
      "Fitting 10 folds for each of 1 candidates, totalling 10 fits\n"
     ]
    },
    {
     "name": "stderr",
     "output_type": "stream",
     "text": [
      "[Parallel(n_jobs=-1)]: Done   6 out of  10 | elapsed:   12.4s remaining:    8.2s\n",
      "[Parallel(n_jobs=-1)]: Done  10 out of  10 | elapsed:   15.6s finished\n"
     ]
    },
    {
     "data": {
      "text/plain": [
       "GridSearchCV(cv=ShuffleSplit(n_splits=10, random_state=None, test_size=0.25, train_size=None),\n",
       "       error_score='raise',\n",
       "       estimator=RandomForestClassifier(bootstrap=False, class_weight=None,\n",
       "            criterion='entropy', max_depth=20, max_features=15,\n",
       "            max_leaf_nodes=None, min_impurity_split=1e-07,\n",
       "            min_samples_leaf=1, min_samples_split=2,\n",
       "            min_weight_fraction_leaf=0.0, n_estimators=70, n_jobs=-1,\n",
       "            oob_score=False, random_state=None, verbose=0,\n",
       "            warm_start=False),\n",
       "       fit_params={}, iid=True, n_jobs=-1,\n",
       "       param_grid={'n_estimators': [80], 'bootstrap': [False], 'class_weight': [None], 'criterion': ['entropy'], 'max_features': [15], 'max_depth': [20]},\n",
       "       pre_dispatch='2*n_jobs', refit=True, return_train_score=True,\n",
       "       scoring=None, verbose=1)"
      ]
     },
     "execution_count": 121,
     "metadata": {},
     "output_type": "execute_result"
    }
   ],
   "source": [
    "param_grid = {'n_estimators': [80],\n",
    "              'max_depth': [20],\n",
    "              'criterion': ['entropy'],\n",
    "              'bootstrap': [False],\n",
    "              'max_features': [15],\n",
    "              'class_weight': [None]}\n",
    "grid_rfc3 = GridSearchCV(estimator=rfc, param_grid=param_grid, cv=ss, verbose=1, n_jobs=-1)\n",
    "grid_rfc3.fit(X, Y)"
   ]
  },
  {
   "cell_type": "code",
   "execution_count": 122,
   "metadata": {
    "collapsed": false,
    "deletable": true,
    "editable": true
   },
   "outputs": [
    {
     "data": {
      "text/plain": [
       "0.54779286926994908"
      ]
     },
     "execution_count": 122,
     "metadata": {},
     "output_type": "execute_result"
    }
   ],
   "source": [
    "grid_rfc3.best_score_"
   ]
  },
  {
   "cell_type": "code",
   "execution_count": 123,
   "metadata": {
    "collapsed": false,
    "deletable": true,
    "editable": true
   },
   "outputs": [
    {
     "data": {
      "text/plain": [
       "1.0"
      ]
     },
     "execution_count": 123,
     "metadata": {},
     "output_type": "execute_result"
    }
   ],
   "source": [
    "grid_rfc3.score(X, Y)"
   ]
  },
  {
   "cell_type": "code",
   "execution_count": 124,
   "metadata": {
    "collapsed": true,
    "deletable": true,
    "editable": true
   },
   "outputs": [],
   "source": [
    "OUT_BLOCKS = ['Block_0', 'Block_8', 'Block_16', 'Block_32', 'Block_64', 'Block_128', 'Block_256', 'Block_512', 'Block_1024', 'Block_2048']\n",
    "aux = np.empty((X.shape[0], X.shape[1] + Y.shape[1]))\n",
    "aux[:,:X.shape[1]] = X\n",
    "aux[:,X.shape[1]:X.shape[1] + Y.shape[1]] = grid_rfc3.predict(X)"
   ]
  },
  {
   "cell_type": "code",
   "execution_count": 126,
   "metadata": {
    "collapsed": false,
    "deletable": true,
    "editable": true
   },
   "outputs": [
    {
     "ename": "NameError",
     "evalue": "name 'OUT_BLOCKS' is not defined",
     "output_type": "error",
     "traceback": [
      "\u001b[0;31m---------------------------------------------------------------------------\u001b[0m",
      "\u001b[0;31mNameError\u001b[0m                                 Traceback (most recent call last)",
      "\u001b[0;32m<ipython-input-126-4585d35bf4ab>\u001b[0m in \u001b[0;36m<module>\u001b[0;34m()\u001b[0m\n\u001b[1;32m      1\u001b[0m \u001b[0mX\u001b[0m \u001b[0;34m=\u001b[0m \u001b[0maux\u001b[0m\u001b[0;34m\u001b[0m\u001b[0m\n\u001b[0;32m----> 2\u001b[0;31m \u001b[0mY\u001b[0m \u001b[0;34m=\u001b[0m \u001b[0mdf\u001b[0m\u001b[0;34m[\u001b[0m\u001b[0mOUT_BLOCKS\u001b[0m\u001b[0;34m]\u001b[0m\u001b[0;34m.\u001b[0m\u001b[0mvalues\u001b[0m\u001b[0;34m\u001b[0m\u001b[0m\n\u001b[0m",
      "\u001b[0;31mNameError\u001b[0m: name 'OUT_BLOCKS' is not defined"
     ]
    }
   ],
   "source": [
    "X = aux\n",
    "Y = df[OUT_BLOCKS].values"
   ]
  },
  {
   "cell_type": "code",
   "execution_count": 128,
   "metadata": {
    "collapsed": false,
    "deletable": true,
    "editable": true
   },
   "outputs": [
    {
     "name": "stdout",
     "output_type": "stream",
     "text": [
      "Fitting 10 folds for each of 1 candidates, totalling 10 fits\n"
     ]
    },
    {
     "name": "stderr",
     "output_type": "stream",
     "text": [
      "[Parallel(n_jobs=-1)]: Done   6 out of  10 | elapsed:   10.7s remaining:    7.2s\n",
      "[Parallel(n_jobs=-1)]: Done  10 out of  10 | elapsed:   13.5s finished\n"
     ]
    },
    {
     "data": {
      "text/plain": [
       "GridSearchCV(cv=ShuffleSplit(n_splits=10, random_state=None, test_size=0.25, train_size=None),\n",
       "       error_score='raise',\n",
       "       estimator=RandomForestClassifier(bootstrap=False, class_weight=None,\n",
       "            criterion='entropy', max_depth=20, max_features=15,\n",
       "            max_leaf_nodes=None, min_impurity_split=1e-07,\n",
       "            min_samples_leaf=1, min_samples_split=2,\n",
       "            min_weight_fraction_leaf=0.0, n_estimators=70, n_jobs=-1,\n",
       "            oob_score=False, random_state=None, verbose=0,\n",
       "            warm_start=False),\n",
       "       fit_params={}, iid=True, n_jobs=-1,\n",
       "       param_grid={'n_estimators': [80], 'bootstrap': [False], 'class_weight': [None], 'criterion': ['entropy'], 'max_features': [15], 'max_depth': [20]},\n",
       "       pre_dispatch='2*n_jobs', refit=True, return_train_score=True,\n",
       "       scoring=None, verbose=1)"
      ]
     },
     "execution_count": 128,
     "metadata": {},
     "output_type": "execute_result"
    }
   ],
   "source": [
    "param_grid = {'n_estimators': [80],\n",
    "              'max_depth': [20],\n",
    "              'criterion': ['entropy'],\n",
    "              'bootstrap': [False],\n",
    "              'max_features': [15],\n",
    "              'class_weight': [None]}\n",
    "grid_rfc3 = GridSearchCV(estimator=rfc, param_grid=param_grid, cv=ss, verbose=1, n_jobs=-1)\n",
    "grid_rfc3.fit(X, Y)"
   ]
  },
  {
   "cell_type": "code",
   "execution_count": 129,
   "metadata": {
    "collapsed": false,
    "deletable": true,
    "editable": true
   },
   "outputs": [
    {
     "data": {
      "text/plain": [
       "0.45823429541595928"
      ]
     },
     "execution_count": 129,
     "metadata": {},
     "output_type": "execute_result"
    }
   ],
   "source": [
    "grid_rfc3.best_score_"
   ]
  },
  {
   "cell_type": "code",
   "execution_count": 130,
   "metadata": {
    "collapsed": false,
    "deletable": true,
    "editable": true
   },
   "outputs": [
    {
     "data": {
      "text/plain": [
       "1.0"
      ]
     },
     "execution_count": 130,
     "metadata": {},
     "output_type": "execute_result"
    }
   ],
   "source": [
    "grid_rfc3.score(X, Y)"
   ]
  },
  {
   "cell_type": "markdown",
   "metadata": {
    "deletable": true,
    "editable": true
   },
   "source": [
    "Así pues surge un claro problema, vamos a dividir nuestros datos de entrenamiento de forma equitativa."
   ]
  },
  {
   "cell_type": "code",
   "execution_count": 227,
   "metadata": {
    "collapsed": false,
    "deletable": true,
    "editable": true
   },
   "outputs": [],
   "source": [
    "chunks_df = df.drop_duplicates(subset=['DataSet', 'Table', 'Chunk_Number'])\n",
    "train_data = pd.DataFrame(columns=df.columns.values)\n",
    "test_data = pd.DataFrame(columns=df.columns.values)\n",
    "spliter = ShuffleSplit(n_splits=1, test_size=0.4)\n",
    "for i_train, i_test in spliter.split(chunks_df.values):\n",
    "    aux_train = chunks_df.iloc[i_train][['DataSet', 'Table', 'Chunk_Number']]\n",
    "    aux_test = chunks_df.iloc[i_test][['DataSet', 'Table', 'Chunk_Number']]\n",
    "    for index, row in aux_train.iterrows():\n",
    "        train_data = train_data.append(df[(df.DataSet == row['DataSet']) & (df.Table == row['Table']) &\n",
    "                             (df.Chunk_Number == row['Chunk_Number'])])\n",
    "    for index, row in aux_test.iterrows():\n",
    "        test_data = test_data.append(df[(df.DataSet == row['DataSet']) & (df.Table == row['Table']) &\n",
    "                             (df.Chunk_Number == row['Chunk_Number'])])"
   ]
  },
  {
   "cell_type": "code",
   "execution_count": 246,
   "metadata": {
    "collapsed": false,
    "deletable": true,
    "editable": true
   },
   "outputs": [],
   "source": [
    "X, Y = train_data[IN_OPTIONS].values, train_data[OUT_FILTER].values"
   ]
  },
  {
   "cell_type": "code",
   "execution_count": 247,
   "metadata": {
    "collapsed": true,
    "deletable": true,
    "editable": true
   },
   "outputs": [],
   "source": [
    "Xtest, Ytest = test_data[IN_OPTIONS].values, test_data[OUT_FILTER].values"
   ]
  },
  {
   "cell_type": "code",
   "execution_count": 230,
   "metadata": {
    "collapsed": true,
    "deletable": true,
    "editable": true
   },
   "outputs": [],
   "source": [
    "rfc = RandomForestClassifier(n_estimators=70, bootstrap=False, class_weight=None, criterion='entropy',\n",
    "                             max_features=15, max_depth=20, n_jobs=-1)"
   ]
  },
  {
   "cell_type": "code",
   "execution_count": 231,
   "metadata": {
    "collapsed": false,
    "deletable": true,
    "editable": true
   },
   "outputs": [
    {
     "data": {
      "text/plain": [
       "RandomForestClassifier(bootstrap=False, class_weight=None,\n",
       "            criterion='entropy', max_depth=20, max_features=15,\n",
       "            max_leaf_nodes=None, min_impurity_split=1e-07,\n",
       "            min_samples_leaf=1, min_samples_split=2,\n",
       "            min_weight_fraction_leaf=0.0, n_estimators=70, n_jobs=-1,\n",
       "            oob_score=False, random_state=None, verbose=0,\n",
       "            warm_start=False)"
      ]
     },
     "execution_count": 231,
     "metadata": {},
     "output_type": "execute_result"
    }
   ],
   "source": [
    "rfc.fit(X, Y)"
   ]
  },
  {
   "cell_type": "code",
   "execution_count": 232,
   "metadata": {
    "collapsed": false,
    "deletable": true,
    "editable": true
   },
   "outputs": [
    {
     "data": {
      "text/plain": [
       "0.95767195767195767"
      ]
     },
     "execution_count": 232,
     "metadata": {},
     "output_type": "execute_result"
    }
   ],
   "source": [
    "rfc.score(Xtest, Ytest)"
   ]
  },
  {
   "cell_type": "code",
   "execution_count": 233,
   "metadata": {
    "collapsed": false,
    "deletable": true,
    "editable": true
   },
   "outputs": [
    {
     "data": {
      "text/plain": [
       "['Shuffle', 'Bitshuffle']"
      ]
     },
     "execution_count": 233,
     "metadata": {},
     "output_type": "execute_result"
    }
   ],
   "source": [
    "OUT_FILTER"
   ]
  },
  {
   "cell_type": "code",
   "execution_count": 234,
   "metadata": {
    "collapsed": false,
    "deletable": true,
    "editable": true
   },
   "outputs": [],
   "source": [
    "aux = np.empty((X.shape[0], X.shape[1] + Y.shape[1]))\n",
    "aux[:,:X.shape[1]] = X\n",
    "aux[:,X.shape[1]:X.shape[1] + Y.shape[1]] = rfc.predict(X)\n",
    "\n",
    "aux2 = np.empty((Xtest.shape[0], Xtest.shape[1] + Ytest.shape[1]))\n",
    "aux2[:,:Xtest.shape[1]] = Xtest\n",
    "aux2[:,Xtest.shape[1]:Xtest.shape[1] + Ytest.shape[1]] = rfc.predict(Xtest)"
   ]
  },
  {
   "cell_type": "code",
   "execution_count": 235,
   "metadata": {
    "collapsed": false,
    "deletable": true,
    "editable": true
   },
   "outputs": [],
   "source": [
    "X, Xtest = aux, aux2\n",
    "Y, Ytest = train_data[OUT_FILTER].values, test_data[OUT_FILTER].values"
   ]
  },
  {
   "cell_type": "code",
   "execution_count": 236,
   "metadata": {
    "collapsed": false,
    "deletable": true,
    "editable": true
   },
   "outputs": [
    {
     "data": {
      "text/plain": [
       "RandomForestClassifier(bootstrap=False, class_weight=None,\n",
       "            criterion='entropy', max_depth=20, max_features=15,\n",
       "            max_leaf_nodes=None, min_impurity_split=1e-07,\n",
       "            min_samples_leaf=1, min_samples_split=2,\n",
       "            min_weight_fraction_leaf=0.0, n_estimators=70, n_jobs=-1,\n",
       "            oob_score=False, random_state=None, verbose=0,\n",
       "            warm_start=False)"
      ]
     },
     "execution_count": 236,
     "metadata": {},
     "output_type": "execute_result"
    }
   ],
   "source": [
    "rfc2 = RandomForestClassifier(n_estimators=70, bootstrap=False, class_weight=None, criterion='entropy',\n",
    "                             max_features=15, max_depth=20, n_jobs=-1)\n",
    "rfc2.fit(X,Y)"
   ]
  },
  {
   "cell_type": "code",
   "execution_count": 237,
   "metadata": {
    "collapsed": false,
    "deletable": true,
    "editable": true
   },
   "outputs": [
    {
     "data": {
      "text/plain": [
       "0.94126984126984126"
      ]
     },
     "execution_count": 237,
     "metadata": {},
     "output_type": "execute_result"
    }
   ],
   "source": [
    "rfc2.score(Xtest, Ytest)"
   ]
  },
  {
   "cell_type": "code",
   "execution_count": 238,
   "metadata": {
    "collapsed": false,
    "deletable": true,
    "editable": true
   },
   "outputs": [],
   "source": [
    "OUT_LEVELS = ['CL1', 'CL2', 'CL3', 'CL4', 'CL5', 'CL6', 'CL7', 'CL8', 'CL9']\n",
    "aux = np.empty((X.shape[0], X.shape[1] + Y.shape[1]))\n",
    "aux[:,:X.shape[1]] = X\n",
    "aux[:,X.shape[1]:X.shape[1] + Y.shape[1]] = rfc2.predict(X)\n",
    "\n",
    "aux2 = np.empty((Xtest.shape[0], Xtest.shape[1] + Ytest.shape[1]))\n",
    "aux2[:,:Xtest.shape[1]] = Xtest\n",
    "aux2[:,Xtest.shape[1]:Xtest.shape[1] + Ytest.shape[1]] = rfc2.predict(Xtest)"
   ]
  },
  {
   "cell_type": "code",
   "execution_count": 239,
   "metadata": {
    "collapsed": true,
    "deletable": true,
    "editable": true
   },
   "outputs": [],
   "source": [
    "X, Xtest = aux, aux2\n",
    "Y, Ytest = train_data[OUT_LEVELS].values, test_data[OUT_LEVELS].values"
   ]
  },
  {
   "cell_type": "code",
   "execution_count": 240,
   "metadata": {
    "collapsed": false,
    "deletable": true,
    "editable": true
   },
   "outputs": [
    {
     "data": {
      "text/plain": [
       "RandomForestClassifier(bootstrap=False, class_weight=None,\n",
       "            criterion='entropy', max_depth=20, max_features=15,\n",
       "            max_leaf_nodes=None, min_impurity_split=1e-07,\n",
       "            min_samples_leaf=1, min_samples_split=2,\n",
       "            min_weight_fraction_leaf=0.0, n_estimators=70, n_jobs=-1,\n",
       "            oob_score=False, random_state=None, verbose=0,\n",
       "            warm_start=False)"
      ]
     },
     "execution_count": 240,
     "metadata": {},
     "output_type": "execute_result"
    }
   ],
   "source": [
    "rfc3 = RandomForestClassifier(n_estimators=70, bootstrap=False, class_weight=None, criterion='entropy',\n",
    "                             max_features=15, max_depth=20, n_jobs=-1)\n",
    "rfc3.fit(X,Y)"
   ]
  },
  {
   "cell_type": "code",
   "execution_count": 241,
   "metadata": {
    "collapsed": false,
    "deletable": true,
    "editable": true
   },
   "outputs": [
    {
     "data": {
      "text/plain": [
       "0.49682539682539684"
      ]
     },
     "execution_count": 241,
     "metadata": {},
     "output_type": "execute_result"
    }
   ],
   "source": [
    "rfc3.score(Xtest, Ytest)"
   ]
  },
  {
   "cell_type": "code",
   "execution_count": 242,
   "metadata": {
    "collapsed": true,
    "deletable": true,
    "editable": true
   },
   "outputs": [],
   "source": [
    "OUT_BLOCKS = ['Block_0', 'Block_8', 'Block_16', 'Block_32', 'Block_64', 'Block_128', 'Block_256', 'Block_512', 'Block_1024', 'Block_2048']\n",
    "aux = np.empty((X.shape[0], X.shape[1] + Y.shape[1]))\n",
    "aux[:,:X.shape[1]] = X\n",
    "aux[:,X.shape[1]:X.shape[1] + Y.shape[1]] = rfc3.predict(X)\n",
    "\n",
    "aux2 = np.empty((Xtest.shape[0], Xtest.shape[1] + Ytest.shape[1]))\n",
    "aux2[:,:Xtest.shape[1]] = Xtest\n",
    "aux2[:,Xtest.shape[1]:Xtest.shape[1] + Ytest.shape[1]] = rfc3.predict(Xtest)"
   ]
  },
  {
   "cell_type": "code",
   "execution_count": 243,
   "metadata": {
    "collapsed": true,
    "deletable": true,
    "editable": true
   },
   "outputs": [],
   "source": [
    "X, Xtest = aux, aux2\n",
    "Y, Ytest = train_data[OUT_BLOCKS].values, test_data[OUT_BLOCKS].values"
   ]
  },
  {
   "cell_type": "code",
   "execution_count": 244,
   "metadata": {
    "collapsed": false,
    "deletable": true,
    "editable": true
   },
   "outputs": [
    {
     "data": {
      "text/plain": [
       "RandomForestClassifier(bootstrap=False, class_weight=None,\n",
       "            criterion='entropy', max_depth=20, max_features=15,\n",
       "            max_leaf_nodes=None, min_impurity_split=1e-07,\n",
       "            min_samples_leaf=1, min_samples_split=2,\n",
       "            min_weight_fraction_leaf=0.0, n_estimators=70, n_jobs=-1,\n",
       "            oob_score=False, random_state=None, verbose=0,\n",
       "            warm_start=False)"
      ]
     },
     "execution_count": 244,
     "metadata": {},
     "output_type": "execute_result"
    }
   ],
   "source": [
    "rfc4 = RandomForestClassifier(n_estimators=70, bootstrap=False, class_weight=None, criterion='entropy',\n",
    "                             max_features=15, max_depth=20, n_jobs=-1)\n",
    "rfc4.fit(X,Y)"
   ]
  },
  {
   "cell_type": "code",
   "execution_count": 245,
   "metadata": {
    "collapsed": false,
    "deletable": true,
    "editable": true
   },
   "outputs": [
    {
     "data": {
      "text/plain": [
       "0.38835978835978835"
      ]
     },
     "execution_count": 245,
     "metadata": {},
     "output_type": "execute_result"
    }
   ],
   "source": [
    "rfc4.score(Xtest, Ytest)"
   ]
  },
  {
   "cell_type": "code",
   "execution_count": null,
   "metadata": {
    "collapsed": true,
    "deletable": true,
    "editable": true
   },
   "outputs": [],
   "source": []
  }
 ],
 "metadata": {
  "anaconda-cloud": {},
  "kernelspec": {
   "display_name": "Python 3",
   "language": "python",
   "name": "python3"
  },
  "language_info": {
   "codemirror_mode": {
    "name": "ipython",
    "version": 3
   },
   "file_extension": ".py",
   "mimetype": "text/x-python",
   "name": "python",
   "nbconvert_exporter": "python",
   "pygments_lexer": "ipython3",
   "version": "3.5.3"
  }
 },
 "nbformat": 4,
 "nbformat_minor": 1
}
